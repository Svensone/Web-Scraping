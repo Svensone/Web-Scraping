{
  "nbformat": 4,
  "nbformat_minor": 0,
  "metadata": {
    "colab": {
      "name": "WebScraping Covid/Bali.ipynb",
      "provenance": [],
      "collapsed_sections": [],
      "mount_file_id": "1occJKjDbu9Z3XANGrOufbsKiypjNLqTr",
      "authorship_tag": "ABX9TyOvIR3Xun4WYEKnzACvxSlv",
      "include_colab_link": true
    },
    "kernelspec": {
      "name": "python3",
      "display_name": "Python 3"
    }
  },
  "cells": [
    {
      "cell_type": "markdown",
      "metadata": {
        "id": "view-in-github",
        "colab_type": "text"
      },
      "source": [
        "<a href=\"https://colab.research.google.com/github/Svensone/Web-Scraping/blob/master/WebScraping_Covid_Bali.ipynb\" target=\"_parent\"><img src=\"https://colab.research.google.com/assets/colab-badge.svg\" alt=\"Open In Colab\"/></a>"
      ]
    },
    {
      "cell_type": "code",
      "metadata": {
        "id": "GyaN0buVwi-n"
      },
      "source": [
        ""
      ],
      "execution_count": null,
      "outputs": []
    },
    {
      "cell_type": "markdown",
      "metadata": {
        "id": "9H9OYDDxwh6l"
      },
      "source": [
        "# Summary\n",
        "\n",
        "1) get covid cases per regency in Bali\n",
        "\n",
        "2) additional data for Bali Province\n",
        "- population and area of regencies\n",
        "- hospital beds\n",
        "\n",
        "3) comparison on national level\n"
      ]
    },
    {
      "cell_type": "code",
      "metadata": {
        "id": "4WSnRMwvOnd-",
        "colab": {
          "base_uri": "https://localhost:8080/"
        },
        "outputId": "f1fc031c-261e-4053-8341-c8be5fb861ff"
      },
      "source": [
        "## install necessary dependencies etc.\n",
        "\n",
        "!pip install scrapy"
      ],
      "execution_count": 2,
      "outputs": [
        {
          "output_type": "stream",
          "text": [
            "Collecting scrapy\n",
            "\u001b[?25l  Downloading https://files.pythonhosted.org/packages/3a/16/3c7c37caf25f91aa21db194655515718c2a15f704f9f5c59a194f5c83db0/Scrapy-2.4.1-py2.py3-none-any.whl (239kB)\n",
            "\r\u001b[K     |█▍                              | 10kB 13.9MB/s eta 0:00:01\r\u001b[K     |██▊                             | 20kB 11.1MB/s eta 0:00:01\r\u001b[K     |████                            | 30kB 7.9MB/s eta 0:00:01\r\u001b[K     |█████▌                          | 40kB 7.0MB/s eta 0:00:01\r\u001b[K     |██████▉                         | 51kB 3.9MB/s eta 0:00:01\r\u001b[K     |████████▏                       | 61kB 4.5MB/s eta 0:00:01\r\u001b[K     |█████████▋                      | 71kB 4.7MB/s eta 0:00:01\r\u001b[K     |███████████                     | 81kB 5.1MB/s eta 0:00:01\r\u001b[K     |████████████▎                   | 92kB 5.4MB/s eta 0:00:01\r\u001b[K     |█████████████▊                  | 102kB 5.1MB/s eta 0:00:01\r\u001b[K     |███████████████                 | 112kB 5.1MB/s eta 0:00:01\r\u001b[K     |████████████████▍               | 122kB 5.1MB/s eta 0:00:01\r\u001b[K     |█████████████████▊              | 133kB 5.1MB/s eta 0:00:01\r\u001b[K     |███████████████████▏            | 143kB 5.1MB/s eta 0:00:01\r\u001b[K     |████████████████████▌           | 153kB 5.1MB/s eta 0:00:01\r\u001b[K     |█████████████████████▉          | 163kB 5.1MB/s eta 0:00:01\r\u001b[K     |███████████████████████▎        | 174kB 5.1MB/s eta 0:00:01\r\u001b[K     |████████████████████████▋       | 184kB 5.1MB/s eta 0:00:01\r\u001b[K     |██████████████████████████      | 194kB 5.1MB/s eta 0:00:01\r\u001b[K     |███████████████████████████▍    | 204kB 5.1MB/s eta 0:00:01\r\u001b[K     |████████████████████████████▊   | 215kB 5.1MB/s eta 0:00:01\r\u001b[K     |██████████████████████████████  | 225kB 5.1MB/s eta 0:00:01\r\u001b[K     |███████████████████████████████▍| 235kB 5.1MB/s eta 0:00:01\r\u001b[K     |████████████████████████████████| 245kB 5.1MB/s \n",
            "\u001b[?25hCollecting parsel>=1.5.0\n",
            "  Downloading https://files.pythonhosted.org/packages/23/1e/9b39d64cbab79d4362cdd7be7f5e9623d45c4a53b3f7522cd8210df52d8e/parsel-1.6.0-py2.py3-none-any.whl\n",
            "Collecting service-identity>=16.0.0\n",
            "  Downloading https://files.pythonhosted.org/packages/e9/7c/2195b890023e098f9618d43ebc337d83c8b38d414326685339eb024db2f6/service_identity-18.1.0-py2.py3-none-any.whl\n",
            "Collecting w3lib>=1.17.0\n",
            "  Downloading https://files.pythonhosted.org/packages/a3/59/b6b14521090e7f42669cafdb84b0ab89301a42f1f1a82fcf5856661ea3a7/w3lib-1.22.0-py2.py3-none-any.whl\n",
            "Collecting protego>=0.1.15\n",
            "\u001b[?25l  Downloading https://files.pythonhosted.org/packages/db/6e/bf6d5e4d7cf233b785719aaec2c38f027b9c2ed980a0015ec1a1cced4893/Protego-0.1.16.tar.gz (3.2MB)\n",
            "\u001b[K     |████████████████████████████████| 3.2MB 6.9MB/s \n",
            "\u001b[?25hCollecting PyDispatcher>=2.0.5\n",
            "  Downloading https://files.pythonhosted.org/packages/cd/37/39aca520918ce1935bea9c356bcbb7ed7e52ad4e31bff9b943dfc8e7115b/PyDispatcher-2.0.5.tar.gz\n",
            "Requirement already satisfied: lxml>=3.5.0; platform_python_implementation == \"CPython\" in /usr/local/lib/python3.6/dist-packages (from scrapy) (4.2.6)\n",
            "Collecting pyOpenSSL>=16.2.0\n",
            "\u001b[?25l  Downloading https://files.pythonhosted.org/packages/9e/de/f8342b68fa9e981d348039954657bdf681b2ab93de27443be51865ffa310/pyOpenSSL-19.1.0-py2.py3-none-any.whl (53kB)\n",
            "\u001b[K     |████████████████████████████████| 61kB 5.7MB/s \n",
            "\u001b[?25hCollecting cryptography>=2.0\n",
            "\u001b[?25l  Downloading https://files.pythonhosted.org/packages/4c/a2/6565c5271a79e3c96d7a079053b4d8408a740d4bf365f0f5f244a807bd09/cryptography-3.2.1-cp35-abi3-manylinux2010_x86_64.whl (2.6MB)\n",
            "\u001b[K     |████████████████████████████████| 2.6MB 28.7MB/s \n",
            "\u001b[?25hCollecting itemloaders>=1.0.1\n",
            "  Downloading https://files.pythonhosted.org/packages/b3/2b/eb2ddf7becf834679273a6f79ffdc6fbedf07c5272e2eddf412582143c0e/itemloaders-1.0.4-py3-none-any.whl\n",
            "Collecting itemadapter>=0.1.0\n",
            "  Downloading https://files.pythonhosted.org/packages/88/83/ab33780fd93278e699561d61862d27343c95d3fe0a0081acd73e8e26a649/itemadapter-0.2.0-py3-none-any.whl\n",
            "Collecting zope.interface>=4.1.3\n",
            "\u001b[?25l  Downloading https://files.pythonhosted.org/packages/82/b0/da8afd9b3bd50c7665ecdac062f182982af1173c9081f9af7261091c5588/zope.interface-5.2.0-cp36-cp36m-manylinux2010_x86_64.whl (236kB)\n",
            "\u001b[K     |████████████████████████████████| 245kB 40.2MB/s \n",
            "\u001b[?25hCollecting cssselect>=0.9.1\n",
            "  Downloading https://files.pythonhosted.org/packages/3b/d4/3b5c17f00cce85b9a1e6f91096e1cc8e8ede2e1be8e96b87ce1ed09e92c5/cssselect-1.1.0-py2.py3-none-any.whl\n",
            "Collecting Twisted>=17.9.0\n",
            "\u001b[?25l  Downloading https://files.pythonhosted.org/packages/b7/04/1a664c9e5ec0224a1c1a154ddecaa4dc7b8967521bba225efcc41a03d5f3/Twisted-20.3.0-cp36-cp36m-manylinux1_x86_64.whl (3.1MB)\n",
            "\u001b[K     |████████████████████████████████| 3.1MB 36.5MB/s \n",
            "\u001b[?25hCollecting queuelib>=1.4.2\n",
            "  Downloading https://files.pythonhosted.org/packages/4c/85/ae64e9145f39dd6d14f8af3fa809a270ef3729f3b90b3c0cf5aa242ab0d4/queuelib-1.5.0-py2.py3-none-any.whl\n",
            "Requirement already satisfied: six>=1.6.0 in /usr/local/lib/python3.6/dist-packages (from parsel>=1.5.0->scrapy) (1.15.0)\n",
            "Requirement already satisfied: pyasn1 in /usr/local/lib/python3.6/dist-packages (from service-identity>=16.0.0->scrapy) (0.4.8)\n",
            "Requirement already satisfied: pyasn1-modules in /usr/local/lib/python3.6/dist-packages (from service-identity>=16.0.0->scrapy) (0.2.8)\n",
            "Requirement already satisfied: attrs>=16.0.0 in /usr/local/lib/python3.6/dist-packages (from service-identity>=16.0.0->scrapy) (20.2.0)\n",
            "Requirement already satisfied: cffi!=1.11.3,>=1.8 in /usr/local/lib/python3.6/dist-packages (from cryptography>=2.0->scrapy) (1.14.3)\n",
            "Collecting jmespath>=0.9.5\n",
            "  Downloading https://files.pythonhosted.org/packages/07/cb/5f001272b6faeb23c1c9e0acc04d48eaaf5c862c17709d20e3469c6e0139/jmespath-0.10.0-py2.py3-none-any.whl\n",
            "Requirement already satisfied: setuptools in /usr/local/lib/python3.6/dist-packages (from zope.interface>=4.1.3->scrapy) (50.3.2)\n",
            "Collecting PyHamcrest!=1.10.0,>=1.9.0\n",
            "\u001b[?25l  Downloading https://files.pythonhosted.org/packages/40/16/e54cc65891f01cb62893540f44ffd3e8dab0a22443e1b438f1a9f5574bee/PyHamcrest-2.0.2-py3-none-any.whl (52kB)\n",
            "\u001b[K     |████████████████████████████████| 61kB 6.6MB/s \n",
            "\u001b[?25hCollecting Automat>=0.3.0\n",
            "  Downloading https://files.pythonhosted.org/packages/dd/83/5f6f3c1a562674d65efc320257bdc0873ec53147835aeef7762fe7585273/Automat-20.2.0-py2.py3-none-any.whl\n",
            "Collecting incremental>=16.10.1\n",
            "  Downloading https://files.pythonhosted.org/packages/f5/1d/c98a587dc06e107115cf4a58b49de20b19222c83d75335a192052af4c4b7/incremental-17.5.0-py2.py3-none-any.whl\n",
            "Collecting constantly>=15.1\n",
            "  Downloading https://files.pythonhosted.org/packages/b9/65/48c1909d0c0aeae6c10213340ce682db01b48ea900a7d9fce7a7910ff318/constantly-15.1.0-py2.py3-none-any.whl\n",
            "Collecting hyperlink>=17.1.1\n",
            "\u001b[?25l  Downloading https://files.pythonhosted.org/packages/88/a5/74f77547e9b175eb894d4fec5c76b0c8176c045e5bf3ac6a4d4d3feab4bb/hyperlink-20.0.1-py2.py3-none-any.whl (48kB)\n",
            "\u001b[K     |████████████████████████████████| 51kB 4.5MB/s \n",
            "\u001b[?25hRequirement already satisfied: pycparser in /usr/local/lib/python3.6/dist-packages (from cffi!=1.11.3,>=1.8->cryptography>=2.0->scrapy) (2.20)\n",
            "Requirement already satisfied: idna>=2.5 in /usr/local/lib/python3.6/dist-packages (from hyperlink>=17.1.1->Twisted>=17.9.0->scrapy) (2.10)\n",
            "Building wheels for collected packages: protego, PyDispatcher\n",
            "  Building wheel for protego (setup.py) ... \u001b[?25l\u001b[?25hdone\n",
            "  Created wheel for protego: filename=Protego-0.1.16-cp36-none-any.whl size=7765 sha256=f3e8c2343869092bfcd044b424611b2195e9640f5b6c871c973c4eb776536732\n",
            "  Stored in directory: /root/.cache/pip/wheels/51/01/d1/4a2286a976dccd025ba679acacfe37320540df0f2283ecab12\n",
            "  Building wheel for PyDispatcher (setup.py) ... \u001b[?25l\u001b[?25hdone\n",
            "  Created wheel for PyDispatcher: filename=PyDispatcher-2.0.5-cp36-none-any.whl size=11517 sha256=796204185a1b6d460d940aa4126e81eafa1e0fa2b08cda1dc41d923cb3cc3cb7\n",
            "  Stored in directory: /root/.cache/pip/wheels/88/99/96/cfef6665f9cb1522ee6757ae5955feedf2fe25f1737f91fa7f\n",
            "Successfully built protego PyDispatcher\n",
            "Installing collected packages: w3lib, cssselect, parsel, cryptography, service-identity, protego, PyDispatcher, pyOpenSSL, itemadapter, jmespath, itemloaders, zope.interface, PyHamcrest, Automat, incremental, constantly, hyperlink, Twisted, queuelib, scrapy\n",
            "Successfully installed Automat-20.2.0 PyDispatcher-2.0.5 PyHamcrest-2.0.2 Twisted-20.3.0 constantly-15.1.0 cryptography-3.2.1 cssselect-1.1.0 hyperlink-20.0.1 incremental-17.5.0 itemadapter-0.2.0 itemloaders-1.0.4 jmespath-0.10.0 parsel-1.6.0 protego-0.1.16 pyOpenSSL-19.1.0 queuelib-1.5.0 scrapy-2.4.1 service-identity-18.1.0 w3lib-1.22.0 zope.interface-5.2.0\n"
          ],
          "name": "stdout"
        }
      ]
    },
    {
      "cell_type": "code",
      "metadata": {
        "id": "s_hilg1AOZLC"
      },
      "source": [
        "## import dependencies\n",
        "\n",
        "# Web Scraping\n",
        "# import scrapy\n",
        "import requests #better than in-built urlib\n",
        "import html5lib\n",
        "from bs4 import BeautifulSoup\n",
        "import time\n",
        "import csv\n",
        "\n",
        "# Data processing\n",
        "import pandas as pd\n"
      ],
      "execution_count": 11,
      "outputs": []
    },
    {
      "cell_type": "markdown",
      "metadata": {
        "id": "a3LaQQvynhXo"
      },
      "source": [
        "## 1. Covid Cases for Bali on Regencies level\n",
        "\n",
        "### scrapying data"
      ]
    },
    {
      "cell_type": "code",
      "metadata": {
        "id": "QipK_r5BOd3k"
      },
      "source": [
        "url = \"https://infocorona.baliprov.go.id/API/pendataan/laporan-harian-01.php\"\n",
        "headers = {'User-Agent': 'Mozilla/5.0'}"
      ],
      "execution_count": 4,
      "outputs": []
    },
    {
      "cell_type": "code",
      "metadata": {
        "id": "NcM7Q8bEPdGs"
      },
      "source": [
        "response = requests.get(url)"
      ],
      "execution_count": 5,
      "outputs": []
    },
    {
      "cell_type": "code",
      "metadata": {
        "colab": {
          "base_uri": "https://localhost:8080/"
        },
        "id": "1g5QxgiUPiZ0",
        "outputId": "595e1acc-a109-415c-94bc-d1fbae627e18"
      },
      "source": [
        "response.status_code"
      ],
      "execution_count": 6,
      "outputs": [
        {
          "output_type": "execute_result",
          "data": {
            "text/plain": [
              "200"
            ]
          },
          "metadata": {
            "tags": []
          },
          "execution_count": 6
        }
      ]
    },
    {
      "cell_type": "code",
      "metadata": {
        "colab": {
          "base_uri": "https://localhost:8080/"
        },
        "id": "Ro9irgRxPkjg",
        "outputId": "68f391be-b245-4f34-b64a-d23b6605d555"
      },
      "source": [
        "response.content"
      ],
      "execution_count": 7,
      "outputs": [
        {
          "output_type": "execute_result",
          "data": {
            "text/plain": [
              "b'<link rel=\"stylesheet\" href=\"https://stackpath.bootstrapcdn.com/bootstrap/4.3.1/css/bootstrap.min.css\" >\\n<link rel=\"stylesheet\" href=\"https://use.fontawesome.com/releases/v5.7.2/css/all.css\">\\n<link rel=\"stylesheet\" href=\"https://pendataan.baliprov.go.id/assets/css/style.css?v=15\">\\n<link rel=\"stylesheet\" href=\"https://pendataan.baliprov.go.id/assets/css/widget-custom.css?v=1\">\\n\\n\\n<section class=\"section\">\\n<div class=\"section-header\" style=\"margin-top: 18px;\"><h1>Laporan Harian Berdasarkan Sumber Penularan pada Tiap Wilayah</h1></div>\\n<div class=\"section-body\"><div class=\"card\"><div class=\"card-body\">\\n\\n\\n<div class=\\'alert alert-info\\' role=\\'alert\\'>\\n    <b>Informasi!</b> Menampilkan data laporan tanggal 20 Nov 2020 \\n</div>\\n<div class=\"table-responsive text-center\">\\n    <table class=\"table table-bordered table-striped text-center\" border=\"1\">\\n    <thead>\\n        <tr>\\n            <th rowspan=\"3\">NO</th>\\n            <th rowspan=\"3\">KABUPATEN / KOTA</th>\\n            <th colspan=\"10\">SUMBER PENULARAN POSITIF COVID-19 DI BALI</th>\\n        </tr>\\n        <tr>\\n            <th colspan=\"2\">PPLN / PMI</th>\\n            <th colspan=\"2\">PPDN</th> \\n            <th colspan=\"2\">Transmisi Lokal</th>\\n            <th colspan=\"2\">Lainnya</th>\\n            <th colspan=\"2\">TOTAL</th>\\n        </tr>\\n        <tr>\\n            <th>+</th>\\n            <th>JMLH</th>\\n            <th>+</th>\\n            <th>JMLH</th>\\n            <th>+</th>\\n            <th>JMLH</th>\\n            <th>+</th>\\n            <th>JMLH</th>\\n            <th>+</th>\\n            <th>JMLH</th>\\n        </tr>\\n    </thead>\\n    <tbody>\\n        <tr><td>1</td><td style=\\'text-align: left;\\'>JEMBRANA</td><td>0</td><td>26</td><td>0</td><td>11</td><td>1</td><td>460</td><td>0</td><td>0</td><td>1</td><td>497</td></tr><tr><td>2</td><td style=\\'text-align: left;\\'>TABANAN</td><td>0</td><td>21</td><td>0</td><td>8</td><td>8</td><td>939</td><td>0</td><td>0</td><td>8</td><td>968</td></tr><tr><td>3</td><td style=\\'text-align: left;\\'>BADUNG</td><td>0</td><td>27</td><td>0</td><td>4</td><td>12</td><td>2241</td><td>0</td><td>0</td><td>12</td><td>2272</td></tr><tr><td>4</td><td style=\\'text-align: left;\\'>DENPASAR</td><td>0</td><td>48</td><td>2</td><td>23</td><td>14</td><td>3541</td><td>0</td><td>0</td><td>16</td><td>3612</td></tr><tr><td>5</td><td style=\\'text-align: left;\\'>GIANYAR</td><td>0</td><td>29</td><td>-2</td><td>10</td><td>6</td><td>1691</td><td>0</td><td>0</td><td>4</td><td>1730</td></tr><tr><td>6</td><td style=\\'text-align: left;\\'>BANGLI</td><td>0</td><td>58</td><td>0</td><td>3</td><td>0</td><td>808</td><td>0</td><td>0</td><td>0</td><td>869</td></tr><tr><td>7</td><td style=\\'text-align: left;\\'>KLUNGKUNG</td><td>0</td><td>19</td><td>0</td><td>0</td><td>9</td><td>900</td><td>0</td><td>0</td><td>9</td><td>919</td></tr><tr><td>8</td><td style=\\'text-align: left;\\'>KARANGASEM</td><td>0</td><td>23</td><td>0</td><td>0</td><td>10</td><td>954</td><td>0</td><td>0</td><td>10</td><td>977</td></tr><tr><td>9</td><td style=\\'text-align: left;\\'>BULELENG</td><td>0</td><td>41</td><td>0</td><td>6</td><td>1</td><td>1098</td><td>0</td><td>0</td><td>1</td><td>1145</td></tr><tr><td>10</td><td style=\\'text-align: left;\\'>KABUPATEN LAINNYA</td><td>0</td><td>5</td><td>0</td><td>30</td><td>0</td><td>11</td><td>0</td><td>0</td><td>0</td><td>46</td></tr><tr><td>11</td><td style=\\'text-align: left;\\'>WARGA NEGARA ASING</td><td>0</td><td>8</td><td>0</td><td>2</td><td>0</td><td>21</td><td>0</td><td>0</td><td>0</td><td>31</td></tr>    </tbody>\\n    <tfoot>\\n        <tr style=\\'background-color: #ff5656;color: #fff;\\'><td colspan=\\'2\\' class=\\'text-left\\'>TOTAL</td><td>0</td><td>305</td><td>0</td><td>97</td><td>61</td><td>12664</td><td>0</td><td>0</td><td>61</td><td>13066</td></tr>    </tfoot>\\n    </table>\\n</div>\\n</div>\\n\\n<div class=\"card-footer\">\\nKeterangan :<br>\\n<ul class=\"listket-lapharianbnpb\">\\n    <li>Data yang tersaji sampai dengan 20 Nov 2020.</li>\\n    <li>Tanda <b>+</b> menunjukkan penambahan data hari ini dibandingkan dengan data kemarin.</li>\\n    <li>Info JMLH menunjukkan jumlah data sampai tanggal hari ini.</li>\\n</ul>\\n</div>\\n\\n</div></div></section>'"
            ]
          },
          "metadata": {
            "tags": []
          },
          "execution_count": 7
        }
      ]
    },
    {
      "cell_type": "code",
      "metadata": {
        "id": "Xfy_irMhPpcP",
        "colab": {
          "base_uri": "https://localhost:8080/"
        },
        "outputId": "f1279072-6bb7-4f12-8cb4-8808c2c770d8"
      },
      "source": [
        "soup = BeautifulSoup(response.content, 'html5lib' ) # or 'html.parser'\n",
        "soup"
      ],
      "execution_count": 12,
      "outputs": [
        {
          "output_type": "execute_result",
          "data": {
            "text/plain": [
              "<html><head><link href=\"https://stackpath.bootstrapcdn.com/bootstrap/4.3.1/css/bootstrap.min.css\" rel=\"stylesheet\"/>\n",
              "<link href=\"https://use.fontawesome.com/releases/v5.7.2/css/all.css\" rel=\"stylesheet\"/>\n",
              "<link href=\"https://pendataan.baliprov.go.id/assets/css/style.css?v=15\" rel=\"stylesheet\"/>\n",
              "<link href=\"https://pendataan.baliprov.go.id/assets/css/widget-custom.css?v=1\" rel=\"stylesheet\"/>\n",
              "\n",
              "\n",
              "</head><body><section class=\"section\">\n",
              "<div class=\"section-header\" style=\"margin-top: 18px;\"><h1>Laporan Harian Berdasarkan Sumber Penularan pada Tiap Wilayah</h1></div>\n",
              "<div class=\"section-body\"><div class=\"card\"><div class=\"card-body\">\n",
              "\n",
              "\n",
              "<div class=\"alert alert-info\" role=\"alert\">\n",
              "    <b>Informasi!</b> Menampilkan data laporan tanggal 20 Nov 2020 \n",
              "</div>\n",
              "<div class=\"table-responsive text-center\">\n",
              "    <table border=\"1\" class=\"table table-bordered table-striped text-center\">\n",
              "    <thead>\n",
              "        <tr>\n",
              "            <th rowspan=\"3\">NO</th>\n",
              "            <th rowspan=\"3\">KABUPATEN / KOTA</th>\n",
              "            <th colspan=\"10\">SUMBER PENULARAN POSITIF COVID-19 DI BALI</th>\n",
              "        </tr>\n",
              "        <tr>\n",
              "            <th colspan=\"2\">PPLN / PMI</th>\n",
              "            <th colspan=\"2\">PPDN</th> \n",
              "            <th colspan=\"2\">Transmisi Lokal</th>\n",
              "            <th colspan=\"2\">Lainnya</th>\n",
              "            <th colspan=\"2\">TOTAL</th>\n",
              "        </tr>\n",
              "        <tr>\n",
              "            <th>+</th>\n",
              "            <th>JMLH</th>\n",
              "            <th>+</th>\n",
              "            <th>JMLH</th>\n",
              "            <th>+</th>\n",
              "            <th>JMLH</th>\n",
              "            <th>+</th>\n",
              "            <th>JMLH</th>\n",
              "            <th>+</th>\n",
              "            <th>JMLH</th>\n",
              "        </tr>\n",
              "    </thead>\n",
              "    <tbody>\n",
              "        <tr><td>1</td><td style=\"text-align: left;\">JEMBRANA</td><td>0</td><td>26</td><td>0</td><td>11</td><td>1</td><td>460</td><td>0</td><td>0</td><td>1</td><td>497</td></tr><tr><td>2</td><td style=\"text-align: left;\">TABANAN</td><td>0</td><td>21</td><td>0</td><td>8</td><td>8</td><td>939</td><td>0</td><td>0</td><td>8</td><td>968</td></tr><tr><td>3</td><td style=\"text-align: left;\">BADUNG</td><td>0</td><td>27</td><td>0</td><td>4</td><td>12</td><td>2241</td><td>0</td><td>0</td><td>12</td><td>2272</td></tr><tr><td>4</td><td style=\"text-align: left;\">DENPASAR</td><td>0</td><td>48</td><td>2</td><td>23</td><td>14</td><td>3541</td><td>0</td><td>0</td><td>16</td><td>3612</td></tr><tr><td>5</td><td style=\"text-align: left;\">GIANYAR</td><td>0</td><td>29</td><td>-2</td><td>10</td><td>6</td><td>1691</td><td>0</td><td>0</td><td>4</td><td>1730</td></tr><tr><td>6</td><td style=\"text-align: left;\">BANGLI</td><td>0</td><td>58</td><td>0</td><td>3</td><td>0</td><td>808</td><td>0</td><td>0</td><td>0</td><td>869</td></tr><tr><td>7</td><td style=\"text-align: left;\">KLUNGKUNG</td><td>0</td><td>19</td><td>0</td><td>0</td><td>9</td><td>900</td><td>0</td><td>0</td><td>9</td><td>919</td></tr><tr><td>8</td><td style=\"text-align: left;\">KARANGASEM</td><td>0</td><td>23</td><td>0</td><td>0</td><td>10</td><td>954</td><td>0</td><td>0</td><td>10</td><td>977</td></tr><tr><td>9</td><td style=\"text-align: left;\">BULELENG</td><td>0</td><td>41</td><td>0</td><td>6</td><td>1</td><td>1098</td><td>0</td><td>0</td><td>1</td><td>1145</td></tr><tr><td>10</td><td style=\"text-align: left;\">KABUPATEN LAINNYA</td><td>0</td><td>5</td><td>0</td><td>30</td><td>0</td><td>11</td><td>0</td><td>0</td><td>0</td><td>46</td></tr><tr><td>11</td><td style=\"text-align: left;\">WARGA NEGARA ASING</td><td>0</td><td>8</td><td>0</td><td>2</td><td>0</td><td>21</td><td>0</td><td>0</td><td>0</td><td>31</td></tr>    </tbody>\n",
              "    <tfoot>\n",
              "        <tr style=\"background-color: #ff5656;color: #fff;\"><td class=\"text-left\" colspan=\"2\">TOTAL</td><td>0</td><td>305</td><td>0</td><td>97</td><td>61</td><td>12664</td><td>0</td><td>0</td><td>61</td><td>13066</td></tr>    </tfoot>\n",
              "    </table>\n",
              "</div>\n",
              "</div>\n",
              "\n",
              "<div class=\"card-footer\">\n",
              "Keterangan :<br/>\n",
              "<ul class=\"listket-lapharianbnpb\">\n",
              "    <li>Data yang tersaji sampai dengan 20 Nov 2020.</li>\n",
              "    <li>Tanda <b>+</b> menunjukkan penambahan data hari ini dibandingkan dengan data kemarin.</li>\n",
              "    <li>Info JMLH menunjukkan jumlah data sampai tanggal hari ini.</li>\n",
              "</ul>\n",
              "</div>\n",
              "\n",
              "</div></div></section></body></html>"
            ]
          },
          "metadata": {
            "tags": []
          },
          "execution_count": 12
        }
      ]
    },
    {
      "cell_type": "markdown",
      "metadata": {
        "id": "9R-xg3bEnn2R"
      },
      "source": [
        "## extract relevant data"
      ]
    },
    {
      "cell_type": "code",
      "metadata": {
        "id": "yynOW-WrQkVt"
      },
      "source": [
        "covid_tables = soup.find_all('table')"
      ],
      "execution_count": 13,
      "outputs": []
    },
    {
      "cell_type": "code",
      "metadata": {
        "colab": {
          "base_uri": "https://localhost:8080/"
        },
        "id": "nwJyEYEZWPL6",
        "outputId": "2ef32872-158a-4e8c-c7ef-cbcc0ccd70e9"
      },
      "source": [
        "len(covid_tables)"
      ],
      "execution_count": 14,
      "outputs": [
        {
          "output_type": "execute_result",
          "data": {
            "text/plain": [
              "1"
            ]
          },
          "metadata": {
            "tags": []
          },
          "execution_count": 14
        }
      ]
    },
    {
      "cell_type": "code",
      "metadata": {
        "colab": {
          "base_uri": "https://localhost:8080/",
          "height": 35
        },
        "id": "S1U8Rcqgf-tX",
        "outputId": "daac5575-7a8e-4370-8313-23d3a00cbd58"
      },
      "source": [
        "## get update-date\n",
        "\n",
        "## MISSING \n",
        "## write code to check if updated\n",
        "\n",
        "## if not yet updated div shows:\n",
        "## \\nInformasi! Menampilkan data laporan tanggal 19 Nov 2020 . Karena data tanggal 20 Nov 2020 belum dipublish.\\n\n",
        "\n",
        "## if updated div shows:\n",
        "## \n",
        "\n",
        "dateUpdated = soup.find('div', class_='alert alert-info').get_text()\n",
        "\n",
        "# print(str(dateUpdated[-11:-2]))\n",
        "if dateUpdated[-11:-2]=='dipublish':\n",
        "  print('No new update yet available')\n",
        "else:\n",
        "  date = dateUpdated[-13:-2]\n",
        "date"
      ],
      "execution_count": 15,
      "outputs": [
        {
          "output_type": "execute_result",
          "data": {
            "application/vnd.google.colaboratory.intrinsic+json": {
              "type": "string"
            },
            "text/plain": [
              "'20 Nov 2020'"
            ]
          },
          "metadata": {
            "tags": []
          },
          "execution_count": 15
        }
      ]
    },
    {
      "cell_type": "code",
      "metadata": {
        "id": "bV14W6RIRAJN",
        "colab": {
          "base_uri": "https://localhost:8080/"
        },
        "outputId": "fc15227c-1d6d-497d-a98e-d3db55e48d71"
      },
      "source": [
        "## extract rows of table\n",
        "\n",
        "table = covid_tables[0]\n",
        "rows = table.find_all('tr')\n",
        "rows"
      ],
      "execution_count": 16,
      "outputs": [
        {
          "output_type": "execute_result",
          "data": {
            "text/plain": [
              "[<tr>\n",
              "             <th rowspan=\"3\">NO</th>\n",
              "             <th rowspan=\"3\">KABUPATEN / KOTA</th>\n",
              "             <th colspan=\"10\">SUMBER PENULARAN POSITIF COVID-19 DI BALI</th>\n",
              "         </tr>, <tr>\n",
              "             <th colspan=\"2\">PPLN / PMI</th>\n",
              "             <th colspan=\"2\">PPDN</th> \n",
              "             <th colspan=\"2\">Transmisi Lokal</th>\n",
              "             <th colspan=\"2\">Lainnya</th>\n",
              "             <th colspan=\"2\">TOTAL</th>\n",
              "         </tr>, <tr>\n",
              "             <th>+</th>\n",
              "             <th>JMLH</th>\n",
              "             <th>+</th>\n",
              "             <th>JMLH</th>\n",
              "             <th>+</th>\n",
              "             <th>JMLH</th>\n",
              "             <th>+</th>\n",
              "             <th>JMLH</th>\n",
              "             <th>+</th>\n",
              "             <th>JMLH</th>\n",
              "         </tr>, <tr><td>1</td><td style=\"text-align: left;\">JEMBRANA</td><td>0</td><td>26</td><td>0</td><td>11</td><td>1</td><td>460</td><td>0</td><td>0</td><td>1</td><td>497</td></tr>, <tr><td>2</td><td style=\"text-align: left;\">TABANAN</td><td>0</td><td>21</td><td>0</td><td>8</td><td>8</td><td>939</td><td>0</td><td>0</td><td>8</td><td>968</td></tr>, <tr><td>3</td><td style=\"text-align: left;\">BADUNG</td><td>0</td><td>27</td><td>0</td><td>4</td><td>12</td><td>2241</td><td>0</td><td>0</td><td>12</td><td>2272</td></tr>, <tr><td>4</td><td style=\"text-align: left;\">DENPASAR</td><td>0</td><td>48</td><td>2</td><td>23</td><td>14</td><td>3541</td><td>0</td><td>0</td><td>16</td><td>3612</td></tr>, <tr><td>5</td><td style=\"text-align: left;\">GIANYAR</td><td>0</td><td>29</td><td>-2</td><td>10</td><td>6</td><td>1691</td><td>0</td><td>0</td><td>4</td><td>1730</td></tr>, <tr><td>6</td><td style=\"text-align: left;\">BANGLI</td><td>0</td><td>58</td><td>0</td><td>3</td><td>0</td><td>808</td><td>0</td><td>0</td><td>0</td><td>869</td></tr>, <tr><td>7</td><td style=\"text-align: left;\">KLUNGKUNG</td><td>0</td><td>19</td><td>0</td><td>0</td><td>9</td><td>900</td><td>0</td><td>0</td><td>9</td><td>919</td></tr>, <tr><td>8</td><td style=\"text-align: left;\">KARANGASEM</td><td>0</td><td>23</td><td>0</td><td>0</td><td>10</td><td>954</td><td>0</td><td>0</td><td>10</td><td>977</td></tr>, <tr><td>9</td><td style=\"text-align: left;\">BULELENG</td><td>0</td><td>41</td><td>0</td><td>6</td><td>1</td><td>1098</td><td>0</td><td>0</td><td>1</td><td>1145</td></tr>, <tr><td>10</td><td style=\"text-align: left;\">KABUPATEN LAINNYA</td><td>0</td><td>5</td><td>0</td><td>30</td><td>0</td><td>11</td><td>0</td><td>0</td><td>0</td><td>46</td></tr>, <tr><td>11</td><td style=\"text-align: left;\">WARGA NEGARA ASING</td><td>0</td><td>8</td><td>0</td><td>2</td><td>0</td><td>21</td><td>0</td><td>0</td><td>0</td><td>31</td></tr>, <tr style=\"background-color: #ff5656;color: #fff;\"><td class=\"text-left\" colspan=\"2\">TOTAL</td><td>0</td><td>305</td><td>0</td><td>97</td><td>61</td><td>12664</td><td>0</td><td>0</td><td>61</td><td>13066</td></tr>]"
            ]
          },
          "metadata": {
            "tags": []
          },
          "execution_count": 16
        }
      ]
    },
    {
      "cell_type": "code",
      "metadata": {
        "id": "NuaOtuD1RCj4"
      },
      "source": [
        "## write data to csv file\n",
        "\n",
        "## save file in folder and add day-date (search how to )\n",
        "path = '/content/drive/MyDrive/Colab Notebooks/EDA and other Data Analysis w. Visualization/'\n",
        "csvFile = open(path +'CovidBali.csv', 'a')\n",
        "writer = csv.writer(csvFile)\n",
        "\n",
        "try:\n",
        "  # write update-date\n",
        "  writer.writerow(['Data from', date, 'from https://infocorona.baliprov.go.id/'])\n",
        "\n",
        "  # get cell data\n",
        "  for row in rows:\n",
        "    csvRow = []\n",
        "    for cell in row.find_all(['td', 'th']):\n",
        "      csvRow.append(cell.get_text())\n",
        "    writer.writerow(csvRow)\n",
        "finally:\n",
        "  csvFile.close()"
      ],
      "execution_count": 17,
      "outputs": []
    },
    {
      "cell_type": "code",
      "metadata": {
        "colab": {
          "base_uri": "https://localhost:8080/"
        },
        "id": "ryFmg6xMbYrX",
        "outputId": "7a9355b8-4870-4802-9df9-ce42e1b65dd6"
      },
      "source": [
        "## check csv File\n",
        "\n",
        "with open(path +'CovidBali.csv', 'r') as f:\n",
        "  for row in f:\n",
        "    print(row)"
      ],
      "execution_count": 19,
      "outputs": [
        {
          "output_type": "stream",
          "text": [
            "﻿Data from;19 Nov 2020;from https://infocorona.baliprov.go.id/;;;;;;;;;\n",
            "\n",
            "# NO;KABUPATEN / KOTA;SUMBER PENULARAN POSITIF COVID-19 DI BALI;;;;;;;;;\n",
            "\n",
            "# PPLN / PMI;PPDN;Transmisi Lokal;Lainnya;TOTAL;;;;;;;\n",
            "\n",
            "# +;JMLH;+;JMLH;+;JMLH;+;JMLH;+;JMLH;;\n",
            "\n",
            "# 1;JEMBRANA;0;26;0;11;5;459;0;0;5;496\n",
            "\n",
            "# 2;TABANAN;0;21;0;8;15;931;0;0;15;960\n",
            "\n",
            "# 3;BADUNG;0;27;0;4;15;2229;0;0;15;2260\n",
            "\n",
            "# 4;DENPASAR;0;48;0;21;28;3527;0;0;28;3596\n",
            "\n",
            "# 5;GIANYAR;0;29;0;12;14;1685;0;0;14;1726\n",
            "\n",
            "# 6;BANGLI;0;58;0;3;0;808;0;0;0;869\n",
            "\n",
            "# 7;KLUNGKUNG;0;19;0;0;0;891;0;0;0;910\n",
            "\n",
            "# 8;KARANGASEM;0;23;0;0;6;944;0;0;6;967\n",
            "\n",
            "# 9;BULELENG;0;41;0;6;5;1097;0;0;5;1144\n",
            "\n",
            "# 10;KABUPATEN LAINNYA;0;5;0;30;0;11;0;0;0;46\n",
            "\n",
            "# 11;WARGA NEGARA ASING;0;8;0;2;0;21;0;0;0;31\n",
            "\n",
            "# TOTAL;0;305;0;97;88;12603;0;0;88;13005;\n",
            "\n",
            "Data from,20 Nov 2020,from https://infocorona.baliprov.go.id/\n",
            "\n",
            "NO,KABUPATEN / KOTA,SUMBER PENULARAN POSITIF COVID-19 DI BALI\n",
            "\n",
            "PPLN / PMI,PPDN,Transmisi Lokal,Lainnya,TOTAL\n",
            "\n",
            "+,JMLH,+,JMLH,+,JMLH,+,JMLH,+,JMLH\n",
            "\n",
            "1,JEMBRANA,0,26,0,11,1,460,0,0,1,497\n",
            "\n",
            "2,TABANAN,0,21,0,8,8,939,0,0,8,968\n",
            "\n",
            "3,BADUNG,0,27,0,4,12,2241,0,0,12,2272\n",
            "\n",
            "4,DENPASAR,0,48,2,23,14,3541,0,0,16,3612\n",
            "\n",
            "5,GIANYAR,0,29,-2,10,6,1691,0,0,4,1730\n",
            "\n",
            "6,BANGLI,0,58,0,3,0,808,0,0,0,869\n",
            "\n",
            "7,KLUNGKUNG,0,19,0,0,9,900,0,0,9,919\n",
            "\n",
            "8,KARANGASEM,0,23,0,0,10,954,0,0,10,977\n",
            "\n",
            "9,BULELENG,0,41,0,6,1,1098,0,0,1,1145\n",
            "\n",
            "10,KABUPATEN LAINNYA,0,5,0,30,0,11,0,0,0,46\n",
            "\n",
            "11,WARGA NEGARA ASING,0,8,0,2,0,21,0,0,0,31\n",
            "\n",
            "TOTAL,0,305,0,97,61,12664,0,0,61,13066\n",
            "\n"
          ],
          "name": "stdout"
        }
      ]
    },
    {
      "cell_type": "code",
      "metadata": {
        "id": "Dvl_KUwRjXsp"
      },
      "source": [
        ""
      ],
      "execution_count": null,
      "outputs": []
    },
    {
      "cell_type": "markdown",
      "metadata": {
        "id": "lqIAybvkjQ2n"
      },
      "source": [
        ""
      ]
    },
    {
      "cell_type": "code",
      "metadata": {
        "id": "5zKQjZL2dbbp"
      },
      "source": [
        "## 2. additional Data\n",
        "\n",
        "### Population and Area\n"
      ],
      "execution_count": null,
      "outputs": []
    },
    {
      "cell_type": "code",
      "metadata": {
        "colab": {
          "base_uri": "https://localhost:8080/"
        },
        "id": "QVHaWqLwxR7L",
        "outputId": "aa6b9515-c1dd-4866-a8b8-033895dcc2ac"
      },
      "source": [
        "url = 'https://id.wikipedia.org/wiki/Daftar_kabupaten_dan_kota_di_Bali#cite_note-:0bali-1'\n",
        "headers = {'User-Agent': 'Mozilla/5.0 (X11; Linux x86_64) AppleWebKit/537.36 (KHTML, like Gecko) Chrome/42.0.2311.90 Safari/537.36'}\n",
        "\n",
        "response = requests.get(url)\n",
        "print(response.status_code)\n",
        "\n",
        "soup = BeautifulSoup(response.content, \"html5lib\")\n",
        "\n",
        "#find table and extract data\n",
        "table2 = soup.find_all('table', class_=\"wikitable sortable mw-collapsible\")\n",
        "table2"
      ],
      "execution_count": 23,
      "outputs": [
        {
          "output_type": "stream",
          "text": [
            "200\n"
          ],
          "name": "stdout"
        },
        {
          "output_type": "execute_result",
          "data": {
            "text/plain": [
              "[<table class=\"wikitable sortable mw-collapsible\">\n",
              " <tbody><tr>\n",
              " <th>No.\n",
              " </th>\n",
              " <th>Kabupaten/kota\n",
              " </th>\n",
              " <th>Pusat pemerintahan\n",
              " </th>\n",
              " <th>Bupati/wali kota\n",
              " </th>\n",
              " <th>Luas wilayah (km<sup>2</sup>)<sup class=\"reference\" id=\"cite_ref-:0bali_1-0\"><a href=\"#cite_note-:0bali-1\">[1]</a></sup>\n",
              " </th>\n",
              " <th>Jumlah penduduk (2017)<sup class=\"reference\" id=\"cite_ref-:0bali_1-1\"><a href=\"#cite_note-:0bali-1\">[1]</a></sup>\n",
              " </th>\n",
              " <th>Kecamatan\n",
              " </th>\n",
              " <th>Kelurahan/desa\n",
              " </th>\n",
              " <th>Logo <div class=\"center\"><div class=\"floatnone\"><a class=\"image\" href=\"/wiki/Berkas:Coat_of_arms_of_Bali.svg\"><img alt=\"\" data-file-height=\"482\" data-file-width=\"506\" decoding=\"async\" height=\"57\" src=\"//upload.wikimedia.org/wikipedia/commons/thumb/1/10/Coat_of_arms_of_Bali.svg/60px-Coat_of_arms_of_Bali.svg.png\" srcset=\"//upload.wikimedia.org/wikipedia/commons/thumb/1/10/Coat_of_arms_of_Bali.svg/90px-Coat_of_arms_of_Bali.svg.png 1.5x, //upload.wikimedia.org/wikipedia/commons/thumb/1/10/Coat_of_arms_of_Bali.svg/120px-Coat_of_arms_of_Bali.svg.png 2x\" width=\"60\"/></a></div></div>\n",
              " </th>\n",
              " <th>Peta lokasi\n",
              " </th></tr>\n",
              " <tr>\n",
              " <td>1</td>\n",
              " <td><a href=\"/wiki/Kabupaten_Badung\" title=\"Kabupaten Badung\">Kabupaten Badung</a></td>\n",
              " <td><a href=\"/wiki/Mengwi,_Badung\" title=\"Mengwi, Badung\">Mangupura</a></td>\n",
              " <td><a href=\"/wiki/I_Nyoman_Giri_Prasta\" title=\"I Nyoman Giri Prasta\">I Nyoman Giri Prasta</a>\n",
              " </td>\n",
              " <td>418,62\n",
              " </td>\n",
              " <td>468.346</td>\n",
              " <td align=\"center\"><a href=\"/wiki/Daftar_kecamatan_dan_kelurahan_di_Kabupaten_Badung\" title=\"Daftar kecamatan dan kelurahan di Kabupaten Badung\">6</a></td>\n",
              " <td align=\"center\"><a href=\"/wiki/Daftar_kecamatan_dan_kelurahan_di_Kabupaten_Badung\" title=\"Daftar kecamatan dan kelurahan di Kabupaten Badung\">16/46</a></td>\n",
              " <td><div class=\"center\"><div class=\"floatnone\"><a class=\"image\" href=\"/wiki/Berkas:Lambang_Kabupaten_Badung.png\"><img alt=\"Lambang Kabupaten Badung.png\" data-file-height=\"320\" data-file-width=\"328\" decoding=\"async\" height=\"49\" src=\"//upload.wikimedia.org/wikipedia/commons/thumb/d/d2/Lambang_Kabupaten_Badung.png/50px-Lambang_Kabupaten_Badung.png\" srcset=\"//upload.wikimedia.org/wikipedia/commons/thumb/d/d2/Lambang_Kabupaten_Badung.png/75px-Lambang_Kabupaten_Badung.png 1.5x, //upload.wikimedia.org/wikipedia/commons/thumb/d/d2/Lambang_Kabupaten_Badung.png/100px-Lambang_Kabupaten_Badung.png 2x\" width=\"50\"/></a></div></div>\n",
              " </td>\n",
              " <td><div class=\"center\"><div class=\"floatnone\"><a class=\"image\" href=\"/wiki/Berkas:Location_Badung_Regency.png\"><img alt=\"Location Badung Regency.png\" data-file-height=\"302\" data-file-width=\"480\" decoding=\"async\" height=\"94\" src=\"//upload.wikimedia.org/wikipedia/commons/thumb/4/46/Location_Badung_Regency.png/150px-Location_Badung_Regency.png\" srcset=\"//upload.wikimedia.org/wikipedia/commons/thumb/4/46/Location_Badung_Regency.png/225px-Location_Badung_Regency.png 1.5x, //upload.wikimedia.org/wikipedia/commons/thumb/4/46/Location_Badung_Regency.png/300px-Location_Badung_Regency.png 2x\" width=\"150\"/></a></div></div>\n",
              " </td></tr>\n",
              " <tr>\n",
              " <td>2</td>\n",
              " <td><a href=\"/wiki/Kabupaten_Bangli\" title=\"Kabupaten Bangli\">Kabupaten Bangli</a></td>\n",
              " <td><a href=\"/wiki/Bangli,_Bangli\" title=\"Bangli, Bangli\">Bangli</a></td>\n",
              " <td><a href=\"/wiki/I_Made_Gianyar\" title=\"I Made Gianyar\">I Made Gianyar</a>\n",
              " </td>\n",
              " <td>490,71\n",
              " </td>\n",
              " <td>264.945</td>\n",
              " <td align=\"center\"><a href=\"/wiki/Daftar_kecamatan_dan_kelurahan_di_Kabupaten_Bangli\" title=\"Daftar kecamatan dan kelurahan di Kabupaten Bangli\">4</a></td>\n",
              " <td align=\"center\"><a href=\"/wiki/Daftar_kecamatan_dan_kelurahan_di_Kabupaten_Bangli\" title=\"Daftar kecamatan dan kelurahan di Kabupaten Bangli\">4/68</a></td>\n",
              " <td><div class=\"center\"><div class=\"floatnone\"><a class=\"image\" href=\"/wiki/Berkas:Lambang_Kab_Bangli.png\"><img alt=\"Lambang Kab Bangli.png\" data-file-height=\"831\" data-file-width=\"896\" decoding=\"async\" height=\"46\" src=\"//upload.wikimedia.org/wikipedia/commons/thumb/3/39/Lambang_Kab_Bangli.png/50px-Lambang_Kab_Bangli.png\" srcset=\"//upload.wikimedia.org/wikipedia/commons/thumb/3/39/Lambang_Kab_Bangli.png/75px-Lambang_Kab_Bangli.png 1.5x, //upload.wikimedia.org/wikipedia/commons/thumb/3/39/Lambang_Kab_Bangli.png/100px-Lambang_Kab_Bangli.png 2x\" width=\"50\"/></a></div></div>\n",
              " </td>\n",
              " <td><div class=\"center\"><div class=\"floatnone\"><a class=\"image\" href=\"/wiki/Berkas:Location_Bangli_Regency.png\"><img alt=\"Location Bangli Regency.png\" data-file-height=\"302\" data-file-width=\"480\" decoding=\"async\" height=\"94\" src=\"//upload.wikimedia.org/wikipedia/commons/thumb/8/82/Location_Bangli_Regency.png/150px-Location_Bangli_Regency.png\" srcset=\"//upload.wikimedia.org/wikipedia/commons/thumb/8/82/Location_Bangli_Regency.png/225px-Location_Bangli_Regency.png 1.5x, //upload.wikimedia.org/wikipedia/commons/thumb/8/82/Location_Bangli_Regency.png/300px-Location_Bangli_Regency.png 2x\" width=\"150\"/></a></div></div>\n",
              " </td></tr>\n",
              " <tr>\n",
              " <td>3</td>\n",
              " <td><a href=\"/wiki/Kabupaten_Buleleng\" title=\"Kabupaten Buleleng\">Kabupaten Buleleng</a></td>\n",
              " <td><a href=\"/wiki/Singaraja_(kota)\" title=\"Singaraja (kota)\">Singaraja</a></td>\n",
              " <td><a href=\"/wiki/Putu_Agus_Suradnyana\" title=\"Putu Agus Suradnyana\">Putu Agus Suradnyana</a>\n",
              " </td>\n",
              " <td>1.364,73\n",
              " </td>\n",
              " <td>814.356</td>\n",
              " <td align=\"center\"><a href=\"/wiki/Daftar_kecamatan_dan_kelurahan_di_Kabupaten_Buleleng\" title=\"Daftar kecamatan dan kelurahan di Kabupaten Buleleng\">9</a></td>\n",
              " <td align=\"center\"><a href=\"/wiki/Daftar_kecamatan_dan_kelurahan_di_Kabupaten_Buleleng\" title=\"Daftar kecamatan dan kelurahan di Kabupaten Buleleng\">19/129</a></td>\n",
              " <td><div class=\"center\"><div class=\"floatnone\"><a class=\"image\" href=\"/wiki/Berkas:Lambang_Kabupaten_Buleleng.png\"><img alt=\"Lambang Kabupaten Buleleng.png\" data-file-height=\"676\" data-file-width=\"700\" decoding=\"async\" height=\"48\" src=\"//upload.wikimedia.org/wikipedia/commons/thumb/4/45/Lambang_Kabupaten_Buleleng.png/50px-Lambang_Kabupaten_Buleleng.png\" srcset=\"//upload.wikimedia.org/wikipedia/commons/thumb/4/45/Lambang_Kabupaten_Buleleng.png/75px-Lambang_Kabupaten_Buleleng.png 1.5x, //upload.wikimedia.org/wikipedia/commons/thumb/4/45/Lambang_Kabupaten_Buleleng.png/100px-Lambang_Kabupaten_Buleleng.png 2x\" width=\"50\"/></a></div></div>\n",
              " </td>\n",
              " <td><div class=\"center\"><div class=\"floatnone\"><a class=\"image\" href=\"/wiki/Berkas:Location_Buleleng_Regency.png\"><img alt=\"Location Buleleng Regency.png\" data-file-height=\"302\" data-file-width=\"480\" decoding=\"async\" height=\"94\" src=\"//upload.wikimedia.org/wikipedia/commons/thumb/d/de/Location_Buleleng_Regency.png/150px-Location_Buleleng_Regency.png\" srcset=\"//upload.wikimedia.org/wikipedia/commons/thumb/d/de/Location_Buleleng_Regency.png/225px-Location_Buleleng_Regency.png 1.5x, //upload.wikimedia.org/wikipedia/commons/thumb/d/de/Location_Buleleng_Regency.png/300px-Location_Buleleng_Regency.png 2x\" width=\"150\"/></a></div></div>\n",
              " </td></tr>\n",
              " <tr>\n",
              " <td>4</td>\n",
              " <td><a href=\"/wiki/Kabupaten_Gianyar\" title=\"Kabupaten Gianyar\">Kabupaten Gianyar</a></td>\n",
              " <td><a href=\"/wiki/Gianyar,_Gianyar\" title=\"Gianyar, Gianyar\">Gianyar</a></td>\n",
              " <td><a href=\"/wiki/I_Made_Agus_Mahayastra\" title=\"I Made Agus Mahayastra\">I Made Agus Mahayastra</a>\n",
              " </td>\n",
              " <td>368,00\n",
              " </td>\n",
              " <td>492.757</td>\n",
              " <td align=\"center\"><a href=\"/wiki/Daftar_kecamatan_dan_kelurahan_di_Kabupaten_Gianyar\" title=\"Daftar kecamatan dan kelurahan di Kabupaten Gianyar\">7</a></td>\n",
              " <td align=\"center\"><a href=\"/wiki/Daftar_kecamatan_dan_kelurahan_di_Kabupaten_Gianyar\" title=\"Daftar kecamatan dan kelurahan di Kabupaten Gianyar\">6/64</a></td>\n",
              " <td><div class=\"center\"><div class=\"floatnone\"><a class=\"image\" href=\"/wiki/Berkas:Lambang_Kab_Gianyar.png\"><img alt=\"Lambang Kab Gianyar.png\" data-file-height=\"258\" data-file-width=\"250\" decoding=\"async\" height=\"52\" src=\"//upload.wikimedia.org/wikipedia/commons/thumb/7/73/Lambang_Kab_Gianyar.png/50px-Lambang_Kab_Gianyar.png\" srcset=\"//upload.wikimedia.org/wikipedia/commons/thumb/7/73/Lambang_Kab_Gianyar.png/75px-Lambang_Kab_Gianyar.png 1.5x, //upload.wikimedia.org/wikipedia/commons/thumb/7/73/Lambang_Kab_Gianyar.png/100px-Lambang_Kab_Gianyar.png 2x\" width=\"50\"/></a></div></div>\n",
              " </td>\n",
              " <td><div class=\"center\"><div class=\"floatnone\"><a class=\"image\" href=\"/wiki/Berkas:Location_Gianyar_Regency.png\"><img alt=\"Location Gianyar Regency.png\" data-file-height=\"302\" data-file-width=\"480\" decoding=\"async\" height=\"94\" src=\"//upload.wikimedia.org/wikipedia/commons/thumb/c/c6/Location_Gianyar_Regency.png/150px-Location_Gianyar_Regency.png\" srcset=\"//upload.wikimedia.org/wikipedia/commons/thumb/c/c6/Location_Gianyar_Regency.png/225px-Location_Gianyar_Regency.png 1.5x, //upload.wikimedia.org/wikipedia/commons/thumb/c/c6/Location_Gianyar_Regency.png/300px-Location_Gianyar_Regency.png 2x\" width=\"150\"/></a></div></div>\n",
              " </td></tr>\n",
              " <tr>\n",
              " <td>5</td>\n",
              " <td><a href=\"/wiki/Kabupaten_Jembrana\" title=\"Kabupaten Jembrana\">Kabupaten Jembrana</a></td>\n",
              " <td><a href=\"/wiki/Negara,_Jembrana\" title=\"Negara, Jembrana\">Negara</a></td>\n",
              " <td><a href=\"/wiki/I_Putu_Artha\" title=\"I Putu Artha\">I Putu Artha</a>\n",
              " </td>\n",
              " <td>841,80\n",
              " </td>\n",
              " <td>323.211</td>\n",
              " <td align=\"center\"><a href=\"/wiki/Daftar_kecamatan_dan_kelurahan_di_Kabupaten_Jembrana\" title=\"Daftar kecamatan dan kelurahan di Kabupaten Jembrana\">5</a></td>\n",
              " <td align=\"center\"><a href=\"/wiki/Daftar_kecamatan_dan_kelurahan_di_Kabupaten_Jembrana\" title=\"Daftar kecamatan dan kelurahan di Kabupaten Jembrana\">10/41</a></td>\n",
              " <td><div class=\"center\"><div class=\"floatnone\"><a class=\"image\" href=\"/wiki/Berkas:Lambang_Kab_Jembrana.png\"><img alt=\"Lambang Kab Jembrana.png\" data-file-height=\"1600\" data-file-width=\"1555\" decoding=\"async\" height=\"51\" src=\"//upload.wikimedia.org/wikipedia/commons/thumb/8/83/Lambang_Kab_Jembrana.png/50px-Lambang_Kab_Jembrana.png\" srcset=\"//upload.wikimedia.org/wikipedia/commons/thumb/8/83/Lambang_Kab_Jembrana.png/75px-Lambang_Kab_Jembrana.png 1.5x, //upload.wikimedia.org/wikipedia/commons/thumb/8/83/Lambang_Kab_Jembrana.png/100px-Lambang_Kab_Jembrana.png 2x\" width=\"50\"/></a></div></div>\n",
              " </td>\n",
              " <td><div class=\"center\"><div class=\"floatnone\"><a class=\"image\" href=\"/wiki/Berkas:Location_Jembrana_Regency.png\"><img alt=\"Location Jembrana Regency.png\" data-file-height=\"302\" data-file-width=\"480\" decoding=\"async\" height=\"94\" src=\"//upload.wikimedia.org/wikipedia/commons/thumb/b/be/Location_Jembrana_Regency.png/150px-Location_Jembrana_Regency.png\" srcset=\"//upload.wikimedia.org/wikipedia/commons/thumb/b/be/Location_Jembrana_Regency.png/225px-Location_Jembrana_Regency.png 1.5x, //upload.wikimedia.org/wikipedia/commons/thumb/b/be/Location_Jembrana_Regency.png/300px-Location_Jembrana_Regency.png 2x\" width=\"150\"/></a></div></div>\n",
              " </td></tr>\n",
              " <tr>\n",
              " <td>6</td>\n",
              " <td><a href=\"/wiki/Kabupaten_Karangasem\" title=\"Kabupaten Karangasem\">Kabupaten Karangasem</a></td>\n",
              " <td><a href=\"/wiki/Amlapura_(kota)\" title=\"Amlapura (kota)\">Amlapura</a></td>\n",
              " <td><a href=\"/wiki/I_Gusti_Ayu_Mas_Sumatri\" title=\"I Gusti Ayu Mas Sumatri\">I Gusti Ayu Mas Sumatri</a>\n",
              " </td>\n",
              " <td>839,54\n",
              " </td>\n",
              " <td>545.389</td>\n",
              " <td align=\"center\"><a href=\"/wiki/Daftar_kecamatan_dan_kelurahan_di_Kabupaten_Karangasem\" title=\"Daftar kecamatan dan kelurahan di Kabupaten Karangasem\">8</a></td>\n",
              " <td align=\"center\"><a href=\"/wiki/Daftar_kecamatan_dan_kelurahan_di_Kabupaten_Karangasem\" title=\"Daftar kecamatan dan kelurahan di Kabupaten Karangasem\">3/75</a></td>\n",
              " <td><div class=\"center\"><div class=\"floatnone\"><a class=\"image\" href=\"/wiki/Berkas:Lambang_Kabupaten_Karangasem.png\"><img alt=\"Lambang Kabupaten Karangasem.png\" data-file-height=\"876\" data-file-width=\"673\" decoding=\"async\" height=\"65\" src=\"//upload.wikimedia.org/wikipedia/commons/thumb/3/30/Lambang_Kabupaten_Karangasem.png/50px-Lambang_Kabupaten_Karangasem.png\" srcset=\"//upload.wikimedia.org/wikipedia/commons/thumb/3/30/Lambang_Kabupaten_Karangasem.png/75px-Lambang_Kabupaten_Karangasem.png 1.5x, //upload.wikimedia.org/wikipedia/commons/thumb/3/30/Lambang_Kabupaten_Karangasem.png/100px-Lambang_Kabupaten_Karangasem.png 2x\" width=\"50\"/></a></div></div>\n",
              " </td>\n",
              " <td><div class=\"center\"><div class=\"floatnone\"><a class=\"image\" href=\"/wiki/Berkas:Locator_Karangasem_Regency.png\"><img alt=\"Locator Karangasem Regency.png\" data-file-height=\"302\" data-file-width=\"480\" decoding=\"async\" height=\"94\" src=\"//upload.wikimedia.org/wikipedia/commons/thumb/7/7b/Locator_Karangasem_Regency.png/150px-Locator_Karangasem_Regency.png\" srcset=\"//upload.wikimedia.org/wikipedia/commons/thumb/7/7b/Locator_Karangasem_Regency.png/225px-Locator_Karangasem_Regency.png 1.5x, //upload.wikimedia.org/wikipedia/commons/thumb/7/7b/Locator_Karangasem_Regency.png/300px-Locator_Karangasem_Regency.png 2x\" width=\"150\"/></a></div></div>\n",
              " </td></tr>\n",
              " <tr>\n",
              " <td>7</td>\n",
              " <td><a href=\"/wiki/Kabupaten_Klungkung\" title=\"Kabupaten Klungkung\">Kabupaten Klungkung</a></td>\n",
              " <td><a href=\"/wiki/Semarapura\" title=\"Semarapura\">Semarapura</a></td>\n",
              " <td><a href=\"/wiki/I_Nyoman_Suwirta\" title=\"I Nyoman Suwirta\">I Nyoman Suwirta</a>\n",
              " </td>\n",
              " <td>315,00\n",
              " </td>\n",
              " <td>215.852</td>\n",
              " <td align=\"center\"><a href=\"/wiki/Daftar_kecamatan_dan_kelurahan_di_Kabupaten_Klungkung\" title=\"Daftar kecamatan dan kelurahan di Kabupaten Klungkung\">4</a></td>\n",
              " <td align=\"center\"><a href=\"/wiki/Daftar_kecamatan_dan_kelurahan_di_Kabupaten_Klungkung\" title=\"Daftar kecamatan dan kelurahan di Kabupaten Klungkung\">6/53</a></td>\n",
              " <td><div class=\"center\"><div class=\"floatnone\"><a class=\"image\" href=\"/wiki/Berkas:Lambang_Kabupaten_Klungkung.png\"><img alt=\"Lambang Kabupaten Klungkung.png\" data-file-height=\"1508\" data-file-width=\"1600\" decoding=\"async\" height=\"47\" src=\"//upload.wikimedia.org/wikipedia/commons/thumb/f/fe/Lambang_Kabupaten_Klungkung.png/50px-Lambang_Kabupaten_Klungkung.png\" srcset=\"//upload.wikimedia.org/wikipedia/commons/thumb/f/fe/Lambang_Kabupaten_Klungkung.png/75px-Lambang_Kabupaten_Klungkung.png 1.5x, //upload.wikimedia.org/wikipedia/commons/thumb/f/fe/Lambang_Kabupaten_Klungkung.png/100px-Lambang_Kabupaten_Klungkung.png 2x\" width=\"50\"/></a></div></div>\n",
              " </td>\n",
              " <td><div class=\"center\"><div class=\"floatnone\"><a class=\"image\" href=\"/wiki/Berkas:Location_Klungkung_Regency.png\"><img alt=\"Location Klungkung Regency.png\" data-file-height=\"302\" data-file-width=\"480\" decoding=\"async\" height=\"94\" src=\"//upload.wikimedia.org/wikipedia/commons/thumb/6/6a/Location_Klungkung_Regency.png/150px-Location_Klungkung_Regency.png\" srcset=\"//upload.wikimedia.org/wikipedia/commons/thumb/6/6a/Location_Klungkung_Regency.png/225px-Location_Klungkung_Regency.png 1.5x, //upload.wikimedia.org/wikipedia/commons/thumb/6/6a/Location_Klungkung_Regency.png/300px-Location_Klungkung_Regency.png 2x\" width=\"150\"/></a></div></div>\n",
              " </td></tr>\n",
              " <tr>\n",
              " <td>8</td>\n",
              " <td><a href=\"/wiki/Kabupaten_Tabanan\" title=\"Kabupaten Tabanan\">Kabupaten Tabanan</a></td>\n",
              " <td><a href=\"/wiki/Tabanan,_Tabanan\" title=\"Tabanan, Tabanan\">Tabanan</a></td>\n",
              " <td><a href=\"/wiki/Ni_Putu_Eka_Wiryastuti\" title=\"Ni Putu Eka Wiryastuti\">Ni Putu Eka Wiryastuti</a>\n",
              " </td>\n",
              " <td>1.013,88\n",
              " </td>\n",
              " <td>466.647</td>\n",
              " <td align=\"center\"><a href=\"/wiki/Daftar_kecamatan_dan_kelurahan_di_Kabupaten_Tabanan\" title=\"Daftar kecamatan dan kelurahan di Kabupaten Tabanan\">10</a></td>\n",
              " <td align=\"center\"><a href=\"/wiki/Daftar_kecamatan_dan_kelurahan_di_Kabupaten_Tabanan\" title=\"Daftar kecamatan dan kelurahan di Kabupaten Tabanan\">-/133</a></td>\n",
              " <td><div class=\"center\"><div class=\"floatnone\"><a class=\"image\" href=\"/w/index.php?title=Berkas:Lambang_Kabupaten_Tabanan.png&amp;filetimestamp=20060829131244&amp;\"><img alt=\"Lambang Kabupaten Tabanan.png\" data-file-height=\"1016\" data-file-width=\"988\" decoding=\"async\" height=\"51\" src=\"//upload.wikimedia.org/wikipedia/id/thumb/7/7d/Lambang_Kabupaten_Tabanan.png/50px-Lambang_Kabupaten_Tabanan.png\" srcset=\"//upload.wikimedia.org/wikipedia/id/thumb/7/7d/Lambang_Kabupaten_Tabanan.png/75px-Lambang_Kabupaten_Tabanan.png 1.5x, //upload.wikimedia.org/wikipedia/id/thumb/7/7d/Lambang_Kabupaten_Tabanan.png/100px-Lambang_Kabupaten_Tabanan.png 2x\" width=\"50\"/></a></div></div>\n",
              " </td>\n",
              " <td><div class=\"center\"><div class=\"floatnone\"><a class=\"image\" href=\"/wiki/Berkas:Location_Tabanan_Regency.png\"><img alt=\"Location Tabanan Regency.png\" data-file-height=\"302\" data-file-width=\"480\" decoding=\"async\" height=\"94\" src=\"//upload.wikimedia.org/wikipedia/commons/thumb/5/5f/Location_Tabanan_Regency.png/150px-Location_Tabanan_Regency.png\" srcset=\"//upload.wikimedia.org/wikipedia/commons/thumb/5/5f/Location_Tabanan_Regency.png/225px-Location_Tabanan_Regency.png 1.5x, //upload.wikimedia.org/wikipedia/commons/thumb/5/5f/Location_Tabanan_Regency.png/300px-Location_Tabanan_Regency.png 2x\" width=\"150\"/></a></div></div>\n",
              " </td></tr>\n",
              " <tr>\n",
              " <td>9</td>\n",
              " <td><a href=\"/wiki/Kota_Denpasar\" title=\"Kota Denpasar\">Kota Denpasar</a></td>\n",
              " <td>-</td>\n",
              " <td><a href=\"/wiki/Ida_Bagus_Rai_Dharmawijaya_Mantra\" title=\"Ida Bagus Rai Dharmawijaya Mantra\">Ida Bagus Rai Dharmawijaya Mantra</a>\n",
              " </td>\n",
              " <td>127,78\n",
              " </td>\n",
              " <td>638.548</td>\n",
              " <td align=\"center\"><a href=\"/wiki/Daftar_kecamatan_dan_kelurahan_di_Kota_Denpasar\" title=\"Daftar kecamatan dan kelurahan di Kota Denpasar\">4</a></td>\n",
              " <td align=\"center\"><a href=\"/wiki/Daftar_kecamatan_dan_kelurahan_di_Kota_Denpasar\" title=\"Daftar kecamatan dan kelurahan di Kota Denpasar\">16/27</a></td>\n",
              " <td><div class=\"center\"><div class=\"floatnone\"><a class=\"image\" href=\"/wiki/Berkas:Lambang_Kota_Denpasar_(1).png\"><img alt=\"Lambang Kota Denpasar (1).png\" data-file-height=\"1874\" data-file-width=\"1971\" decoding=\"async\" height=\"48\" src=\"//upload.wikimedia.org/wikipedia/commons/thumb/6/65/Lambang_Kota_Denpasar_%281%29.png/50px-Lambang_Kota_Denpasar_%281%29.png\" srcset=\"//upload.wikimedia.org/wikipedia/commons/thumb/6/65/Lambang_Kota_Denpasar_%281%29.png/75px-Lambang_Kota_Denpasar_%281%29.png 1.5x, //upload.wikimedia.org/wikipedia/commons/thumb/6/65/Lambang_Kota_Denpasar_%281%29.png/100px-Lambang_Kota_Denpasar_%281%29.png 2x\" width=\"50\"/></a></div></div>\n",
              " </td>\n",
              " <td><div class=\"center\"><div class=\"floatnone\"><a class=\"image\" href=\"/wiki/Berkas:Location_Denpasar.png\"><img alt=\"\" data-file-height=\"302\" data-file-width=\"480\" decoding=\"async\" height=\"94\" src=\"//upload.wikimedia.org/wikipedia/commons/thumb/e/e5/Location_Denpasar.png/150px-Location_Denpasar.png\" srcset=\"//upload.wikimedia.org/wikipedia/commons/thumb/e/e5/Location_Denpasar.png/225px-Location_Denpasar.png 1.5x, //upload.wikimedia.org/wikipedia/commons/thumb/e/e5/Location_Denpasar.png/300px-Location_Denpasar.png 2x\" width=\"150\"/></a></div></div>\n",
              " </td></tr></tbody></table>]"
            ]
          },
          "metadata": {
            "tags": []
          },
          "execution_count": 23
        }
      ]
    },
    {
      "cell_type": "code",
      "metadata": {
        "colab": {
          "base_uri": "https://localhost:8080/"
        },
        "id": "Qjm0yhNIoNDx",
        "outputId": "5f0f704f-4ca6-4ea6-e874-00a39fd503dd"
      },
      "source": [
        "\n",
        "## create df\n",
        "## get data from the 'th' and 'td' tags\n",
        "\n",
        "data = []\n",
        "for div in table2:\n",
        "  rows = div.find_all(\"tr\")\n",
        "  for row in rows:\n",
        "    data.append(row.text)\n",
        "    \n",
        "data\n"
      ],
      "execution_count": 33,
      "outputs": [
        {
          "output_type": "execute_result",
          "data": {
            "text/plain": [
              "['\\nNo.\\n\\nKabupaten/kota\\n\\nPusat pemerintahan\\n\\nBupati/wali kota\\n\\nLuas wilayah (km2)[1]\\n\\nJumlah penduduk (2017)[1]\\n\\nKecamatan\\n\\nKelurahan/desa\\n\\nLogo \\n\\nPeta lokasi\\n',\n",
              " '\\n1\\nKabupaten Badung\\nMangupura\\nI Nyoman Giri Prasta\\n\\n418,62\\n\\n468.346\\n6\\n16/46\\n\\n\\n\\n',\n",
              " '\\n2\\nKabupaten Bangli\\nBangli\\nI Made Gianyar\\n\\n490,71\\n\\n264.945\\n4\\n4/68\\n\\n\\n\\n',\n",
              " '\\n3\\nKabupaten Buleleng\\nSingaraja\\nPutu Agus Suradnyana\\n\\n1.364,73\\n\\n814.356\\n9\\n19/129\\n\\n\\n\\n',\n",
              " '\\n4\\nKabupaten Gianyar\\nGianyar\\nI Made Agus Mahayastra\\n\\n368,00\\n\\n492.757\\n7\\n6/64\\n\\n\\n\\n',\n",
              " '\\n5\\nKabupaten Jembrana\\nNegara\\nI Putu Artha\\n\\n841,80\\n\\n323.211\\n5\\n10/41\\n\\n\\n\\n',\n",
              " '\\n6\\nKabupaten Karangasem\\nAmlapura\\nI Gusti Ayu Mas Sumatri\\n\\n839,54\\n\\n545.389\\n8\\n3/75\\n\\n\\n\\n',\n",
              " '\\n7\\nKabupaten Klungkung\\nSemarapura\\nI Nyoman Suwirta\\n\\n315,00\\n\\n215.852\\n4\\n6/53\\n\\n\\n\\n',\n",
              " '\\n8\\nKabupaten Tabanan\\nTabanan\\nNi Putu Eka Wiryastuti\\n\\n1.013,88\\n\\n466.647\\n10\\n-/133\\n\\n\\n\\n',\n",
              " '\\n9\\nKota Denpasar\\n-\\nIda Bagus Rai Dharmawijaya Mantra\\n\\n127,78\\n\\n638.548\\n4\\n16/27\\n\\n\\n\\n']"
            ]
          },
          "metadata": {
            "tags": []
          },
          "execution_count": 33
        }
      ]
    },
    {
      "cell_type": "code",
      "metadata": {
        "colab": {
          "base_uri": "https://localhost:8080/",
          "height": 379
        },
        "id": "ovJC6Kv8qLNV",
        "outputId": "45c7d5da-6d5a-4a5f-ea3a-fa5acbdb2a40"
      },
      "source": [
        "data_clean = []\n",
        "for item in data:\n",
        "  for td in item:\n",
        "    data = item.find_all('td').get_text()\n",
        "    data = data.rstrip()\n",
        "    data = data.replace('/', ' ')\n",
        "  ## clean data from '[1]' Source link\n",
        "  # regex1 = /\\[.\\]/g\n",
        "  # data = data.replace(regex1, '')\n",
        "    data_clean.append(data)\n",
        "\n",
        "data_clean"
      ],
      "execution_count": 32,
      "outputs": [
        {
          "output_type": "error",
          "ename": "AttributeError",
          "evalue": "ignored",
          "traceback": [
            "\u001b[0;31m---------------------------------------------------------------------------\u001b[0m",
            "\u001b[0;31mAttributeError\u001b[0m                            Traceback (most recent call last)",
            "\u001b[0;32m<ipython-input-32-8544672cf902>\u001b[0m in \u001b[0;36m<module>\u001b[0;34m()\u001b[0m\n\u001b[1;32m      2\u001b[0m \u001b[0;32mfor\u001b[0m \u001b[0mitem\u001b[0m \u001b[0;32min\u001b[0m \u001b[0mdata\u001b[0m\u001b[0;34m:\u001b[0m\u001b[0;34m\u001b[0m\u001b[0;34m\u001b[0m\u001b[0m\n\u001b[1;32m      3\u001b[0m   \u001b[0;32mfor\u001b[0m \u001b[0mtd\u001b[0m \u001b[0;32min\u001b[0m \u001b[0mitem\u001b[0m\u001b[0;34m:\u001b[0m\u001b[0;34m\u001b[0m\u001b[0;34m\u001b[0m\u001b[0m\n\u001b[0;32m----> 4\u001b[0;31m     \u001b[0mdata\u001b[0m \u001b[0;34m=\u001b[0m \u001b[0mitem\u001b[0m\u001b[0;34m.\u001b[0m\u001b[0mfind_all\u001b[0m\u001b[0;34m(\u001b[0m\u001b[0;34m'td'\u001b[0m\u001b[0;34m)\u001b[0m\u001b[0;34m.\u001b[0m\u001b[0mget_text\u001b[0m\u001b[0;34m(\u001b[0m\u001b[0;34m)\u001b[0m\u001b[0;34m\u001b[0m\u001b[0;34m\u001b[0m\u001b[0m\n\u001b[0m\u001b[1;32m      5\u001b[0m     \u001b[0mdata\u001b[0m \u001b[0;34m=\u001b[0m \u001b[0mdata\u001b[0m\u001b[0;34m.\u001b[0m\u001b[0mrstrip\u001b[0m\u001b[0;34m(\u001b[0m\u001b[0;34m)\u001b[0m\u001b[0;34m\u001b[0m\u001b[0;34m\u001b[0m\u001b[0m\n\u001b[1;32m      6\u001b[0m     \u001b[0mdata\u001b[0m \u001b[0;34m=\u001b[0m \u001b[0mdata\u001b[0m\u001b[0;34m.\u001b[0m\u001b[0mreplace\u001b[0m\u001b[0;34m(\u001b[0m\u001b[0;34m'/'\u001b[0m\u001b[0;34m,\u001b[0m \u001b[0;34m' '\u001b[0m\u001b[0;34m)\u001b[0m\u001b[0;34m\u001b[0m\u001b[0;34m\u001b[0m\u001b[0m\n",
            "\u001b[0;32m/usr/local/lib/python3.6/dist-packages/bs4/element.py\u001b[0m in \u001b[0;36m__getattr__\u001b[0;34m(self, key)\u001b[0m\n\u001b[1;32m   1882\u001b[0m     \u001b[0;32mdef\u001b[0m \u001b[0m__getattr__\u001b[0m\u001b[0;34m(\u001b[0m\u001b[0mself\u001b[0m\u001b[0;34m,\u001b[0m \u001b[0mkey\u001b[0m\u001b[0;34m)\u001b[0m\u001b[0;34m:\u001b[0m\u001b[0;34m\u001b[0m\u001b[0;34m\u001b[0m\u001b[0m\n\u001b[1;32m   1883\u001b[0m         raise AttributeError(\n\u001b[0;32m-> 1884\u001b[0;31m             \u001b[0;34m\"ResultSet object has no attribute '%s'. You're probably treating a list of items like a single item. Did you call find_all() when you meant to call find()?\"\u001b[0m \u001b[0;34m%\u001b[0m \u001b[0mkey\u001b[0m\u001b[0;34m\u001b[0m\u001b[0;34m\u001b[0m\u001b[0m\n\u001b[0m\u001b[1;32m   1885\u001b[0m         )\n",
            "\u001b[0;31mAttributeError\u001b[0m: ResultSet object has no attribute 'find_all'. You're probably treating a list of items like a single item. Did you call find_all() when you meant to call find()?"
          ]
        }
      ]
    },
    {
      "cell_type": "code",
      "metadata": {
        "colab": {
          "base_uri": "https://localhost:8080/",
          "height": 117
        },
        "id": "aHf28NGt--9T",
        "outputId": "0421e477-eae7-48cc-ba81-f21561fb0281"
      },
      "source": [
        "\n",
        "## create df\n",
        "## get 'th' data for columns name\n",
        "df = pd.DataFrame(columns=[header])\n",
        "df"
      ],
      "execution_count": 21,
      "outputs": [
        {
          "output_type": "execute_result",
          "data": {
            "text/html": [
              "<div>\n",
              "<style scoped>\n",
              "    .dataframe tbody tr th:only-of-type {\n",
              "        vertical-align: middle;\n",
              "    }\n",
              "\n",
              "    .dataframe tbody tr th {\n",
              "        vertical-align: top;\n",
              "    }\n",
              "\n",
              "    .dataframe thead tr th {\n",
              "        text-align: left;\n",
              "    }\n",
              "</style>\n",
              "<table border=\"1\" class=\"dataframe\">\n",
              "  <thead>\n",
              "    <tr>\n",
              "      <th></th>\n",
              "      <th>No.</th>\n",
              "      <th>Kabupaten kota</th>\n",
              "      <th>Pusat pemerintahan</th>\n",
              "      <th>Bupati wali kota</th>\n",
              "      <th>Luas wilayah (km2)[1]</th>\n",
              "      <th>Jumlah penduduk (2017)[1]</th>\n",
              "      <th>Kecamatan</th>\n",
              "      <th>Kelurahan desa</th>\n",
              "      <th>Logo</th>\n",
              "      <th>Peta lokasi</th>\n",
              "    </tr>\n",
              "  </thead>\n",
              "  <tbody>\n",
              "  </tbody>\n",
              "</table>\n",
              "</div>"
            ],
            "text/plain": [
              "Empty DataFrame\n",
              "Columns: [(No.,), (Kabupaten kota,), (Pusat pemerintahan,), (Bupati wali kota,), (Luas wilayah (km2)[1],), (Jumlah penduduk (2017)[1],), (Kecamatan,), (Kelurahan desa,), (Logo,), (Peta lokasi,)]\n",
              "Index: []"
            ]
          },
          "metadata": {
            "tags": []
          },
          "execution_count": 21
        }
      ]
    },
    {
      "cell_type": "code",
      "metadata": {
        "colab": {
          "base_uri": "https://localhost:8080/"
        },
        "id": "IWeVAE6Hx2J2",
        "outputId": "b6e14c5a-83d9-48c3-9e46-75f4c01f9216"
      },
      "source": [
        "## save for later\n",
        "columnNames = header\n",
        "columnNames"
      ],
      "execution_count": 22,
      "outputs": [
        {
          "output_type": "execute_result",
          "data": {
            "text/plain": [
              "['No.',\n",
              " 'Kabupaten kota',\n",
              " 'Pusat pemerintahan',\n",
              " 'Bupati wali kota',\n",
              " 'Luas wilayah (km2)[1]',\n",
              " 'Jumlah penduduk (2017)[1]',\n",
              " 'Kecamatan',\n",
              " 'Kelurahan desa',\n",
              " 'Logo',\n",
              " 'Peta lokasi']"
            ]
          },
          "metadata": {
            "tags": []
          },
          "execution_count": 22
        }
      ]
    },
    {
      "cell_type": "code",
      "metadata": {
        "id": "s3NUc-ND-irz"
      },
      "source": [
        ""
      ],
      "execution_count": null,
      "outputs": []
    }
  ]
}