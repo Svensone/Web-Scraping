{
  "nbformat": 4,
  "nbformat_minor": 0,
  "metadata": {
    "colab": {
      "name": "WebScraping Covid/Bali.ipynb",
      "provenance": [],
      "collapsed_sections": [],
      "authorship_tag": "ABX9TyOL9hA5IF0IE7utXcIJuhO3",
      "include_colab_link": true
    },
    "kernelspec": {
      "name": "python3",
      "display_name": "Python 3"
    }
  },
  "cells": [
    {
      "cell_type": "markdown",
      "metadata": {
        "id": "view-in-github",
        "colab_type": "text"
      },
      "source": [
        "<a href=\"https://colab.research.google.com/github/Svensone/Web-Scraping/blob/master/WebScraping_Covid_Bali.ipynb\" target=\"_parent\"><img src=\"https://colab.research.google.com/assets/colab-badge.svg\" alt=\"Open In Colab\"/></a>"
      ]
    },
    {
      "cell_type": "code",
      "metadata": {
        "colab": {
          "base_uri": "https://localhost:8080/"
        },
        "id": "4WSnRMwvOnd-",
        "outputId": "27d0a10b-278d-42a3-96d5-152bad9fb5f4"
      },
      "source": [
        "!pip install scrapy"
      ],
      "execution_count": null,
      "outputs": [
        {
          "output_type": "stream",
          "text": [
            "Successfully installed Automat-20.2.0 PyDispatcher-2.0.5 PyHamcrest-2.0.2 Twisted-20.3.0 constantly-15.1.0 cryptography-3.2.1 cssselect-1.1.0 hyperlink-20.0.1 incremental-17.5.0 itemadapter-0.2.0 itemloaders-1.0.4 jmespath-0.10.0 parsel-1.6.0 protego-0.1.16 pyOpenSSL-19.1.0 queuelib-1.5.0 scrapy-2.4.1 service-identity-18.1.0 w3lib-1.22.0 zope.interface-5.2.0\n"
          ],
          "name": "stdout"
        }
      ]
    },
    {
      "cell_type": "code",
      "metadata": {
        "id": "s_hilg1AOZLC"
      },
      "source": [
        "import scrapy\n",
        "import requests\n",
        "from bs4 import BeautifulSoup\n",
        "import time\n",
        "import csv"
      ],
      "execution_count": null,
      "outputs": []
    },
    {
      "cell_type": "code",
      "metadata": {
        "id": "QipK_r5BOd3k"
      },
      "source": [
        "url = \"https://infocorona.baliprov.go.id/API/pendataan/laporan-harian-01.php\"\n",
        "headers = {'User-Agent': 'Mozilla/5.0'}"
      ],
      "execution_count": null,
      "outputs": []
    },
    {
      "cell_type": "code",
      "metadata": {
        "id": "NcM7Q8bEPdGs"
      },
      "source": [
        "response = requests.get(url)"
      ],
      "execution_count": null,
      "outputs": []
    },
    {
      "cell_type": "code",
      "metadata": {
        "colab": {
          "base_uri": "https://localhost:8080/"
        },
        "id": "1g5QxgiUPiZ0",
        "outputId": "a3c6dbbc-fc8f-44c2-a8f6-ac80cd7a5429"
      },
      "source": [
        "response.status_code"
      ],
      "execution_count": null,
      "outputs": [
        {
          "output_type": "execute_result",
          "data": {
            "text/plain": [
              "200"
            ]
          },
          "metadata": {
            "tags": []
          },
          "execution_count": 39
        }
      ]
    },
    {
      "cell_type": "code",
      "metadata": {
        "colab": {
          "base_uri": "https://localhost:8080/"
        },
        "id": "Ro9irgRxPkjg",
        "outputId": "f89b0465-ff7b-42fe-95b4-89fc138fa6ed"
      },
      "source": [
        "response.content"
      ],
      "execution_count": null,
      "outputs": [
        {
          "output_type": "execute_result",
          "data": {
            "text/plain": [
              "b'<link rel=\"stylesheet\" href=\"https://stackpath.bootstrapcdn.com/bootstrap/4.3.1/css/bootstrap.min.css\" >\\n<link rel=\"stylesheet\" href=\"https://use.fontawesome.com/releases/v5.7.2/css/all.css\">\\n<link rel=\"stylesheet\" href=\"https://pendataan.baliprov.go.id/assets/css/style.css?v=15\">\\n<link rel=\"stylesheet\" href=\"https://pendataan.baliprov.go.id/assets/css/widget-custom.css?v=1\">\\n\\n\\n<section class=\"section\">\\n<div class=\"section-header\" style=\"margin-top: 18px;\"><h1>Laporan Harian Berdasarkan Sumber Penularan pada Tiap Wilayah</h1></div>\\n<div class=\"section-body\"><div class=\"card\"><div class=\"card-body\">\\n\\n\\n<div class=\\'alert alert-info\\' role=\\'alert\\'>\\n    <b>Informasi!</b> Menampilkan data laporan tanggal 19 Nov 2020 \\n</div>\\n<div class=\"table-responsive text-center\">\\n    <table class=\"table table-bordered table-striped text-center\" border=\"1\">\\n    <thead>\\n        <tr>\\n            <th rowspan=\"3\">NO</th>\\n            <th rowspan=\"3\">KABUPATEN / KOTA</th>\\n            <th colspan=\"10\">SUMBER PENULARAN POSITIF COVID-19 DI BALI</th>\\n        </tr>\\n        <tr>\\n            <th colspan=\"2\">PPLN / PMI</th>\\n            <th colspan=\"2\">PPDN</th> \\n            <th colspan=\"2\">Transmisi Lokal</th>\\n            <th colspan=\"2\">Lainnya</th>\\n            <th colspan=\"2\">TOTAL</th>\\n        </tr>\\n        <tr>\\n            <th>+</th>\\n            <th>JMLH</th>\\n            <th>+</th>\\n            <th>JMLH</th>\\n            <th>+</th>\\n            <th>JMLH</th>\\n            <th>+</th>\\n            <th>JMLH</th>\\n            <th>+</th>\\n            <th>JMLH</th>\\n        </tr>\\n    </thead>\\n    <tbody>\\n        <tr><td>1</td><td style=\\'text-align: left;\\'>JEMBRANA</td><td>0</td><td>26</td><td>0</td><td>11</td><td>5</td><td>459</td><td>0</td><td>0</td><td>5</td><td>496</td></tr><tr><td>2</td><td style=\\'text-align: left;\\'>TABANAN</td><td>0</td><td>21</td><td>0</td><td>8</td><td>15</td><td>931</td><td>0</td><td>0</td><td>15</td><td>960</td></tr><tr><td>3</td><td style=\\'text-align: left;\\'>BADUNG</td><td>0</td><td>27</td><td>0</td><td>4</td><td>15</td><td>2229</td><td>0</td><td>0</td><td>15</td><td>2260</td></tr><tr><td>4</td><td style=\\'text-align: left;\\'>DENPASAR</td><td>0</td><td>48</td><td>0</td><td>21</td><td>28</td><td>3527</td><td>0</td><td>0</td><td>28</td><td>3596</td></tr><tr><td>5</td><td style=\\'text-align: left;\\'>GIANYAR</td><td>0</td><td>29</td><td>0</td><td>12</td><td>14</td><td>1685</td><td>0</td><td>0</td><td>14</td><td>1726</td></tr><tr><td>6</td><td style=\\'text-align: left;\\'>BANGLI</td><td>0</td><td>58</td><td>0</td><td>3</td><td>0</td><td>808</td><td>0</td><td>0</td><td>0</td><td>869</td></tr><tr><td>7</td><td style=\\'text-align: left;\\'>KLUNGKUNG</td><td>0</td><td>19</td><td>0</td><td>0</td><td>0</td><td>891</td><td>0</td><td>0</td><td>0</td><td>910</td></tr><tr><td>8</td><td style=\\'text-align: left;\\'>KARANGASEM</td><td>0</td><td>23</td><td>0</td><td>0</td><td>6</td><td>944</td><td>0</td><td>0</td><td>6</td><td>967</td></tr><tr><td>9</td><td style=\\'text-align: left;\\'>BULELENG</td><td>0</td><td>41</td><td>0</td><td>6</td><td>5</td><td>1097</td><td>0</td><td>0</td><td>5</td><td>1144</td></tr><tr><td>10</td><td style=\\'text-align: left;\\'>KABUPATEN LAINNYA</td><td>0</td><td>5</td><td>0</td><td>30</td><td>0</td><td>11</td><td>0</td><td>0</td><td>0</td><td>46</td></tr><tr><td>11</td><td style=\\'text-align: left;\\'>WARGA NEGARA ASING</td><td>0</td><td>8</td><td>0</td><td>2</td><td>0</td><td>21</td><td>0</td><td>0</td><td>0</td><td>31</td></tr>    </tbody>\\n    <tfoot>\\n        <tr style=\\'background-color: #ff5656;color: #fff;\\'><td colspan=\\'2\\' class=\\'text-left\\'>TOTAL</td><td>0</td><td>305</td><td>0</td><td>97</td><td>88</td><td>12603</td><td>0</td><td>0</td><td>88</td><td>13005</td></tr>    </tfoot>\\n    </table>\\n</div>\\n</div>\\n\\n<div class=\"card-footer\">\\nKeterangan :<br>\\n<ul class=\"listket-lapharianbnpb\">\\n    <li>Data yang tersaji sampai dengan 19 Nov 2020.</li>\\n    <li>Tanda <b>+</b> menunjukkan penambahan data hari ini dibandingkan dengan data kemarin.</li>\\n    <li>Info JMLH menunjukkan jumlah data sampai tanggal hari ini.</li>\\n</ul>\\n</div>\\n\\n</div></div></section>'"
            ]
          },
          "metadata": {
            "tags": []
          },
          "execution_count": 40
        }
      ]
    },
    {
      "cell_type": "code",
      "metadata": {
        "id": "Xfy_irMhPpcP"
      },
      "source": [
        "soup = BeautifulSoup(response.content, 'html.parser')"
      ],
      "execution_count": null,
      "outputs": []
    },
    {
      "cell_type": "code",
      "metadata": {
        "id": "S8pTl568Qd7j"
      },
      "source": [
        "soup"
      ],
      "execution_count": null,
      "outputs": []
    },
    {
      "cell_type": "code",
      "metadata": {
        "id": "yynOW-WrQkVt"
      },
      "source": [
        "covid_tables = soup.find_all('table')"
      ],
      "execution_count": null,
      "outputs": []
    },
    {
      "cell_type": "code",
      "metadata": {
        "colab": {
          "base_uri": "https://localhost:8080/"
        },
        "id": "nwJyEYEZWPL6",
        "outputId": "515f1afb-b4e2-4bb2-e798-857de32488a4"
      },
      "source": [
        "len(covid_tables)"
      ],
      "execution_count": null,
      "outputs": [
        {
          "output_type": "execute_result",
          "data": {
            "text/plain": [
              "1"
            ]
          },
          "metadata": {
            "tags": []
          },
          "execution_count": 43
        }
      ]
    },
    {
      "cell_type": "code",
      "metadata": {
        "colab": {
          "base_uri": "https://localhost:8080/",
          "height": 35
        },
        "id": "S1U8Rcqgf-tX",
        "outputId": "fb348d11-813d-4ab0-ddc9-dfcb022bd097"
      },
      "source": [
        "dateUpdated = soup.find('div', class_='alert alert-info')\n",
        "date = dateUpdated.get_text()[-13:-2]\n",
        "date"
      ],
      "execution_count": null,
      "outputs": [
        {
          "output_type": "execute_result",
          "data": {
            "application/vnd.google.colaboratory.intrinsic+json": {
              "type": "string"
            },
            "text/plain": [
              "'19 Nov 2020'"
            ]
          },
          "metadata": {
            "tags": []
          },
          "execution_count": 67
        }
      ]
    },
    {
      "cell_type": "code",
      "metadata": {
        "id": "bV14W6RIRAJN"
      },
      "source": [
        "table = covid_tables[0]\n",
        "rows = table.find_all('tr')\n",
        "\n",
        "# for row in table.find_all('tr'):\n",
        "#   for cell in row.find_all('td'):\n",
        "#     print(cell.text)"
      ],
      "execution_count": null,
      "outputs": []
    },
    {
      "cell_type": "code",
      "metadata": {
        "id": "NuaOtuD1RCj4"
      },
      "source": [
        "csvFile = open('CovidBali.csv', 'w')\n",
        "writer = csv.writer(csvFile)\n",
        "try:\n",
        "  writer.writerow(['Data from', date, 'from https://infocorona.baliprov.go.id/'])\n",
        "  for row in rows:\n",
        "    csvRow = []\n",
        "    for cell in row.find_all(['td', 'th']):\n",
        "      csvRow.append(cell.get_text())\n",
        "    writer.writerow(csvRow)\n",
        "finally:\n",
        "  csvFile.close()"
      ],
      "execution_count": null,
      "outputs": []
    },
    {
      "cell_type": "code",
      "metadata": {
        "colab": {
          "base_uri": "https://localhost:8080/"
        },
        "id": "ryFmg6xMbYrX",
        "outputId": "0a543ea9-7721-4a20-9b28-00924fb9cabd"
      },
      "source": [
        "with open('CovidBali.csv', 'r') as f:\n",
        "  for row in f:\n",
        "    print(row)\n",
        "\n",
        "# dictReader = csv.DictReader('CovidBali.csv')\n",
        "# print(dictReader.fieldnames)\n",
        "# for row in dictReader:\n",
        "#   print(row)"
      ],
      "execution_count": null,
      "outputs": [
        {
          "output_type": "stream",
          "text": [
            "Data from,19 Nov 2020,from https://infocorona.baliprov.go.id/\n",
            "\n",
            "NO,KABUPATEN / KOTA,SUMBER PENULARAN POSITIF COVID-19 DI BALI\n",
            "\n",
            "PPLN / PMI,PPDN,Transmisi Lokal,Lainnya,TOTAL\n",
            "\n",
            "+,JMLH,+,JMLH,+,JMLH,+,JMLH,+,JMLH\n",
            "\n",
            "1,JEMBRANA,0,26,0,11,5,459,0,0,5,496\n",
            "\n",
            "2,TABANAN,0,21,0,8,15,931,0,0,15,960\n",
            "\n",
            "3,BADUNG,0,27,0,4,15,2229,0,0,15,2260\n",
            "\n",
            "4,DENPASAR,0,48,0,21,28,3527,0,0,28,3596\n",
            "\n",
            "5,GIANYAR,0,29,0,12,14,1685,0,0,14,1726\n",
            "\n",
            "6,BANGLI,0,58,0,3,0,808,0,0,0,869\n",
            "\n",
            "7,KLUNGKUNG,0,19,0,0,0,891,0,0,0,910\n",
            "\n",
            "8,KARANGASEM,0,23,0,0,6,944,0,0,6,967\n",
            "\n",
            "9,BULELENG,0,41,0,6,5,1097,0,0,5,1144\n",
            "\n",
            "10,KABUPATEN LAINNYA,0,5,0,30,0,11,0,0,0,46\n",
            "\n",
            "11,WARGA NEGARA ASING,0,8,0,2,0,21,0,0,0,31\n",
            "\n",
            "TOTAL,0,305,0,97,88,12603,0,0,88,13005\n",
            "\n"
          ],
          "name": "stdout"
        }
      ]
    },
    {
      "cell_type": "code",
      "metadata": {
        "id": "5zKQjZL2dbbp"
      },
      "source": [
        ""
      ],
      "execution_count": null,
      "outputs": []
    }
  ]
}