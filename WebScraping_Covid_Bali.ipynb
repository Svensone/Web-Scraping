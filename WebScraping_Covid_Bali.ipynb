{
  "nbformat": 4,
  "nbformat_minor": 0,
  "metadata": {
    "colab": {
      "name": "WebScraping Covid/Bali.ipynb",
      "provenance": [],
      "collapsed_sections": [],
      "authorship_tag": "ABX9TyMxIb3fLOnRQGZ51aRJWAg/",
      "include_colab_link": true
    },
    "kernelspec": {
      "name": "python3",
      "display_name": "Python 3"
    }
  },
  "cells": [
    {
      "cell_type": "markdown",
      "metadata": {
        "id": "view-in-github",
        "colab_type": "text"
      },
      "source": [
        "<a href=\"https://colab.research.google.com/github/Svensone/Web-Scraping/blob/master/WebScraping_Covid_Bali.ipynb\" target=\"_parent\"><img src=\"https://colab.research.google.com/assets/colab-badge.svg\" alt=\"Open In Colab\"/></a>"
      ]
    },
    {
      "cell_type": "code",
      "metadata": {
        "id": "GyaN0buVwi-n"
      },
      "source": [
        ""
      ],
      "execution_count": null,
      "outputs": []
    },
    {
      "cell_type": "markdown",
      "metadata": {
        "id": "9H9OYDDxwh6l"
      },
      "source": [
        "# Summary\n",
        "\n",
        "1) get covid cases per regency in Bali\n",
        "\n",
        "2) additional data for Bali Province\n",
        "- population and area of regencies\n",
        "- hospital beds\n",
        "\n",
        "3) comparison on national level\n"
      ]
    },
    {
      "cell_type": "code",
      "metadata": {
        "id": "4WSnRMwvOnd-"
      },
      "source": [
        "## install necessary dependencies etc.\n",
        "\n",
        "!pip install scrapy"
      ],
      "execution_count": null,
      "outputs": []
    },
    {
      "cell_type": "code",
      "metadata": {
        "id": "s_hilg1AOZLC"
      },
      "source": [
        "## import dependencies\n",
        "\n",
        "# Web Scraping\n",
        "import scrapy\n",
        "import requests\n",
        "from bs4 import BeautifulSoup\n",
        "import time\n",
        "import csv\n",
        "\n",
        "# Data processing\n",
        "import pandas as pd\n"
      ],
      "execution_count": 70,
      "outputs": []
    },
    {
      "cell_type": "markdown",
      "metadata": {
        "id": "a3LaQQvynhXo"
      },
      "source": [
        "## 1. Covid Cases for Bali on Regencies level\n",
        "\n",
        "### scrapying data"
      ]
    },
    {
      "cell_type": "code",
      "metadata": {
        "id": "QipK_r5BOd3k"
      },
      "source": [
        "url = \"https://infocorona.baliprov.go.id/API/pendataan/laporan-harian-01.php\"\n",
        "headers = {'User-Agent': 'Mozilla/5.0'}"
      ],
      "execution_count": 5,
      "outputs": []
    },
    {
      "cell_type": "code",
      "metadata": {
        "id": "NcM7Q8bEPdGs"
      },
      "source": [
        "response = requests.get(url)"
      ],
      "execution_count": 6,
      "outputs": []
    },
    {
      "cell_type": "code",
      "metadata": {
        "colab": {
          "base_uri": "https://localhost:8080/"
        },
        "id": "1g5QxgiUPiZ0",
        "outputId": "0468dc3f-1082-4c0a-dc2c-17d39252f4de"
      },
      "source": [
        "response.status_code"
      ],
      "execution_count": 7,
      "outputs": [
        {
          "output_type": "execute_result",
          "data": {
            "text/plain": [
              "200"
            ]
          },
          "metadata": {
            "tags": []
          },
          "execution_count": 7
        }
      ]
    },
    {
      "cell_type": "code",
      "metadata": {
        "colab": {
          "base_uri": "https://localhost:8080/"
        },
        "id": "Ro9irgRxPkjg",
        "outputId": "4a77943b-716b-44a6-9b2b-4d41688e6c6f"
      },
      "source": [
        "response.content"
      ],
      "execution_count": 8,
      "outputs": [
        {
          "output_type": "execute_result",
          "data": {
            "text/plain": [
              "b'<link rel=\"stylesheet\" href=\"https://stackpath.bootstrapcdn.com/bootstrap/4.3.1/css/bootstrap.min.css\" >\\n<link rel=\"stylesheet\" href=\"https://use.fontawesome.com/releases/v5.7.2/css/all.css\">\\n<link rel=\"stylesheet\" href=\"https://pendataan.baliprov.go.id/assets/css/style.css?v=15\">\\n<link rel=\"stylesheet\" href=\"https://pendataan.baliprov.go.id/assets/css/widget-custom.css?v=1\">\\n\\n\\n<section class=\"section\">\\n<div class=\"section-header\" style=\"margin-top: 18px;\"><h1>Laporan Harian Berdasarkan Sumber Penularan pada Tiap Wilayah</h1></div>\\n<div class=\"section-body\"><div class=\"card\"><div class=\"card-body\">\\n\\n\\n<div class=\\'alert alert-info\\' role=\\'alert\\'>\\n    <b>Informasi!</b> Menampilkan data laporan tanggal 19 Nov 2020 . Karena data tanggal 20 Nov 2020 belum dipublish.\\n</div>\\n<div class=\"table-responsive text-center\">\\n    <table class=\"table table-bordered table-striped text-center\" border=\"1\">\\n    <thead>\\n        <tr>\\n            <th rowspan=\"3\">NO</th>\\n            <th rowspan=\"3\">KABUPATEN / KOTA</th>\\n            <th colspan=\"10\">SUMBER PENULARAN POSITIF COVID-19 DI BALI</th>\\n        </tr>\\n        <tr>\\n            <th colspan=\"2\">PPLN / PMI</th>\\n            <th colspan=\"2\">PPDN</th> \\n            <th colspan=\"2\">Transmisi Lokal</th>\\n            <th colspan=\"2\">Lainnya</th>\\n            <th colspan=\"2\">TOTAL</th>\\n        </tr>\\n        <tr>\\n            <th>+</th>\\n            <th>JMLH</th>\\n            <th>+</th>\\n            <th>JMLH</th>\\n            <th>+</th>\\n            <th>JMLH</th>\\n            <th>+</th>\\n            <th>JMLH</th>\\n            <th>+</th>\\n            <th>JMLH</th>\\n        </tr>\\n    </thead>\\n    <tbody>\\n        <tr><td>1</td><td style=\\'text-align: left;\\'>JEMBRANA</td><td>0</td><td>26</td><td>0</td><td>11</td><td>5</td><td>459</td><td>0</td><td>0</td><td>5</td><td>496</td></tr><tr><td>2</td><td style=\\'text-align: left;\\'>TABANAN</td><td>0</td><td>21</td><td>0</td><td>8</td><td>15</td><td>931</td><td>0</td><td>0</td><td>15</td><td>960</td></tr><tr><td>3</td><td style=\\'text-align: left;\\'>BADUNG</td><td>0</td><td>27</td><td>0</td><td>4</td><td>15</td><td>2229</td><td>0</td><td>0</td><td>15</td><td>2260</td></tr><tr><td>4</td><td style=\\'text-align: left;\\'>DENPASAR</td><td>0</td><td>48</td><td>0</td><td>21</td><td>28</td><td>3527</td><td>0</td><td>0</td><td>28</td><td>3596</td></tr><tr><td>5</td><td style=\\'text-align: left;\\'>GIANYAR</td><td>0</td><td>29</td><td>0</td><td>12</td><td>14</td><td>1685</td><td>0</td><td>0</td><td>14</td><td>1726</td></tr><tr><td>6</td><td style=\\'text-align: left;\\'>BANGLI</td><td>0</td><td>58</td><td>0</td><td>3</td><td>0</td><td>808</td><td>0</td><td>0</td><td>0</td><td>869</td></tr><tr><td>7</td><td style=\\'text-align: left;\\'>KLUNGKUNG</td><td>0</td><td>19</td><td>0</td><td>0</td><td>0</td><td>891</td><td>0</td><td>0</td><td>0</td><td>910</td></tr><tr><td>8</td><td style=\\'text-align: left;\\'>KARANGASEM</td><td>0</td><td>23</td><td>0</td><td>0</td><td>6</td><td>944</td><td>0</td><td>0</td><td>6</td><td>967</td></tr><tr><td>9</td><td style=\\'text-align: left;\\'>BULELENG</td><td>0</td><td>41</td><td>0</td><td>6</td><td>5</td><td>1097</td><td>0</td><td>0</td><td>5</td><td>1144</td></tr><tr><td>10</td><td style=\\'text-align: left;\\'>KABUPATEN LAINNYA</td><td>0</td><td>5</td><td>0</td><td>30</td><td>0</td><td>11</td><td>0</td><td>0</td><td>0</td><td>46</td></tr><tr><td>11</td><td style=\\'text-align: left;\\'>WARGA NEGARA ASING</td><td>0</td><td>8</td><td>0</td><td>2</td><td>0</td><td>21</td><td>0</td><td>0</td><td>0</td><td>31</td></tr>    </tbody>\\n    <tfoot>\\n        <tr style=\\'background-color: #ff5656;color: #fff;\\'><td colspan=\\'2\\' class=\\'text-left\\'>TOTAL</td><td>0</td><td>305</td><td>0</td><td>97</td><td>88</td><td>12603</td><td>0</td><td>0</td><td>88</td><td>13005</td></tr>    </tfoot>\\n    </table>\\n</div>\\n</div>\\n\\n<div class=\"card-footer\">\\nKeterangan :<br>\\n<ul class=\"listket-lapharianbnpb\">\\n    <li>Data yang tersaji sampai dengan 19 Nov 2020.</li>\\n    <li>Tanda <b>+</b> menunjukkan penambahan data hari ini dibandingkan dengan data kemarin.</li>\\n    <li>Info JMLH menunjukkan jumlah data sampai tanggal hari ini.</li>\\n</ul>\\n</div>\\n\\n</div></div></section>'"
            ]
          },
          "metadata": {
            "tags": []
          },
          "execution_count": 8
        }
      ]
    },
    {
      "cell_type": "code",
      "metadata": {
        "id": "Xfy_irMhPpcP"
      },
      "source": [
        "soup = BeautifulSoup(response.content, 'html.parser')"
      ],
      "execution_count": 9,
      "outputs": []
    },
    {
      "cell_type": "markdown",
      "metadata": {
        "id": "9R-xg3bEnn2R"
      },
      "source": [
        "## extract relevant data"
      ]
    },
    {
      "cell_type": "code",
      "metadata": {
        "id": "yynOW-WrQkVt"
      },
      "source": [
        "covid_tables = soup.find_all('table')"
      ],
      "execution_count": 11,
      "outputs": []
    },
    {
      "cell_type": "code",
      "metadata": {
        "colab": {
          "base_uri": "https://localhost:8080/"
        },
        "id": "nwJyEYEZWPL6",
        "outputId": "f4e3b50b-78b8-420b-c611-f50044312877"
      },
      "source": [
        "len(covid_tables)"
      ],
      "execution_count": 12,
      "outputs": [
        {
          "output_type": "execute_result",
          "data": {
            "text/plain": [
              "1"
            ]
          },
          "metadata": {
            "tags": []
          },
          "execution_count": 12
        }
      ]
    },
    {
      "cell_type": "code",
      "metadata": {
        "colab": {
          "base_uri": "https://localhost:8080/"
        },
        "id": "S1U8Rcqgf-tX",
        "outputId": "48ac2c86-451c-45ad-8edb-d9814aad67c0"
      },
      "source": [
        "## get update-date\n",
        "\n",
        "## MISSING \n",
        "## write code to check if updated\n",
        "\n",
        "## if not yet updated div shows:\n",
        "## \\nInformasi! Menampilkan data laporan tanggal 19 Nov 2020 . Karena data tanggal 20 Nov 2020 belum dipublish.\\n\n",
        "\n",
        "## if updated div shows:\n",
        "## \n",
        "\n",
        "dateUpdated = soup.find('div', class_='alert alert-info').get_text()\n",
        "\n",
        "# print(str(dateUpdated[-11:-2]))\n",
        "if dateUpdated[-11:-2]=='dipublish':\n",
        "  print('No new update yet available')\n",
        "else:\n",
        "  date = dateUpdated[-13:-2]"
      ],
      "execution_count": 32,
      "outputs": [
        {
          "output_type": "stream",
          "text": [
            "No new update yet available\n"
          ],
          "name": "stdout"
        }
      ]
    },
    {
      "cell_type": "code",
      "metadata": {
        "id": "bV14W6RIRAJN"
      },
      "source": [
        "## extract rows of table\n",
        "\n",
        "table = covid_tables[0]\n",
        "rows = table.find_all('tr')\n"
      ],
      "execution_count": 33,
      "outputs": []
    },
    {
      "cell_type": "code",
      "metadata": {
        "id": "NuaOtuD1RCj4"
      },
      "source": [
        "## write data to csv file\n",
        "\n",
        "csvFile = open('CovidBali.csv', 'a')\n",
        "writer = csv.writer(csvFile)\n",
        "\n",
        "try:\n",
        "  # write update-date\n",
        "  writer.writerow(['Data from', date, 'from https://infocorona.baliprov.go.id/'])\n",
        "\n",
        "  # get cell data\n",
        "  for row in rows:\n",
        "    csvRow = []\n",
        "    for cell in row.find_all(['td', 'th']):\n",
        "      csvRow.append(cell.get_text())\n",
        "    writer.writerow(csvRow)\n",
        "finally:\n",
        "  csvFile.close()"
      ],
      "execution_count": null,
      "outputs": []
    },
    {
      "cell_type": "code",
      "metadata": {
        "colab": {
          "base_uri": "https://localhost:8080/"
        },
        "id": "ryFmg6xMbYrX",
        "outputId": "0a543ea9-7721-4a20-9b28-00924fb9cabd"
      },
      "source": [
        "## check csv File\n",
        "\n",
        "with open('CovidBali.csv', 'r') as f:\n",
        "  for row in f:\n",
        "    print(row)"
      ],
      "execution_count": null,
      "outputs": [
        {
          "output_type": "stream",
          "text": [
            "Data from,19 Nov 2020,from https://infocorona.baliprov.go.id/\n",
            "\n",
            "NO,KABUPATEN / KOTA,SUMBER PENULARAN POSITIF COVID-19 DI BALI\n",
            "\n",
            "PPLN / PMI,PPDN,Transmisi Lokal,Lainnya,TOTAL\n",
            "\n",
            "+,JMLH,+,JMLH,+,JMLH,+,JMLH,+,JMLH\n",
            "\n",
            "1,JEMBRANA,0,26,0,11,5,459,0,0,5,496\n",
            "\n",
            "2,TABANAN,0,21,0,8,15,931,0,0,15,960\n",
            "\n",
            "3,BADUNG,0,27,0,4,15,2229,0,0,15,2260\n",
            "\n",
            "4,DENPASAR,0,48,0,21,28,3527,0,0,28,3596\n",
            "\n",
            "5,GIANYAR,0,29,0,12,14,1685,0,0,14,1726\n",
            "\n",
            "6,BANGLI,0,58,0,3,0,808,0,0,0,869\n",
            "\n",
            "7,KLUNGKUNG,0,19,0,0,0,891,0,0,0,910\n",
            "\n",
            "8,KARANGASEM,0,23,0,0,6,944,0,0,6,967\n",
            "\n",
            "9,BULELENG,0,41,0,6,5,1097,0,0,5,1144\n",
            "\n",
            "10,KABUPATEN LAINNYA,0,5,0,30,0,11,0,0,0,46\n",
            "\n",
            "11,WARGA NEGARA ASING,0,8,0,2,0,21,0,0,0,31\n",
            "\n",
            "TOTAL,0,305,0,97,88,12603,0,0,88,13005\n",
            "\n"
          ],
          "name": "stdout"
        }
      ]
    },
    {
      "cell_type": "code",
      "metadata": {
        "id": "5zKQjZL2dbbp"
      },
      "source": [
        "## 2. additional Data\n",
        "\n",
        "### Population and Area\n"
      ],
      "execution_count": null,
      "outputs": []
    },
    {
      "cell_type": "code",
      "metadata": {
        "colab": {
          "base_uri": "https://localhost:8080/"
        },
        "id": "QVHaWqLwxR7L",
        "outputId": "918fdf02-3163-4e86-a90c-e33d28995e84"
      },
      "source": [
        "url = 'https://id.wikipedia.org/wiki/Daftar_kabupaten_dan_kota_di_Bali#cite_note-:0bali-1'\n",
        "headers = {'User-Agent': 'Mozilla/5.0'}\n",
        "\n",
        "response = requests.get(url)\n",
        "print(response.status_code)\n",
        "\n",
        "soup = BeautifulSoup(response.content, \"html.parser\")\n",
        "\n",
        "#find table and extract data\n",
        "table2 = soup.find_all('table', class_=\"wikitable sortable mw-collapsible\")\n",
        "\n",
        "## create df\n",
        "## get 'th' data for columns name\n",
        "\n",
        "allRows = soup.find_all('tr')\n",
        "headerRow = allRows[0].find_all('th')\n",
        "\n",
        "\n",
        "header = []\n",
        "for cell in headerRow:\n",
        "  data = cell.get_text()\n",
        "  data = data.rstrip()\n",
        "  data = data.replace('/', ' ')\n",
        "  ## clean data from '[1]' Source link\n",
        "  # regex1 = /\\[.\\]/g\n",
        "  # data = data.replace(regex1, '')\n",
        "  header.append(data)\n",
        "\n",
        "header"
      ],
      "execution_count": 83,
      "outputs": [
        {
          "output_type": "stream",
          "text": [
            "200\n"
          ],
          "name": "stdout"
        },
        {
          "output_type": "execute_result",
          "data": {
            "text/plain": [
              "[<tr>\n",
              " <th>No.\n",
              " </th>\n",
              " <th>Kabupaten/kota\n",
              " </th>\n",
              " <th>Pusat pemerintahan\n",
              " </th>\n",
              " <th>Bupati/wali kota\n",
              " </th>\n",
              " <th>Luas wilayah (km<sup>2</sup>)<sup class=\"reference\" id=\"cite_ref-:0bali_1-0\"><a href=\"#cite_note-:0bali-1\">[1]</a></sup>\n",
              " </th>\n",
              " <th>Jumlah penduduk (2017)<sup class=\"reference\" id=\"cite_ref-:0bali_1-1\"><a href=\"#cite_note-:0bali-1\">[1]</a></sup>\n",
              " </th>\n",
              " <th>Kecamatan\n",
              " </th>\n",
              " <th>Kelurahan/desa\n",
              " </th>\n",
              " <th>Logo <div class=\"center\"><div class=\"floatnone\"><a class=\"image\" href=\"/wiki/Berkas:Coat_of_arms_of_Bali.svg\"><img alt=\"\" data-file-height=\"482\" data-file-width=\"506\" decoding=\"async\" height=\"57\" src=\"//upload.wikimedia.org/wikipedia/commons/thumb/1/10/Coat_of_arms_of_Bali.svg/60px-Coat_of_arms_of_Bali.svg.png\" srcset=\"//upload.wikimedia.org/wikipedia/commons/thumb/1/10/Coat_of_arms_of_Bali.svg/90px-Coat_of_arms_of_Bali.svg.png 1.5x, //upload.wikimedia.org/wikipedia/commons/thumb/1/10/Coat_of_arms_of_Bali.svg/120px-Coat_of_arms_of_Bali.svg.png 2x\" width=\"60\"/></a></div></div>\n",
              " </th>\n",
              " <th>Peta lokasi\n",
              " </th></tr>, <tr>\n",
              " <td>1</td>\n",
              " <td><a href=\"/wiki/Kabupaten_Badung\" title=\"Kabupaten Badung\">Kabupaten Badung</a></td>\n",
              " <td><a href=\"/wiki/Mengwi,_Badung\" title=\"Mengwi, Badung\">Mangupura</a></td>\n",
              " <td><a href=\"/wiki/I_Nyoman_Giri_Prasta\" title=\"I Nyoman Giri Prasta\">I Nyoman Giri Prasta</a>\n",
              " </td>\n",
              " <td>418,62\n",
              " </td>\n",
              " <td>468.346</td>\n",
              " <td align=\"center\"><a href=\"/wiki/Daftar_kecamatan_dan_kelurahan_di_Kabupaten_Badung\" title=\"Daftar kecamatan dan kelurahan di Kabupaten Badung\">6</a></td>\n",
              " <td align=\"center\"><a href=\"/wiki/Daftar_kecamatan_dan_kelurahan_di_Kabupaten_Badung\" title=\"Daftar kecamatan dan kelurahan di Kabupaten Badung\">16/46</a></td>\n",
              " <td><div class=\"center\"><div class=\"floatnone\"><a class=\"image\" href=\"/wiki/Berkas:Lambang_Kabupaten_Badung.png\"><img alt=\"Lambang Kabupaten Badung.png\" data-file-height=\"320\" data-file-width=\"328\" decoding=\"async\" height=\"49\" src=\"//upload.wikimedia.org/wikipedia/commons/thumb/d/d2/Lambang_Kabupaten_Badung.png/50px-Lambang_Kabupaten_Badung.png\" srcset=\"//upload.wikimedia.org/wikipedia/commons/thumb/d/d2/Lambang_Kabupaten_Badung.png/75px-Lambang_Kabupaten_Badung.png 1.5x, //upload.wikimedia.org/wikipedia/commons/thumb/d/d2/Lambang_Kabupaten_Badung.png/100px-Lambang_Kabupaten_Badung.png 2x\" width=\"50\"/></a></div></div>\n",
              " </td>\n",
              " <td><div class=\"center\"><div class=\"floatnone\"><a class=\"image\" href=\"/wiki/Berkas:Location_Badung_Regency.png\"><img alt=\"Location Badung Regency.png\" data-file-height=\"302\" data-file-width=\"480\" decoding=\"async\" height=\"94\" src=\"//upload.wikimedia.org/wikipedia/commons/thumb/4/46/Location_Badung_Regency.png/150px-Location_Badung_Regency.png\" srcset=\"//upload.wikimedia.org/wikipedia/commons/thumb/4/46/Location_Badung_Regency.png/225px-Location_Badung_Regency.png 1.5x, //upload.wikimedia.org/wikipedia/commons/thumb/4/46/Location_Badung_Regency.png/300px-Location_Badung_Regency.png 2x\" width=\"150\"/></a></div></div>\n",
              " </td></tr>, <tr>\n",
              " <td>2</td>\n",
              " <td><a href=\"/wiki/Kabupaten_Bangli\" title=\"Kabupaten Bangli\">Kabupaten Bangli</a></td>\n",
              " <td><a href=\"/wiki/Bangli,_Bangli\" title=\"Bangli, Bangli\">Bangli</a></td>\n",
              " <td><a href=\"/wiki/I_Made_Gianyar\" title=\"I Made Gianyar\">I Made Gianyar</a>\n",
              " </td>\n",
              " <td>490,71\n",
              " </td>\n",
              " <td>264.945</td>\n",
              " <td align=\"center\"><a href=\"/wiki/Daftar_kecamatan_dan_kelurahan_di_Kabupaten_Bangli\" title=\"Daftar kecamatan dan kelurahan di Kabupaten Bangli\">4</a></td>\n",
              " <td align=\"center\"><a href=\"/wiki/Daftar_kecamatan_dan_kelurahan_di_Kabupaten_Bangli\" title=\"Daftar kecamatan dan kelurahan di Kabupaten Bangli\">4/68</a></td>\n",
              " <td><div class=\"center\"><div class=\"floatnone\"><a class=\"image\" href=\"/wiki/Berkas:Lambang_Kab_Bangli.png\"><img alt=\"Lambang Kab Bangli.png\" data-file-height=\"831\" data-file-width=\"896\" decoding=\"async\" height=\"46\" src=\"//upload.wikimedia.org/wikipedia/commons/thumb/3/39/Lambang_Kab_Bangli.png/50px-Lambang_Kab_Bangli.png\" srcset=\"//upload.wikimedia.org/wikipedia/commons/thumb/3/39/Lambang_Kab_Bangli.png/75px-Lambang_Kab_Bangli.png 1.5x, //upload.wikimedia.org/wikipedia/commons/thumb/3/39/Lambang_Kab_Bangli.png/100px-Lambang_Kab_Bangli.png 2x\" width=\"50\"/></a></div></div>\n",
              " </td>\n",
              " <td><div class=\"center\"><div class=\"floatnone\"><a class=\"image\" href=\"/wiki/Berkas:Location_Bangli_Regency.png\"><img alt=\"Location Bangli Regency.png\" data-file-height=\"302\" data-file-width=\"480\" decoding=\"async\" height=\"94\" src=\"//upload.wikimedia.org/wikipedia/commons/thumb/8/82/Location_Bangli_Regency.png/150px-Location_Bangli_Regency.png\" srcset=\"//upload.wikimedia.org/wikipedia/commons/thumb/8/82/Location_Bangli_Regency.png/225px-Location_Bangli_Regency.png 1.5x, //upload.wikimedia.org/wikipedia/commons/thumb/8/82/Location_Bangli_Regency.png/300px-Location_Bangli_Regency.png 2x\" width=\"150\"/></a></div></div>\n",
              " </td></tr>, <tr>\n",
              " <td>3</td>\n",
              " <td><a href=\"/wiki/Kabupaten_Buleleng\" title=\"Kabupaten Buleleng\">Kabupaten Buleleng</a></td>\n",
              " <td><a href=\"/wiki/Singaraja_(kota)\" title=\"Singaraja (kota)\">Singaraja</a></td>\n",
              " <td><a href=\"/wiki/Putu_Agus_Suradnyana\" title=\"Putu Agus Suradnyana\">Putu Agus Suradnyana</a>\n",
              " </td>\n",
              " <td>1.364,73\n",
              " </td>\n",
              " <td>814.356</td>\n",
              " <td align=\"center\"><a href=\"/wiki/Daftar_kecamatan_dan_kelurahan_di_Kabupaten_Buleleng\" title=\"Daftar kecamatan dan kelurahan di Kabupaten Buleleng\">9</a></td>\n",
              " <td align=\"center\"><a href=\"/wiki/Daftar_kecamatan_dan_kelurahan_di_Kabupaten_Buleleng\" title=\"Daftar kecamatan dan kelurahan di Kabupaten Buleleng\">19/129</a></td>\n",
              " <td><div class=\"center\"><div class=\"floatnone\"><a class=\"image\" href=\"/wiki/Berkas:Lambang_Kabupaten_Buleleng.png\"><img alt=\"Lambang Kabupaten Buleleng.png\" data-file-height=\"676\" data-file-width=\"700\" decoding=\"async\" height=\"48\" src=\"//upload.wikimedia.org/wikipedia/commons/thumb/4/45/Lambang_Kabupaten_Buleleng.png/50px-Lambang_Kabupaten_Buleleng.png\" srcset=\"//upload.wikimedia.org/wikipedia/commons/thumb/4/45/Lambang_Kabupaten_Buleleng.png/75px-Lambang_Kabupaten_Buleleng.png 1.5x, //upload.wikimedia.org/wikipedia/commons/thumb/4/45/Lambang_Kabupaten_Buleleng.png/100px-Lambang_Kabupaten_Buleleng.png 2x\" width=\"50\"/></a></div></div>\n",
              " </td>\n",
              " <td><div class=\"center\"><div class=\"floatnone\"><a class=\"image\" href=\"/wiki/Berkas:Location_Buleleng_Regency.png\"><img alt=\"Location Buleleng Regency.png\" data-file-height=\"302\" data-file-width=\"480\" decoding=\"async\" height=\"94\" src=\"//upload.wikimedia.org/wikipedia/commons/thumb/d/de/Location_Buleleng_Regency.png/150px-Location_Buleleng_Regency.png\" srcset=\"//upload.wikimedia.org/wikipedia/commons/thumb/d/de/Location_Buleleng_Regency.png/225px-Location_Buleleng_Regency.png 1.5x, //upload.wikimedia.org/wikipedia/commons/thumb/d/de/Location_Buleleng_Regency.png/300px-Location_Buleleng_Regency.png 2x\" width=\"150\"/></a></div></div>\n",
              " </td></tr>, <tr>\n",
              " <td>4</td>\n",
              " <td><a href=\"/wiki/Kabupaten_Gianyar\" title=\"Kabupaten Gianyar\">Kabupaten Gianyar</a></td>\n",
              " <td><a href=\"/wiki/Gianyar,_Gianyar\" title=\"Gianyar, Gianyar\">Gianyar</a></td>\n",
              " <td><a href=\"/wiki/I_Made_Agus_Mahayastra\" title=\"I Made Agus Mahayastra\">I Made Agus Mahayastra</a>\n",
              " </td>\n",
              " <td>368,00\n",
              " </td>\n",
              " <td>492.757</td>\n",
              " <td align=\"center\"><a href=\"/wiki/Daftar_kecamatan_dan_kelurahan_di_Kabupaten_Gianyar\" title=\"Daftar kecamatan dan kelurahan di Kabupaten Gianyar\">7</a></td>\n",
              " <td align=\"center\"><a href=\"/wiki/Daftar_kecamatan_dan_kelurahan_di_Kabupaten_Gianyar\" title=\"Daftar kecamatan dan kelurahan di Kabupaten Gianyar\">6/64</a></td>\n",
              " <td><div class=\"center\"><div class=\"floatnone\"><a class=\"image\" href=\"/wiki/Berkas:Lambang_Kab_Gianyar.png\"><img alt=\"Lambang Kab Gianyar.png\" data-file-height=\"258\" data-file-width=\"250\" decoding=\"async\" height=\"52\" src=\"//upload.wikimedia.org/wikipedia/commons/thumb/7/73/Lambang_Kab_Gianyar.png/50px-Lambang_Kab_Gianyar.png\" srcset=\"//upload.wikimedia.org/wikipedia/commons/thumb/7/73/Lambang_Kab_Gianyar.png/75px-Lambang_Kab_Gianyar.png 1.5x, //upload.wikimedia.org/wikipedia/commons/thumb/7/73/Lambang_Kab_Gianyar.png/100px-Lambang_Kab_Gianyar.png 2x\" width=\"50\"/></a></div></div>\n",
              " </td>\n",
              " <td><div class=\"center\"><div class=\"floatnone\"><a class=\"image\" href=\"/wiki/Berkas:Location_Gianyar_Regency.png\"><img alt=\"Location Gianyar Regency.png\" data-file-height=\"302\" data-file-width=\"480\" decoding=\"async\" height=\"94\" src=\"//upload.wikimedia.org/wikipedia/commons/thumb/c/c6/Location_Gianyar_Regency.png/150px-Location_Gianyar_Regency.png\" srcset=\"//upload.wikimedia.org/wikipedia/commons/thumb/c/c6/Location_Gianyar_Regency.png/225px-Location_Gianyar_Regency.png 1.5x, //upload.wikimedia.org/wikipedia/commons/thumb/c/c6/Location_Gianyar_Regency.png/300px-Location_Gianyar_Regency.png 2x\" width=\"150\"/></a></div></div>\n",
              " </td></tr>, <tr>\n",
              " <td>5</td>\n",
              " <td><a href=\"/wiki/Kabupaten_Jembrana\" title=\"Kabupaten Jembrana\">Kabupaten Jembrana</a></td>\n",
              " <td><a href=\"/wiki/Negara,_Jembrana\" title=\"Negara, Jembrana\">Negara</a></td>\n",
              " <td><a href=\"/wiki/I_Putu_Artha\" title=\"I Putu Artha\">I Putu Artha</a>\n",
              " </td>\n",
              " <td>841,80\n",
              " </td>\n",
              " <td>323.211</td>\n",
              " <td align=\"center\"><a href=\"/wiki/Daftar_kecamatan_dan_kelurahan_di_Kabupaten_Jembrana\" title=\"Daftar kecamatan dan kelurahan di Kabupaten Jembrana\">5</a></td>\n",
              " <td align=\"center\"><a href=\"/wiki/Daftar_kecamatan_dan_kelurahan_di_Kabupaten_Jembrana\" title=\"Daftar kecamatan dan kelurahan di Kabupaten Jembrana\">10/41</a></td>\n",
              " <td><div class=\"center\"><div class=\"floatnone\"><a class=\"image\" href=\"/wiki/Berkas:Lambang_Kab_Jembrana.png\"><img alt=\"Lambang Kab Jembrana.png\" data-file-height=\"1600\" data-file-width=\"1555\" decoding=\"async\" height=\"51\" src=\"//upload.wikimedia.org/wikipedia/commons/thumb/8/83/Lambang_Kab_Jembrana.png/50px-Lambang_Kab_Jembrana.png\" srcset=\"//upload.wikimedia.org/wikipedia/commons/thumb/8/83/Lambang_Kab_Jembrana.png/75px-Lambang_Kab_Jembrana.png 1.5x, //upload.wikimedia.org/wikipedia/commons/thumb/8/83/Lambang_Kab_Jembrana.png/100px-Lambang_Kab_Jembrana.png 2x\" width=\"50\"/></a></div></div>\n",
              " </td>\n",
              " <td><div class=\"center\"><div class=\"floatnone\"><a class=\"image\" href=\"/wiki/Berkas:Location_Jembrana_Regency.png\"><img alt=\"Location Jembrana Regency.png\" data-file-height=\"302\" data-file-width=\"480\" decoding=\"async\" height=\"94\" src=\"//upload.wikimedia.org/wikipedia/commons/thumb/b/be/Location_Jembrana_Regency.png/150px-Location_Jembrana_Regency.png\" srcset=\"//upload.wikimedia.org/wikipedia/commons/thumb/b/be/Location_Jembrana_Regency.png/225px-Location_Jembrana_Regency.png 1.5x, //upload.wikimedia.org/wikipedia/commons/thumb/b/be/Location_Jembrana_Regency.png/300px-Location_Jembrana_Regency.png 2x\" width=\"150\"/></a></div></div>\n",
              " </td></tr>, <tr>\n",
              " <td>6</td>\n",
              " <td><a href=\"/wiki/Kabupaten_Karangasem\" title=\"Kabupaten Karangasem\">Kabupaten Karangasem</a></td>\n",
              " <td><a href=\"/wiki/Amlapura_(kota)\" title=\"Amlapura (kota)\">Amlapura</a></td>\n",
              " <td><a href=\"/wiki/I_Gusti_Ayu_Mas_Sumatri\" title=\"I Gusti Ayu Mas Sumatri\">I Gusti Ayu Mas Sumatri</a>\n",
              " </td>\n",
              " <td>839,54\n",
              " </td>\n",
              " <td>545.389</td>\n",
              " <td align=\"center\"><a href=\"/wiki/Daftar_kecamatan_dan_kelurahan_di_Kabupaten_Karangasem\" title=\"Daftar kecamatan dan kelurahan di Kabupaten Karangasem\">8</a></td>\n",
              " <td align=\"center\"><a href=\"/wiki/Daftar_kecamatan_dan_kelurahan_di_Kabupaten_Karangasem\" title=\"Daftar kecamatan dan kelurahan di Kabupaten Karangasem\">3/75</a></td>\n",
              " <td><div class=\"center\"><div class=\"floatnone\"><a class=\"image\" href=\"/wiki/Berkas:Lambang_Kabupaten_Karangasem.png\"><img alt=\"Lambang Kabupaten Karangasem.png\" data-file-height=\"876\" data-file-width=\"673\" decoding=\"async\" height=\"65\" src=\"//upload.wikimedia.org/wikipedia/commons/thumb/3/30/Lambang_Kabupaten_Karangasem.png/50px-Lambang_Kabupaten_Karangasem.png\" srcset=\"//upload.wikimedia.org/wikipedia/commons/thumb/3/30/Lambang_Kabupaten_Karangasem.png/75px-Lambang_Kabupaten_Karangasem.png 1.5x, //upload.wikimedia.org/wikipedia/commons/thumb/3/30/Lambang_Kabupaten_Karangasem.png/100px-Lambang_Kabupaten_Karangasem.png 2x\" width=\"50\"/></a></div></div>\n",
              " </td>\n",
              " <td><div class=\"center\"><div class=\"floatnone\"><a class=\"image\" href=\"/wiki/Berkas:Locator_Karangasem_Regency.png\"><img alt=\"Locator Karangasem Regency.png\" data-file-height=\"302\" data-file-width=\"480\" decoding=\"async\" height=\"94\" src=\"//upload.wikimedia.org/wikipedia/commons/thumb/7/7b/Locator_Karangasem_Regency.png/150px-Locator_Karangasem_Regency.png\" srcset=\"//upload.wikimedia.org/wikipedia/commons/thumb/7/7b/Locator_Karangasem_Regency.png/225px-Locator_Karangasem_Regency.png 1.5x, //upload.wikimedia.org/wikipedia/commons/thumb/7/7b/Locator_Karangasem_Regency.png/300px-Locator_Karangasem_Regency.png 2x\" width=\"150\"/></a></div></div>\n",
              " </td></tr>, <tr>\n",
              " <td>7</td>\n",
              " <td><a href=\"/wiki/Kabupaten_Klungkung\" title=\"Kabupaten Klungkung\">Kabupaten Klungkung</a></td>\n",
              " <td><a href=\"/wiki/Semarapura\" title=\"Semarapura\">Semarapura</a></td>\n",
              " <td><a href=\"/wiki/I_Nyoman_Suwirta\" title=\"I Nyoman Suwirta\">I Nyoman Suwirta</a>\n",
              " </td>\n",
              " <td>315,00\n",
              " </td>\n",
              " <td>215.852</td>\n",
              " <td align=\"center\"><a href=\"/wiki/Daftar_kecamatan_dan_kelurahan_di_Kabupaten_Klungkung\" title=\"Daftar kecamatan dan kelurahan di Kabupaten Klungkung\">4</a></td>\n",
              " <td align=\"center\"><a href=\"/wiki/Daftar_kecamatan_dan_kelurahan_di_Kabupaten_Klungkung\" title=\"Daftar kecamatan dan kelurahan di Kabupaten Klungkung\">6/53</a></td>\n",
              " <td><div class=\"center\"><div class=\"floatnone\"><a class=\"image\" href=\"/wiki/Berkas:Lambang_Kabupaten_Klungkung.png\"><img alt=\"Lambang Kabupaten Klungkung.png\" data-file-height=\"1508\" data-file-width=\"1600\" decoding=\"async\" height=\"47\" src=\"//upload.wikimedia.org/wikipedia/commons/thumb/f/fe/Lambang_Kabupaten_Klungkung.png/50px-Lambang_Kabupaten_Klungkung.png\" srcset=\"//upload.wikimedia.org/wikipedia/commons/thumb/f/fe/Lambang_Kabupaten_Klungkung.png/75px-Lambang_Kabupaten_Klungkung.png 1.5x, //upload.wikimedia.org/wikipedia/commons/thumb/f/fe/Lambang_Kabupaten_Klungkung.png/100px-Lambang_Kabupaten_Klungkung.png 2x\" width=\"50\"/></a></div></div>\n",
              " </td>\n",
              " <td><div class=\"center\"><div class=\"floatnone\"><a class=\"image\" href=\"/wiki/Berkas:Location_Klungkung_Regency.png\"><img alt=\"Location Klungkung Regency.png\" data-file-height=\"302\" data-file-width=\"480\" decoding=\"async\" height=\"94\" src=\"//upload.wikimedia.org/wikipedia/commons/thumb/6/6a/Location_Klungkung_Regency.png/150px-Location_Klungkung_Regency.png\" srcset=\"//upload.wikimedia.org/wikipedia/commons/thumb/6/6a/Location_Klungkung_Regency.png/225px-Location_Klungkung_Regency.png 1.5x, //upload.wikimedia.org/wikipedia/commons/thumb/6/6a/Location_Klungkung_Regency.png/300px-Location_Klungkung_Regency.png 2x\" width=\"150\"/></a></div></div>\n",
              " </td></tr>, <tr>\n",
              " <td>8</td>\n",
              " <td><a href=\"/wiki/Kabupaten_Tabanan\" title=\"Kabupaten Tabanan\">Kabupaten Tabanan</a></td>\n",
              " <td><a href=\"/wiki/Tabanan,_Tabanan\" title=\"Tabanan, Tabanan\">Tabanan</a></td>\n",
              " <td><a href=\"/wiki/Ni_Putu_Eka_Wiryastuti\" title=\"Ni Putu Eka Wiryastuti\">Ni Putu Eka Wiryastuti</a>\n",
              " </td>\n",
              " <td>1.013,88\n",
              " </td>\n",
              " <td>466.647</td>\n",
              " <td align=\"center\"><a href=\"/wiki/Daftar_kecamatan_dan_kelurahan_di_Kabupaten_Tabanan\" title=\"Daftar kecamatan dan kelurahan di Kabupaten Tabanan\">10</a></td>\n",
              " <td align=\"center\"><a href=\"/wiki/Daftar_kecamatan_dan_kelurahan_di_Kabupaten_Tabanan\" title=\"Daftar kecamatan dan kelurahan di Kabupaten Tabanan\">-/133</a></td>\n",
              " <td><div class=\"center\"><div class=\"floatnone\"><a class=\"image\" href=\"/w/index.php?title=Berkas:Lambang_Kabupaten_Tabanan.png&amp;filetimestamp=20060829131244&amp;\"><img alt=\"Lambang Kabupaten Tabanan.png\" data-file-height=\"1016\" data-file-width=\"988\" decoding=\"async\" height=\"51\" src=\"//upload.wikimedia.org/wikipedia/id/thumb/7/7d/Lambang_Kabupaten_Tabanan.png/50px-Lambang_Kabupaten_Tabanan.png\" srcset=\"//upload.wikimedia.org/wikipedia/id/thumb/7/7d/Lambang_Kabupaten_Tabanan.png/75px-Lambang_Kabupaten_Tabanan.png 1.5x, //upload.wikimedia.org/wikipedia/id/thumb/7/7d/Lambang_Kabupaten_Tabanan.png/100px-Lambang_Kabupaten_Tabanan.png 2x\" width=\"50\"/></a></div></div>\n",
              " </td>\n",
              " <td><div class=\"center\"><div class=\"floatnone\"><a class=\"image\" href=\"/wiki/Berkas:Location_Tabanan_Regency.png\"><img alt=\"Location Tabanan Regency.png\" data-file-height=\"302\" data-file-width=\"480\" decoding=\"async\" height=\"94\" src=\"//upload.wikimedia.org/wikipedia/commons/thumb/5/5f/Location_Tabanan_Regency.png/150px-Location_Tabanan_Regency.png\" srcset=\"//upload.wikimedia.org/wikipedia/commons/thumb/5/5f/Location_Tabanan_Regency.png/225px-Location_Tabanan_Regency.png 1.5x, //upload.wikimedia.org/wikipedia/commons/thumb/5/5f/Location_Tabanan_Regency.png/300px-Location_Tabanan_Regency.png 2x\" width=\"150\"/></a></div></div>\n",
              " </td></tr>, <tr>\n",
              " <td>9</td>\n",
              " <td><a href=\"/wiki/Kota_Denpasar\" title=\"Kota Denpasar\">Kota Denpasar</a></td>\n",
              " <td>-</td>\n",
              " <td><a href=\"/wiki/Ida_Bagus_Rai_Dharmawijaya_Mantra\" title=\"Ida Bagus Rai Dharmawijaya Mantra\">Ida Bagus Rai Dharmawijaya Mantra</a>\n",
              " </td>\n",
              " <td>127,78\n",
              " </td>\n",
              " <td>638.548</td>\n",
              " <td align=\"center\"><a href=\"/wiki/Daftar_kecamatan_dan_kelurahan_di_Kota_Denpasar\" title=\"Daftar kecamatan dan kelurahan di Kota Denpasar\">4</a></td>\n",
              " <td align=\"center\"><a href=\"/wiki/Daftar_kecamatan_dan_kelurahan_di_Kota_Denpasar\" title=\"Daftar kecamatan dan kelurahan di Kota Denpasar\">16/27</a></td>\n",
              " <td><div class=\"center\"><div class=\"floatnone\"><a class=\"image\" href=\"/wiki/Berkas:Lambang_Kota_Denpasar_(1).png\"><img alt=\"Lambang Kota Denpasar (1).png\" data-file-height=\"1874\" data-file-width=\"1971\" decoding=\"async\" height=\"48\" src=\"//upload.wikimedia.org/wikipedia/commons/thumb/6/65/Lambang_Kota_Denpasar_%281%29.png/50px-Lambang_Kota_Denpasar_%281%29.png\" srcset=\"//upload.wikimedia.org/wikipedia/commons/thumb/6/65/Lambang_Kota_Denpasar_%281%29.png/75px-Lambang_Kota_Denpasar_%281%29.png 1.5x, //upload.wikimedia.org/wikipedia/commons/thumb/6/65/Lambang_Kota_Denpasar_%281%29.png/100px-Lambang_Kota_Denpasar_%281%29.png 2x\" width=\"50\"/></a></div></div>\n",
              " </td>\n",
              " <td><div class=\"center\"><div class=\"floatnone\"><a class=\"image\" href=\"/wiki/Berkas:Location_Denpasar.png\"><img alt=\"\" data-file-height=\"302\" data-file-width=\"480\" decoding=\"async\" height=\"94\" src=\"//upload.wikimedia.org/wikipedia/commons/thumb/e/e5/Location_Denpasar.png/150px-Location_Denpasar.png\" srcset=\"//upload.wikimedia.org/wikipedia/commons/thumb/e/e5/Location_Denpasar.png/225px-Location_Denpasar.png 1.5x, //upload.wikimedia.org/wikipedia/commons/thumb/e/e5/Location_Denpasar.png/300px-Location_Denpasar.png 2x\" width=\"150\"/></a></div></div>\n",
              " </td></tr>, <tr><th class=\"navbox-title\" colspan=\"2\" scope=\"col\" style=\"background:\"><div class=\"plainlinks hlist navbar mini\"><ul><li class=\"nv-lihat\"><a href=\"/wiki/Templat:Daftar_Dati_II\" title=\"Templat:Daftar Dati II\"><abbr style=\";background:;background:none transparent;border:none;-moz-box-shadow:none;-webkit-box-shadow:none;box-shadow:none; padding:0;\" title=\"Lihat templat ini\">l</abbr></a></li><li class=\"nv-bicara\"><a class=\"new\" href=\"/w/index.php?title=Pembicaraan_Templat:Daftar_Dati_II&amp;action=edit&amp;redlink=1\" title=\"Pembicaraan Templat:Daftar Dati II (halaman belum tersedia)\"><abbr style=\";background:;background:none transparent;border:none;-moz-box-shadow:none;-webkit-box-shadow:none;box-shadow:none; padding:0;\" title=\"Diskusikan templat ini\">b</abbr></a></li><li class=\"nv-sunting\"><a class=\"external text\" href=\"https://id.wikipedia.org/w/index.php?title=Templat:Daftar_Dati_II&amp;action=edit\"><abbr style=\";background:;background:none transparent;border:none;-moz-box-shadow:none;-webkit-box-shadow:none;box-shadow:none; padding:0;\" title=\"Sunting templat ini\">s</abbr></a></li></ul></div><div id=\"Daftar_kabupaten_dan_kota_di_Indonesia_menurut_provinsi\" style=\"font-size:114%;margin:0 4em\"><a class=\"mw-redirect\" href=\"/wiki/Daftar_kabupaten_dan_kota_Indonesia\" title=\"Daftar kabupaten dan kota Indonesia\">Daftar kabupaten dan kota</a> di <a href=\"/wiki/Indonesia\" title=\"Indonesia\">Indonesia</a> menurut <a class=\"mw-redirect\" href=\"/wiki/Daftar_provinsi_di_Indonesia\" title=\"Daftar provinsi di Indonesia\">provinsi</a></div></th></tr>, <tr><th class=\"navbox-group\" scope=\"row\" style=\"width:1%;text-align:right;\"><a href=\"/wiki/Sumatra\" title=\"Sumatra\">Sumatra</a></th><td class=\"navbox-list navbox-odd hlist\" style=\"text-align:left;border-left-width:2px;border-left-style:solid;width:100%;padding:0px\"><div style=\"padding:0em 0.25em\">\n",
              " <ul><li><a href=\"/wiki/Daftar_kabupaten_dan_kota_di_Aceh\" title=\"Daftar kabupaten dan kota di Aceh\">Aceh</a></li>\n",
              " <li><a href=\"/wiki/Daftar_kabupaten_dan_kota_di_Sumatra_Utara\" title=\"Daftar kabupaten dan kota di Sumatra Utara\">Sumatra Utara</a></li>\n",
              " <li><a href=\"/wiki/Daftar_kabupaten_dan_kota_di_Sumatra_Barat\" title=\"Daftar kabupaten dan kota di Sumatra Barat\">Sumatra Barat</a></li>\n",
              " <li><a href=\"/wiki/Daftar_kabupaten_dan_kota_di_Bengkulu\" title=\"Daftar kabupaten dan kota di Bengkulu\">Bengkulu</a></li>\n",
              " <li><a href=\"/wiki/Daftar_kabupaten_dan_kota_di_Riau\" title=\"Daftar kabupaten dan kota di Riau\">Riau</a></li>\n",
              " <li><a href=\"/wiki/Daftar_kabupaten_dan_kota_di_Kepulauan_Riau\" title=\"Daftar kabupaten dan kota di Kepulauan Riau\">Kepulauan Riau</a></li>\n",
              " <li><a href=\"/wiki/Daftar_kabupaten_dan_kota_di_Jambi\" title=\"Daftar kabupaten dan kota di Jambi\">Jambi</a></li>\n",
              " <li><a href=\"/wiki/Daftar_kabupaten_dan_kota_di_Sumatra_Selatan\" title=\"Daftar kabupaten dan kota di Sumatra Selatan\">Sumatra Selatan</a></li>\n",
              " <li><a href=\"/wiki/Daftar_kabupaten_dan_kota_di_Lampung\" title=\"Daftar kabupaten dan kota di Lampung\">Lampung</a></li>\n",
              " <li><a href=\"/wiki/Daftar_kabupaten_dan_kota_di_Kepulauan_Bangka_Belitung\" title=\"Daftar kabupaten dan kota di Kepulauan Bangka Belitung\">Kepulauan Bangka Belitung</a></li></ul>\n",
              " </div></td></tr>, <tr><th class=\"navbox-group\" scope=\"row\" style=\"width:1%;text-align:right;\"><a href=\"/wiki/Jawa\" title=\"Jawa\">Jawa</a></th><td class=\"navbox-list navbox-even hlist\" style=\"text-align:left;border-left-width:2px;border-left-style:solid;width:100%;padding:0px\"><div style=\"padding:0em 0.25em\">\n",
              " <ul><li><a class=\"mw-redirect\" href=\"/wiki/Daftar_kabupaten_dan_kota_di_Jakarta\" title=\"Daftar kabupaten dan kota di Jakarta\">Jakarta</a></li>\n",
              " <li><a href=\"/wiki/Daftar_kabupaten_dan_kota_di_Jawa_Barat\" title=\"Daftar kabupaten dan kota di Jawa Barat\">Jawa Barat</a></li>\n",
              " <li><a href=\"/wiki/Daftar_kabupaten_dan_kota_di_Banten\" title=\"Daftar kabupaten dan kota di Banten\">Banten</a></li>\n",
              " <li><a href=\"/wiki/Daftar_kabupaten_dan_kota_di_Jawa_Tengah\" title=\"Daftar kabupaten dan kota di Jawa Tengah\">Jawa Tengah</a></li>\n",
              " <li><a href=\"/wiki/Daftar_kabupaten_dan_kota_di_Daerah_Istimewa_Yogyakarta\" title=\"Daftar kabupaten dan kota di Daerah Istimewa Yogyakarta\">Yogyakarta</a></li>\n",
              " <li><a href=\"/wiki/Daftar_kabupaten_dan_kota_di_Jawa_Timur\" title=\"Daftar kabupaten dan kota di Jawa Timur\">Jawa Timur</a></li></ul>\n",
              " </div></td></tr>, <tr><th class=\"navbox-group\" scope=\"row\" style=\"width:1%;text-align:right;\"><a href=\"/wiki/Kalimantan_(wilayah_Indonesia)\" title=\"Kalimantan (wilayah Indonesia)\">Kalimantan</a></th><td class=\"navbox-list navbox-odd hlist\" style=\"text-align:left;border-left-width:2px;border-left-style:solid;width:100%;padding:0px\"><div style=\"padding:0em 0.25em\">\n",
              " <ul><li><a href=\"/wiki/Daftar_kabupaten_dan_kota_di_Kalimantan_Barat\" title=\"Daftar kabupaten dan kota di Kalimantan Barat\">Kalimantan Barat</a></li>\n",
              " <li><a href=\"/wiki/Daftar_kabupaten_dan_kota_di_Kalimantan_Tengah\" title=\"Daftar kabupaten dan kota di Kalimantan Tengah\">Kalimantan Tengah</a></li>\n",
              " <li><a href=\"/wiki/Daftar_kabupaten_dan_kota_di_Kalimantan_Selatan\" title=\"Daftar kabupaten dan kota di Kalimantan Selatan\">Kalimantan Selatan</a></li>\n",
              " <li><a href=\"/wiki/Daftar_kabupaten_dan_kota_di_Kalimantan_Timur\" title=\"Daftar kabupaten dan kota di Kalimantan Timur\">Kalimantan Timur</a></li>\n",
              " <li><a href=\"/wiki/Daftar_kabupaten_dan_kota_di_Kalimantan_Utara\" title=\"Daftar kabupaten dan kota di Kalimantan Utara\">Kalimantan Utara</a></li></ul>\n",
              " </div></td></tr>, <tr><th class=\"navbox-group\" scope=\"row\" style=\"width:1%;text-align:right;\"><a href=\"/wiki/Kepulauan_Nusa_Tenggara\" title=\"Kepulauan Nusa Tenggara\">Nusa Tenggara</a></th><td class=\"navbox-list navbox-even hlist\" style=\"text-align:left;border-left-width:2px;border-left-style:solid;width:100%;padding:0px\"><div style=\"padding:0em 0.25em\">\n",
              " <ul><li><a class=\"mw-selflink selflink\">Bali</a></li>\n",
              " <li><a href=\"/wiki/Daftar_kabupaten_dan_kota_di_Nusa_Tenggara_Barat\" title=\"Daftar kabupaten dan kota di Nusa Tenggara Barat\">Nusa Tenggara Barat</a></li>\n",
              " <li><a href=\"/wiki/Daftar_kabupaten_dan_kota_di_Nusa_Tenggara_Timur\" title=\"Daftar kabupaten dan kota di Nusa Tenggara Timur\">Nusa Tenggara Timur</a></li></ul>\n",
              " </div></td></tr>, <tr><th class=\"navbox-group\" scope=\"row\" style=\"width:1%;text-align:right;\"><a href=\"/wiki/Sulawesi\" title=\"Sulawesi\">Sulawesi</a></th><td class=\"navbox-list navbox-odd hlist\" style=\"text-align:left;border-left-width:2px;border-left-style:solid;width:100%;padding:0px\"><div style=\"padding:0em 0.25em\">\n",
              " <ul><li><a href=\"/wiki/Daftar_kabupaten_dan_kota_di_Sulawesi_Barat\" title=\"Daftar kabupaten dan kota di Sulawesi Barat\">Sulawesi Barat</a></li>\n",
              " <li><a href=\"/wiki/Daftar_kabupaten_dan_kota_di_Sulawesi_Selatan\" title=\"Daftar kabupaten dan kota di Sulawesi Selatan\">Sulawesi Selatan</a></li>\n",
              " <li><a href=\"/wiki/Daftar_kabupaten_dan_kota_di_Sulawesi_Tengah\" title=\"Daftar kabupaten dan kota di Sulawesi Tengah\">Sulawesi Tengah</a></li>\n",
              " <li><a href=\"/wiki/Daftar_kabupaten_dan_kota_di_Sulawesi_Tenggara\" title=\"Daftar kabupaten dan kota di Sulawesi Tenggara\">Sulawesi Tenggara</a></li>\n",
              " <li><a href=\"/wiki/Daftar_kabupaten_dan_kota_di_Sulawesi_Utara\" title=\"Daftar kabupaten dan kota di Sulawesi Utara\">Sulawesi Utara</a></li>\n",
              " <li><a href=\"/wiki/Daftar_kabupaten_dan_kota_di_Gorontalo\" title=\"Daftar kabupaten dan kota di Gorontalo\">Gorontalo</a></li></ul>\n",
              " </div></td></tr>, <tr><th class=\"navbox-group\" scope=\"row\" style=\"width:1%;text-align:right;\"><a href=\"/wiki/Kepulauan_Maluku\" title=\"Kepulauan Maluku\">Maluku</a></th><td class=\"navbox-list navbox-even hlist\" style=\"text-align:left;border-left-width:2px;border-left-style:solid;width:100%;padding:0px\"><div style=\"padding:0em 0.25em\">\n",
              " <ul><li><a href=\"/wiki/Daftar_kabupaten_dan_kota_di_Maluku\" title=\"Daftar kabupaten dan kota di Maluku\">Maluku</a></li>\n",
              " <li><a href=\"/wiki/Daftar_kabupaten_dan_kota_di_Maluku_Utara\" title=\"Daftar kabupaten dan kota di Maluku Utara\">Maluku Utara</a></li></ul>\n",
              " </div></td></tr>, <tr><th class=\"navbox-group\" scope=\"row\" style=\"width:1%;text-align:right;\"><a href=\"/wiki/Papua_(wilayah_Indonesia)\" title=\"Papua (wilayah Indonesia)\">Papua</a></th><td class=\"navbox-list navbox-odd hlist\" style=\"text-align:left;border-left-width:2px;border-left-style:solid;width:100%;padding:0px\"><div style=\"padding:0em 0.25em\">\n",
              " <ul><li><a href=\"/wiki/Daftar_kabupaten_dan_kota_di_Papua_Barat\" title=\"Daftar kabupaten dan kota di Papua Barat\">Papua Barat</a></li>\n",
              " <li><a href=\"/wiki/Daftar_kabupaten_dan_kota_di_Papua\" title=\"Daftar kabupaten dan kota di Papua\">Papua</a></li></ul>\n",
              " </div></td></tr>, <tr><th class=\"navbox-title\" colspan=\"3\" scope=\"col\"><div class=\"plainlinks hlist navbar mini\"><ul><li class=\"nv-lihat\"><a href=\"/wiki/Templat:Bali\" title=\"Templat:Bali\"><abbr style=\";;background:none transparent;border:none;-moz-box-shadow:none;-webkit-box-shadow:none;box-shadow:none; padding:0;\" title=\"Lihat templat ini\">l</abbr></a></li><li class=\"nv-bicara\"><a class=\"new\" href=\"/w/index.php?title=Pembicaraan_Templat:Bali&amp;action=edit&amp;redlink=1\" title=\"Pembicaraan Templat:Bali (halaman belum tersedia)\"><abbr style=\";;background:none transparent;border:none;-moz-box-shadow:none;-webkit-box-shadow:none;box-shadow:none; padding:0;\" title=\"Diskusikan templat ini\">b</abbr></a></li><li class=\"nv-sunting\"><a class=\"external text\" href=\"https://id.wikipedia.org/w/index.php?title=Templat:Bali&amp;action=edit\"><abbr style=\";;background:none transparent;border:none;-moz-box-shadow:none;-webkit-box-shadow:none;box-shadow:none; padding:0;\" title=\"Sunting templat ini\">s</abbr></a></li></ul></div><div id=\"Bali\" style=\"font-size:114%;margin:0 4em\"><a href=\"/wiki/Bali\" title=\"Bali\">Bali</a></div></th></tr>, <tr><td class=\"navbox-abovebelow\" colspan=\"3\"><div id=\"*_Pusat_pemerintahan:_Kota_Denpasar_*_Gubernur:_I_Wayan_Koster_*_Wakil_Gubernur:_Tjokorda_Oka_Artha_Ardana_Sukawati\"><div class=\"hlist\">\n",
              " <ul><li>Pusat pemerintahan: <a href=\"/wiki/Kota_Denpasar\" title=\"Kota Denpasar\">Kota Denpasar</a></li>\n",
              " <li><a href=\"/wiki/Daftar_Gubernur_Bali\" title=\"Daftar Gubernur Bali\">Gubernur</a>: <a href=\"/wiki/I_Wayan_Koster\" title=\"I Wayan Koster\">I Wayan Koster</a></li>\n",
              " <li><a href=\"/wiki/Daftar_Wakil_Gubernur_Bali\" title=\"Daftar Wakil Gubernur Bali\">Wakil Gubernur</a>: <a href=\"/wiki/Tjokorda_Oka_Artha_Ardana_Sukawati\" title=\"Tjokorda Oka Artha Ardana Sukawati\">Tjokorda Oka Artha Ardana Sukawati</a></li></ul>\n",
              " </div></div></td></tr>, <tr><th class=\"navbox-group\" scope=\"row\" style=\"width:1%\">Kabupaten</th><td class=\"navbox-list navbox-odd hlist\" style=\"text-align:left;border-left-width:2px;border-left-style:solid;width:100%;padding:0px\"><div style=\"padding:0em 0.25em\">\n",
              " <ul><li><a href=\"/wiki/Kabupaten_Badung\" title=\"Kabupaten Badung\">Badung</a></li>\n",
              " <li><a href=\"/wiki/Kabupaten_Bangli\" title=\"Kabupaten Bangli\">Bangli</a></li>\n",
              " <li><a href=\"/wiki/Kabupaten_Buleleng\" title=\"Kabupaten Buleleng\">Buleleng</a></li>\n",
              " <li><a href=\"/wiki/Kabupaten_Gianyar\" title=\"Kabupaten Gianyar\">Gianyar</a></li>\n",
              " <li><a href=\"/wiki/Kabupaten_Jembrana\" title=\"Kabupaten Jembrana\">Jembrana</a></li>\n",
              " <li><a href=\"/wiki/Kabupaten_Karangasem\" title=\"Kabupaten Karangasem\">Karangasem</a></li>\n",
              " <li><a href=\"/wiki/Kabupaten_Klungkung\" title=\"Kabupaten Klungkung\">Klungkung</a></li>\n",
              " <li><a href=\"/wiki/Kabupaten_Tabanan\" title=\"Kabupaten Tabanan\">Tabanan</a></li></ul>\n",
              " </div></td><td class=\"navbox-image\" rowspan=\"2\" style=\"width:1px;padding:0px 0px 0px 2px\"><div><a class=\"image\" href=\"/wiki/Berkas:Coat_of_arms_of_Bali.svg\" title=\"Lambang Bali\"><img alt=\"Lambang Bali\" data-file-height=\"482\" data-file-width=\"506\" decoding=\"async\" height=\"48\" src=\"//upload.wikimedia.org/wikipedia/commons/thumb/1/10/Coat_of_arms_of_Bali.svg/50px-Coat_of_arms_of_Bali.svg.png\" srcset=\"//upload.wikimedia.org/wikipedia/commons/thumb/1/10/Coat_of_arms_of_Bali.svg/75px-Coat_of_arms_of_Bali.svg.png 1.5x, //upload.wikimedia.org/wikipedia/commons/thumb/1/10/Coat_of_arms_of_Bali.svg/100px-Coat_of_arms_of_Bali.svg.png 2x\" width=\"50\"/></a></div></td></tr>, <tr><th class=\"navbox-group\" scope=\"row\" style=\"width:1%\">Kota</th><td class=\"navbox-list navbox-even hlist\" style=\"text-align:left;border-left-width:2px;border-left-style:solid;width:100%;padding:0px\"><div style=\"padding:0em 0.25em\">\n",
              " <ul><li><a href=\"/wiki/Kota_Denpasar\" title=\"Kota Denpasar\">Denpasar</a></li></ul>\n",
              " </div></td></tr>, <tr><td class=\"navbox-abovebelow hlist\" colspan=\"3\"><div>\n",
              " <dl><dt>Lihat juga</dt>\n",
              " <dd><a class=\"mw-selflink selflink\">Daftar kabupaten dan kota di Bali</a></dd>\n",
              " <dd><a href=\"/wiki/Daftar_kecamatan_dan_kelurahan_di_Bali\" title=\"Daftar kecamatan dan kelurahan di Bali\">Daftar kecamatan dan kelurahan di Bali</a></dd></dl>\n",
              " </div></td></tr>]"
            ]
          },
          "metadata": {
            "tags": []
          },
          "execution_count": 83
        }
      ]
    },
    {
      "cell_type": "markdown",
      "metadata": {
        "id": "yPN-zQ9B--DC"
      },
      "source": [
        ""
      ]
    },
    {
      "cell_type": "code",
      "metadata": {
        "colab": {
          "base_uri": "https://localhost:8080/",
          "height": 81
        },
        "id": "aHf28NGt--9T",
        "outputId": "92288ba9-c19f-4e5e-dcdc-094fe755908a"
      },
      "source": [
        "\n",
        "## create df\n",
        "## get 'th' data for columns name\n",
        "df = pd.DataFrame(columns=[header])\n",
        "df"
      ],
      "execution_count": 72,
      "outputs": [
        {
          "output_type": "execute_result",
          "data": {
            "text/html": [
              "<div>\n",
              "<style scoped>\n",
              "    .dataframe tbody tr th:only-of-type {\n",
              "        vertical-align: middle;\n",
              "    }\n",
              "\n",
              "    .dataframe tbody tr th {\n",
              "        vertical-align: top;\n",
              "    }\n",
              "\n",
              "    .dataframe thead tr th {\n",
              "        text-align: left;\n",
              "    }\n",
              "</style>\n",
              "<table border=\"1\" class=\"dataframe\">\n",
              "  <thead>\n",
              "    <tr>\n",
              "      <th></th>\n",
              "      <th>No.</th>\n",
              "      <th>Kabupaten kota</th>\n",
              "      <th>Pusat pemerintahan</th>\n",
              "      <th>Bupati wali kota</th>\n",
              "      <th>Luas wilayah (km2)[1]</th>\n",
              "      <th>Jumlah penduduk (2017)[1]</th>\n",
              "      <th>Kecamatan</th>\n",
              "      <th>Kelurahan desa</th>\n",
              "      <th>Logo</th>\n",
              "      <th>Peta lokasi</th>\n",
              "    </tr>\n",
              "  </thead>\n",
              "  <tbody>\n",
              "  </tbody>\n",
              "</table>\n",
              "</div>"
            ],
            "text/plain": [
              "Empty DataFrame\n",
              "Columns: [(No.,), (Kabupaten kota,), (Pusat pemerintahan,), (Bupati wali kota,), (Luas wilayah (km2)[1],), (Jumlah penduduk (2017)[1],), (Kecamatan,), (Kelurahan desa,), (Logo,), (Peta lokasi,)]\n",
              "Index: []"
            ]
          },
          "metadata": {
            "tags": []
          },
          "execution_count": 72
        }
      ]
    },
    {
      "cell_type": "code",
      "metadata": {
        "colab": {
          "base_uri": "https://localhost:8080/"
        },
        "id": "IWeVAE6Hx2J2",
        "outputId": "aab1951a-2eec-4b3e-e8cc-ddcc2a8916a5"
      },
      "source": [
        "# find all data entries in 'td\n",
        "data1 = []\n",
        "for row in allRows:\n",
        "  row = []\n",
        "  for cell in row:\n",
        "    data = cell.get_text()\n",
        "    row.append(row)\n",
        "  data1.append(row)\n",
        "data1\n",
        "# rows = []\n",
        "\n",
        "# for row in dataRows:\n",
        "#   row = []\n",
        "#   for cell in row:\n",
        "#     data = cell.get_text()\n",
        "#     row.append(data)\n",
        "#   # rows.append(row)\n",
        "\n",
        "# row"
      ],
      "execution_count": 87,
      "outputs": [
        {
          "output_type": "execute_result",
          "data": {
            "text/plain": [
              "[[],\n",
              " [],\n",
              " [],\n",
              " [],\n",
              " [],\n",
              " [],\n",
              " [],\n",
              " [],\n",
              " [],\n",
              " [],\n",
              " [],\n",
              " [],\n",
              " [],\n",
              " [],\n",
              " [],\n",
              " [],\n",
              " [],\n",
              " [],\n",
              " [],\n",
              " [],\n",
              " [],\n",
              " [],\n",
              " []]"
            ]
          },
          "metadata": {
            "tags": []
          },
          "execution_count": 87
        }
      ]
    },
    {
      "cell_type": "code",
      "metadata": {
        "id": "s3NUc-ND-irz"
      },
      "source": [
        ""
      ],
      "execution_count": null,
      "outputs": []
    }
  ]
}