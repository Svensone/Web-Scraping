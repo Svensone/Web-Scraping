{
  "nbformat": 4,
  "nbformat_minor": 0,
  "metadata": {
    "colab": {
      "name": "testing datetime for covid scraper.ipynb",
      "provenance": []
    },
    "kernelspec": {
      "name": "python3",
      "display_name": "Python 3"
    }
  },
  "cells": [
    {
      "cell_type": "code",
      "metadata": {
        "id": "D8mq8eMrsq23"
      },
      "source": [
        "from datetime import timedelta, date"
      ],
      "execution_count": null,
      "outputs": []
    },
    {
      "cell_type": "code",
      "metadata": {
        "id": "3CGn68Qas8E1"
      },
      "source": [
        "def daterange(start_date, end_date):\n",
        "  for n in range((end_date - start_date).days):\n",
        "    yield start_date + timedelta(n)\n",
        "\n",
        "start_date = date(2020, 11, 1)\n",
        "end_date = date(2020, 11, 10)\n"
      ],
      "execution_count": null,
      "outputs": []
    },
    {
      "cell_type": "code",
      "metadata": {
        "colab": {
          "base_uri": "https://localhost:8080/"
        },
        "id": "aoczprSbutaH",
        "outputId": "e1480de7-d805-43f7-99c9-02029a5350c5"
      },
      "source": [
        "(end_date - start_date).days"
      ],
      "execution_count": null,
      "outputs": [
        {
          "output_type": "execute_result",
          "data": {
            "text/plain": [
              "9"
            ]
          },
          "metadata": {
            "tags": []
          },
          "execution_count": 11
        }
      ]
    },
    {
      "cell_type": "code",
      "metadata": {
        "colab": {
          "base_uri": "https://localhost:8080/"
        },
        "id": "TC3sAR9FtbDM",
        "outputId": "e0f475f3-b69d-44ed-a98b-3577bb4e901b"
      },
      "source": [
        "daterange(start_date, end_date)"
      ],
      "execution_count": null,
      "outputs": [
        {
          "output_type": "execute_result",
          "data": {
            "text/plain": [
              "<generator object daterange at 0x7efdf9497468>"
            ]
          },
          "metadata": {
            "tags": []
          },
          "execution_count": 12
        }
      ]
    },
    {
      "cell_type": "code",
      "metadata": {
        "id": "XETaIrm6tiXI"
      },
      "source": [
        "\n",
        "start_urls = []\n",
        "\n",
        "start_url = 'www.test.com/'\n",
        "\n",
        "for single_date in daterange(start_date, end_date):\n",
        "  start_urls.append(single_date.strftime(start_url+\"%Y-%m-%d\"))\n"
      ],
      "execution_count": null,
      "outputs": []
    },
    {
      "cell_type": "code",
      "metadata": {
        "colab": {
          "base_uri": "https://localhost:8080/"
        },
        "id": "WpOV4fsDtnhB",
        "outputId": "a7e3693f-16a2-4a46-e145-91efda2fd2e0"
      },
      "source": [
        "start_urls"
      ],
      "execution_count": null,
      "outputs": [
        {
          "output_type": "execute_result",
          "data": {
            "text/plain": [
              "['www.test.com/2020-11-01',\n",
              " 'www.test.com/2020-11-02',\n",
              " 'www.test.com/2020-11-03',\n",
              " 'www.test.com/2020-11-04',\n",
              " 'www.test.com/2020-11-05',\n",
              " 'www.test.com/2020-11-06',\n",
              " 'www.test.com/2020-11-07',\n",
              " 'www.test.com/2020-11-08',\n",
              " 'www.test.com/2020-11-09']"
            ]
          },
          "metadata": {
            "tags": []
          },
          "execution_count": 14
        }
      ]
    },
    {
      "cell_type": "code",
      "metadata": {
        "id": "Gdw5cBMFu2Wc"
      },
      "source": [
        ""
      ],
      "execution_count": null,
      "outputs": []
    }
  ]
}