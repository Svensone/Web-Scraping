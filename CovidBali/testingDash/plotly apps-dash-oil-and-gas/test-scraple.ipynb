{
 "metadata": {
  "language_info": {
   "codemirror_mode": {
    "name": "ipython",
    "version": 3
   },
   "file_extension": ".py",
   "mimetype": "text/x-python",
   "name": "python",
   "nbconvert_exporter": "python",
   "pygments_lexer": "ipython3",
   "version": "3.7.9-final"
  },
  "orig_nbformat": 2,
  "kernelspec": {
   "name": "python3",
   "display_name": "Python 3",
   "language": "python"
  }
 },
 "nbformat": 4,
 "nbformat_minor": 2,
 "cells": [
  {
   "cell_type": "code",
   "execution_count": 2,
   "metadata": {},
   "outputs": [],
   "source": [
    "import pandas as pd\n",
    "\n",
    "import json"
   ]
  },
  {
   "cell_type": "code",
   "execution_count": 4,
   "metadata": {},
   "outputs": [
    {
     "output_type": "execute_result",
     "data": {
      "text/plain": [
       "       Date Location ISO Code     Location  New Cases  New Deaths  \\\n",
       "0  3/1/2020             ID-JK  DKI Jakarta          2           0   \n",
       "1  3/2/2020             ID-JK  DKI Jakarta          2           0   \n",
       "2  3/2/2020               IDN    Indonesia          2           0   \n",
       "3  3/2/2020             ID-JB   Jawa Barat          3           0   \n",
       "4  3/2/2020             ID-RI         Riau          1           0   \n",
       "\n",
       "   New Recovered  New Active Cases  Total Cases  Total Deaths  \\\n",
       "0              0                 2          489            20   \n",
       "1              0                 2          491            20   \n",
       "2              0                 2            2             0   \n",
       "3              0                 3           12             5   \n",
       "4              0                 1            2             1   \n",
       "\n",
       "   Total Recovered  ...   Longitude  Latitude  New Cases per Million  \\\n",
       "0               73  ...  106.836118 -6.204699                   0.18   \n",
       "1               73  ...  106.836118 -6.204699                   0.18   \n",
       "2                0  ...  113.921327 -0.789275                   0.01   \n",
       "3               14  ...  107.603708 -6.920432                   0.07   \n",
       "4                2  ...  101.805109  0.511648                   0.16   \n",
       "\n",
       "  Total Cases per Million New Deaths per Million Total Deaths per Million  \\\n",
       "0                   45.09                    0.0                     1.84   \n",
       "1                   45.27                    0.0                     1.84   \n",
       "2                    0.01                    0.0                     0.00   \n",
       "3                    0.27                    0.0                     0.11   \n",
       "4                    0.33                    0.0                     0.16   \n",
       "\n",
       "  Case Fatality Rate Case Recovered Rate Growth Factor of New Cases  \\\n",
       "0              4.09%              14.93%                        NaN   \n",
       "1              4.07%              14.87%                        1.0   \n",
       "2              0.00%               0.00%                        NaN   \n",
       "3             41.67%             116.67%                        NaN   \n",
       "4             50.00%             100.00%                        NaN   \n",
       "\n",
       "   Growth Factor of New Deaths  \n",
       "0                          NaN  \n",
       "1                          1.0  \n",
       "2                          NaN  \n",
       "3                          NaN  \n",
       "4                          NaN  \n",
       "\n",
       "[5 rows x 37 columns]"
      ],
      "text/html": "<div>\n<style scoped>\n    .dataframe tbody tr th:only-of-type {\n        vertical-align: middle;\n    }\n\n    .dataframe tbody tr th {\n        vertical-align: top;\n    }\n\n    .dataframe thead th {\n        text-align: right;\n    }\n</style>\n<table border=\"1\" class=\"dataframe\">\n  <thead>\n    <tr style=\"text-align: right;\">\n      <th></th>\n      <th>Date</th>\n      <th>Location ISO Code</th>\n      <th>Location</th>\n      <th>New Cases</th>\n      <th>New Deaths</th>\n      <th>New Recovered</th>\n      <th>New Active Cases</th>\n      <th>Total Cases</th>\n      <th>Total Deaths</th>\n      <th>Total Recovered</th>\n      <th>...</th>\n      <th>Longitude</th>\n      <th>Latitude</th>\n      <th>New Cases per Million</th>\n      <th>Total Cases per Million</th>\n      <th>New Deaths per Million</th>\n      <th>Total Deaths per Million</th>\n      <th>Case Fatality Rate</th>\n      <th>Case Recovered Rate</th>\n      <th>Growth Factor of New Cases</th>\n      <th>Growth Factor of New Deaths</th>\n    </tr>\n  </thead>\n  <tbody>\n    <tr>\n      <th>0</th>\n      <td>3/1/2020</td>\n      <td>ID-JK</td>\n      <td>DKI Jakarta</td>\n      <td>2</td>\n      <td>0</td>\n      <td>0</td>\n      <td>2</td>\n      <td>489</td>\n      <td>20</td>\n      <td>73</td>\n      <td>...</td>\n      <td>106.836118</td>\n      <td>-6.204699</td>\n      <td>0.18</td>\n      <td>45.09</td>\n      <td>0.0</td>\n      <td>1.84</td>\n      <td>4.09%</td>\n      <td>14.93%</td>\n      <td>NaN</td>\n      <td>NaN</td>\n    </tr>\n    <tr>\n      <th>1</th>\n      <td>3/2/2020</td>\n      <td>ID-JK</td>\n      <td>DKI Jakarta</td>\n      <td>2</td>\n      <td>0</td>\n      <td>0</td>\n      <td>2</td>\n      <td>491</td>\n      <td>20</td>\n      <td>73</td>\n      <td>...</td>\n      <td>106.836118</td>\n      <td>-6.204699</td>\n      <td>0.18</td>\n      <td>45.27</td>\n      <td>0.0</td>\n      <td>1.84</td>\n      <td>4.07%</td>\n      <td>14.87%</td>\n      <td>1.0</td>\n      <td>1.0</td>\n    </tr>\n    <tr>\n      <th>2</th>\n      <td>3/2/2020</td>\n      <td>IDN</td>\n      <td>Indonesia</td>\n      <td>2</td>\n      <td>0</td>\n      <td>0</td>\n      <td>2</td>\n      <td>2</td>\n      <td>0</td>\n      <td>0</td>\n      <td>...</td>\n      <td>113.921327</td>\n      <td>-0.789275</td>\n      <td>0.01</td>\n      <td>0.01</td>\n      <td>0.0</td>\n      <td>0.00</td>\n      <td>0.00%</td>\n      <td>0.00%</td>\n      <td>NaN</td>\n      <td>NaN</td>\n    </tr>\n    <tr>\n      <th>3</th>\n      <td>3/2/2020</td>\n      <td>ID-JB</td>\n      <td>Jawa Barat</td>\n      <td>3</td>\n      <td>0</td>\n      <td>0</td>\n      <td>3</td>\n      <td>12</td>\n      <td>5</td>\n      <td>14</td>\n      <td>...</td>\n      <td>107.603708</td>\n      <td>-6.920432</td>\n      <td>0.07</td>\n      <td>0.27</td>\n      <td>0.0</td>\n      <td>0.11</td>\n      <td>41.67%</td>\n      <td>116.67%</td>\n      <td>NaN</td>\n      <td>NaN</td>\n    </tr>\n    <tr>\n      <th>4</th>\n      <td>3/2/2020</td>\n      <td>ID-RI</td>\n      <td>Riau</td>\n      <td>1</td>\n      <td>0</td>\n      <td>0</td>\n      <td>1</td>\n      <td>2</td>\n      <td>1</td>\n      <td>2</td>\n      <td>...</td>\n      <td>101.805109</td>\n      <td>0.511648</td>\n      <td>0.16</td>\n      <td>0.33</td>\n      <td>0.0</td>\n      <td>0.16</td>\n      <td>50.00%</td>\n      <td>100.00%</td>\n      <td>NaN</td>\n      <td>NaN</td>\n    </tr>\n  </tbody>\n</table>\n<p>5 rows × 37 columns</p>\n</div>"
     },
     "metadata": {},
     "execution_count": 4
    }
   ],
   "source": [
    "df = pd.read_csv('data/covid_19_indonesia_time_series_all.csv')\n",
    "df.head()"
   ]
  },
  {
   "cell_type": "code",
   "execution_count": 5,
   "metadata": {},
   "outputs": [],
   "source": [
    "df['cases_per_100k'] = df['Total Cases per Million'].apply(lambda x: x/100)"
   ]
  },
  {
   "cell_type": "code",
   "execution_count": 7,
   "metadata": {},
   "outputs": [
    {
     "output_type": "execute_result",
     "data": {
      "text/plain": [
       "array(['Dki Jakarta', 'Indonesia', 'Jawa Barat', 'Riau', 'Banten',\n",
       "       'Sulawesi Tenggara', 'Kalimantan Timur',\n",
       "       'Daerah Istimewa Yogyakarta', 'Sumatera Utara', 'Jawa Tengah',\n",
       "       'Jawa Timur', 'Sulawesi Selatan', 'Maluku', 'Papua',\n",
       "       'Maluku Utara', 'Aceh', 'Kalimantan Tengah', 'Lampung',\n",
       "       'Sulawesi Tengah', 'Sumatera Barat', 'Papua Barat',\n",
       "       'Kalimantan Utara', 'Sulawesi Barat', 'Sumatera Selatan', 'Bali',\n",
       "       'Kalimantan Barat', 'Jambi', 'Kalimantan Selatan',\n",
       "       'Kepulauan Bangka Belitung', 'Kepulauan Riau', 'Bengkulu',\n",
       "       'Nusa Tenggara Barat', 'Sulawesi Utara', 'Nusa Tenggara Timur',\n",
       "       'Gorontalo'], dtype=object)"
      ]
     },
     "metadata": {},
     "execution_count": 7
    }
   ],
   "source": [
    "# adjust names from json file\n",
    "## adjust names in df to match names in indo_states_map\n",
    "df = df.replace('Bangka Belitung', 'Kepulauan Bangka Belitung')\n",
    "df = df.replace(\"DKI Jakarta\", 'Dki Jakarta')\n"
   ]
  },
  {
   "cell_type": "code",
   "execution_count": 9,
   "metadata": {},
   "outputs": [
    {
     "output_type": "execute_result",
     "data": {
      "text/plain": [
       "{'Shape_Leng': 27.3673635506,\n",
       " 'Shape_Area': 4.62543727674,\n",
       " 'ADM1_EN': 'Aceh',\n",
       " 'ADM1_PCODE': 'ID11',\n",
       " 'ADM1_REF': None,\n",
       " 'ADM1ALT1EN': None,\n",
       " 'ADM1ALT2EN': None,\n",
       " 'ADM0_EN': 'Indonesia',\n",
       " 'ADM0_PCODE': 'ID',\n",
       " 'date': '2019-12-20',\n",
       " 'validOn': '2020-04-01',\n",
       " 'validTo': None}"
      ]
     },
     "metadata": {},
     "execution_count": 9
    }
   ],
   "source": [
    "\n",
    "# 2. add id column with feature.id from geojson\n",
    "indo_geo = json.load(open('data/indo_level1_id.geojson'))\n"
   ]
  },
  {
   "cell_type": "code",
   "execution_count": 16,
   "metadata": {},
   "outputs": [
    {
     "output_type": "execute_result",
     "data": {
      "text/plain": [
       "       Date Location ISO Code     Location  New Cases  New Deaths  \\\n",
       "0  3/1/2020             ID-JK  Dki Jakarta          2           0   \n",
       "1  3/2/2020             ID-JK  Dki Jakarta          2           0   \n",
       "2  3/2/2020               IDN    Indonesia          2           0   \n",
       "3  3/2/2020             ID-JB   Jawa Barat          3           0   \n",
       "4  3/2/2020             ID-RI         Riau          1           0   \n",
       "\n",
       "   New Recovered  New Active Cases  Total Cases  Total Deaths  \\\n",
       "0              0                 2          489            20   \n",
       "1              0                 2          491            20   \n",
       "2              0                 2            2             0   \n",
       "3              0                 3           12             5   \n",
       "4              0                 1            2             1   \n",
       "\n",
       "   Total Recovered  ...  New Cases per Million Total Cases per Million  \\\n",
       "0               73  ...                   0.18                   45.09   \n",
       "1               73  ...                   0.18                   45.27   \n",
       "2                0  ...                   0.01                    0.01   \n",
       "3               14  ...                   0.07                    0.27   \n",
       "4                2  ...                   0.16                    0.33   \n",
       "\n",
       "   New Deaths per Million Total Deaths per Million Case Fatality Rate  \\\n",
       "0                     0.0                     1.84              4.09%   \n",
       "1                     0.0                     1.84              4.07%   \n",
       "2                     0.0                     0.00              0.00%   \n",
       "3                     0.0                     0.11             41.67%   \n",
       "4                     0.0                     0.16             50.00%   \n",
       "\n",
       "  Case Recovered Rate Growth Factor of New Cases Growth Factor of New Deaths  \\\n",
       "0              14.93%                        NaN                         NaN   \n",
       "1              14.87%                        1.0                         1.0   \n",
       "2               0.00%                        NaN                         NaN   \n",
       "3             116.67%                        NaN                         NaN   \n",
       "4             100.00%                        NaN                         NaN   \n",
       "\n",
       "  cases_per_100k  id  \n",
       "0         0.4509   6  \n",
       "1         0.4527   6  \n",
       "2         0.0001   0  \n",
       "3         0.0027   9  \n",
       "4         0.0033  26  \n",
       "\n",
       "[5 rows x 39 columns]"
      ],
      "text/html": "<div>\n<style scoped>\n    .dataframe tbody tr th:only-of-type {\n        vertical-align: middle;\n    }\n\n    .dataframe tbody tr th {\n        vertical-align: top;\n    }\n\n    .dataframe thead th {\n        text-align: right;\n    }\n</style>\n<table border=\"1\" class=\"dataframe\">\n  <thead>\n    <tr style=\"text-align: right;\">\n      <th></th>\n      <th>Date</th>\n      <th>Location ISO Code</th>\n      <th>Location</th>\n      <th>New Cases</th>\n      <th>New Deaths</th>\n      <th>New Recovered</th>\n      <th>New Active Cases</th>\n      <th>Total Cases</th>\n      <th>Total Deaths</th>\n      <th>Total Recovered</th>\n      <th>...</th>\n      <th>New Cases per Million</th>\n      <th>Total Cases per Million</th>\n      <th>New Deaths per Million</th>\n      <th>Total Deaths per Million</th>\n      <th>Case Fatality Rate</th>\n      <th>Case Recovered Rate</th>\n      <th>Growth Factor of New Cases</th>\n      <th>Growth Factor of New Deaths</th>\n      <th>cases_per_100k</th>\n      <th>id</th>\n    </tr>\n  </thead>\n  <tbody>\n    <tr>\n      <th>0</th>\n      <td>3/1/2020</td>\n      <td>ID-JK</td>\n      <td>Dki Jakarta</td>\n      <td>2</td>\n      <td>0</td>\n      <td>0</td>\n      <td>2</td>\n      <td>489</td>\n      <td>20</td>\n      <td>73</td>\n      <td>...</td>\n      <td>0.18</td>\n      <td>45.09</td>\n      <td>0.0</td>\n      <td>1.84</td>\n      <td>4.09%</td>\n      <td>14.93%</td>\n      <td>NaN</td>\n      <td>NaN</td>\n      <td>0.4509</td>\n      <td>6</td>\n    </tr>\n    <tr>\n      <th>1</th>\n      <td>3/2/2020</td>\n      <td>ID-JK</td>\n      <td>Dki Jakarta</td>\n      <td>2</td>\n      <td>0</td>\n      <td>0</td>\n      <td>2</td>\n      <td>491</td>\n      <td>20</td>\n      <td>73</td>\n      <td>...</td>\n      <td>0.18</td>\n      <td>45.27</td>\n      <td>0.0</td>\n      <td>1.84</td>\n      <td>4.07%</td>\n      <td>14.87%</td>\n      <td>1.0</td>\n      <td>1.0</td>\n      <td>0.4527</td>\n      <td>6</td>\n    </tr>\n    <tr>\n      <th>2</th>\n      <td>3/2/2020</td>\n      <td>IDN</td>\n      <td>Indonesia</td>\n      <td>2</td>\n      <td>0</td>\n      <td>0</td>\n      <td>2</td>\n      <td>2</td>\n      <td>0</td>\n      <td>0</td>\n      <td>...</td>\n      <td>0.01</td>\n      <td>0.01</td>\n      <td>0.0</td>\n      <td>0.00</td>\n      <td>0.00%</td>\n      <td>0.00%</td>\n      <td>NaN</td>\n      <td>NaN</td>\n      <td>0.0001</td>\n      <td>0</td>\n    </tr>\n    <tr>\n      <th>3</th>\n      <td>3/2/2020</td>\n      <td>ID-JB</td>\n      <td>Jawa Barat</td>\n      <td>3</td>\n      <td>0</td>\n      <td>0</td>\n      <td>3</td>\n      <td>12</td>\n      <td>5</td>\n      <td>14</td>\n      <td>...</td>\n      <td>0.07</td>\n      <td>0.27</td>\n      <td>0.0</td>\n      <td>0.11</td>\n      <td>41.67%</td>\n      <td>116.67%</td>\n      <td>NaN</td>\n      <td>NaN</td>\n      <td>0.0027</td>\n      <td>9</td>\n    </tr>\n    <tr>\n      <th>4</th>\n      <td>3/2/2020</td>\n      <td>ID-RI</td>\n      <td>Riau</td>\n      <td>1</td>\n      <td>0</td>\n      <td>0</td>\n      <td>1</td>\n      <td>2</td>\n      <td>1</td>\n      <td>2</td>\n      <td>...</td>\n      <td>0.16</td>\n      <td>0.33</td>\n      <td>0.0</td>\n      <td>0.16</td>\n      <td>50.00%</td>\n      <td>100.00%</td>\n      <td>NaN</td>\n      <td>NaN</td>\n      <td>0.0033</td>\n      <td>26</td>\n    </tr>\n  </tbody>\n</table>\n<p>5 rows × 39 columns</p>\n</div>"
     },
     "metadata": {},
     "execution_count": 16
    }
   ],
   "source": [
    "\n",
    "provi_id_map = {}\n",
    "\n",
    "for province in indo_geo['features']:\n",
    "    provi_id_map[province['properties']['ADM1_EN']] = province['id']\n",
    "df['id'] = df['Location'].apply(lambda x: provi_id_map[x] if x in provi_id_map else 0)\n",
    "df.head()"
   ]
  },
  {
   "cell_type": "code",
   "execution_count": 17,
   "metadata": {},
   "outputs": [],
   "source": [
    "df.to_csv('data/indo_province_cases.csv')"
   ]
  },
  {
   "cell_type": "code",
   "execution_count": null,
   "metadata": {},
   "outputs": [],
   "source": []
  }
 ]
}