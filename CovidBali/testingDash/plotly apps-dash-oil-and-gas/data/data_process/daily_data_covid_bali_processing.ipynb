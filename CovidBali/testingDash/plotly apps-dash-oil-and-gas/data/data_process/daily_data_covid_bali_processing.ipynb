{
 "metadata": {
  "language_info": {
   "codemirror_mode": {
    "name": "ipython",
    "version": 3
   },
   "file_extension": ".py",
   "mimetype": "text/x-python",
   "name": "python",
   "nbconvert_exporter": "python",
   "pygments_lexer": "ipython3",
   "version": "3.7.6-final"
  },
  "orig_nbformat": 2,
  "kernelspec": {
   "name": "python3",
   "display_name": "Python 3",
   "language": "python"
  }
 },
 "nbformat": 4,
 "nbformat_minor": 2,
 "cells": [
  {
   "cell_type": "code",
   "execution_count": 3,
   "metadata": {},
   "outputs": [],
   "source": [
    "import pandas as pd\n",
    "import json"
   ]
  },
  {
   "cell_type": "code",
   "execution_count": null,
   "metadata": {},
   "outputs": [],
   "source": [
    "\n",
    "### 1. COVID DATA BALI REGENCIES\n",
    "###  -------------------------------------\n",
    "\n",
    "## From scrapy spider"
   ]
  },
  {
   "cell_type": "code",
   "execution_count": 4,
   "metadata": {},
   "outputs": [],
   "source": [
    "json_file = json.load(open(r'C:\\Users\\ansve\\Coding\\Projects-WebScraping\\CovidBali\\CovidBali\\CovidBali\\dailyCases.json', 'r'))"
   ]
  },
  {
   "cell_type": "code",
   "execution_count": 5,
   "metadata": {},
   "outputs": [
    {
     "output_type": "execute_result",
     "data": {
      "text/plain": [
       "range(0, 22)"
      ]
     },
     "metadata": {},
     "execution_count": 5
    }
   ],
   "source": [
    "range(len(json_file))"
   ]
  },
  {
   "cell_type": "code",
   "execution_count": 6,
   "metadata": {},
   "outputs": [],
   "source": [
    "# w1= json_file[0]\n",
    "# w1[0]['data']"
   ]
  },
  {
   "cell_type": "code",
   "execution_count": 7,
   "metadata": {
    "tags": []
   },
   "outputs": [
    {
     "output_type": "execute_result",
     "data": {
      "text/plain": [
       "[['1',\n",
       "  'JEMBRANA',\n",
       "  '0',\n",
       "  '26',\n",
       "  '0',\n",
       "  '11',\n",
       "  '1',\n",
       "  '626',\n",
       "  '0',\n",
       "  '0',\n",
       "  '1',\n",
       "  '663',\n",
       "  ' 05 Dec 2020',\n",
       "  '1',\n",
       "  'JEMBRANA',\n",
       "  '-7',\n",
       "  '70',\n",
       "  '7',\n",
       "  '579',\n",
       "  '1',\n",
       "  '14',\n",
       "  '1',\n",
       "  '663',\n",
       "  ' 05 Dec 2020'],\n",
       " ['2',\n",
       "  'TABANAN',\n",
       "  '0',\n",
       "  '21',\n",
       "  '2',\n",
       "  '10',\n",
       "  '23',\n",
       "  '1466',\n",
       "  '0',\n",
       "  '0',\n",
       "  '25',\n",
       "  '1497',\n",
       "  ' 05 Dec 2020',\n",
       "  '2',\n",
       "  'TABANAN',\n",
       "  '-10',\n",
       "  '434',\n",
       "  '35',\n",
       "  '1016',\n",
       "  '0',\n",
       "  '47',\n",
       "  '25',\n",
       "  '1497',\n",
       "  ' 05 Dec 2020']]"
      ]
     },
     "metadata": {},
     "execution_count": 7
    }
   ],
   "source": [
    "json_file[0]\n",
    "data = []\n",
    "\n",
    "for date in json_file:\n",
    "    for x in range(0, 10):\n",
    "        data1 = (date[0]['data'][x] + date[1]['data'][x])\n",
    "        data.append(data1)\n",
    "data[:2]"
   ]
  },
  {
   "cell_type": "code",
   "execution_count": 8,
   "metadata": {},
   "outputs": [],
   "source": [
    "## Column names from https://infocorona.baliprov.go.id/API/pendataan/laporan-harian-01.php and ...-02.php\n",
    "\n",
    "list_1 = [\n",
    "    'No', 'Kabupaten / County', 'New PPLN / PMI', 'New PPLN / PMI', 'new PPDN', 'total PPDN',\t'new_local_transmission', 'total_local_transmission',\t'new_other_transmission', 'total_other_transmission', 'new_cases' ,'total_cases', 'date'\n",
    "]\n",
    "\n",
    "list_2 = ['No', 'Kabupaten / County', 'new_treatment', 'total_treatment', 'new_recovered', 'total_recovered', 'new_deaths', 'total_deaths', 'new_cases', 'total_cases', 'date']\n",
    "\n",
    "list_column_names = list_1 + list_2\n",
    "# print(list_column_names)"
   ]
  },
  {
   "cell_type": "code",
   "execution_count": 9,
   "metadata": {},
   "outputs": [
    {
     "output_type": "execute_result",
     "data": {
      "text/plain": [
       "  No Kabupaten / County New PPLN / PMI New PPLN / PMI new PPDN total PPDN  \\\n",
       "0  1           JEMBRANA              0             26        0         11   \n",
       "1  2            TABANAN              0             21        2         10   \n",
       "2  3             BADUNG              0             27        0          4   \n",
       "3  4           DENPASAR              0             48       -1         22   \n",
       "4  5            GIANYAR              0             29       -1         10   \n",
       "\n",
       "  new_local_transmission total_local_transmission new_other_transmission  \\\n",
       "0                      1                      626                      0   \n",
       "1                     23                     1466                      0   \n",
       "2                     18                     2478                      0   \n",
       "3                     28                     3891                      0   \n",
       "4                     16                     1951                      0   \n",
       "\n",
       "  total_other_transmission  ... Kabupaten / County new_treatment  \\\n",
       "0                        0  ...           JEMBRANA            -7   \n",
       "1                        0  ...            TABANAN           -10   \n",
       "2                        0  ...             BADUNG            -9   \n",
       "3                        0  ...           DENPASAR             1   \n",
       "4                        0  ...            GIANYAR           -16   \n",
       "\n",
       "  total_treatment new_recovered total_recovered new_deaths total_deaths  \\\n",
       "0              70             7             579          1           14   \n",
       "1             434            35            1016          0           47   \n",
       "2             159            27            2299          0           51   \n",
       "3             166            26            3705          0           90   \n",
       "4             234            31            1681          0           75   \n",
       "\n",
       "  new_cases total_cases          date  \n",
       "0         1         663   05 Dec 2020  \n",
       "1        25        1497   05 Dec 2020  \n",
       "2        18        2509   05 Dec 2020  \n",
       "3        27        3961   05 Dec 2020  \n",
       "4        15        1990   05 Dec 2020  \n",
       "\n",
       "[5 rows x 24 columns]"
      ],
      "text/html": "<div>\n<style scoped>\n    .dataframe tbody tr th:only-of-type {\n        vertical-align: middle;\n    }\n\n    .dataframe tbody tr th {\n        vertical-align: top;\n    }\n\n    .dataframe thead th {\n        text-align: right;\n    }\n</style>\n<table border=\"1\" class=\"dataframe\">\n  <thead>\n    <tr style=\"text-align: right;\">\n      <th></th>\n      <th>No</th>\n      <th>Kabupaten / County</th>\n      <th>New PPLN / PMI</th>\n      <th>New PPLN / PMI</th>\n      <th>new PPDN</th>\n      <th>total PPDN</th>\n      <th>new_local_transmission</th>\n      <th>total_local_transmission</th>\n      <th>new_other_transmission</th>\n      <th>total_other_transmission</th>\n      <th>...</th>\n      <th>Kabupaten / County</th>\n      <th>new_treatment</th>\n      <th>total_treatment</th>\n      <th>new_recovered</th>\n      <th>total_recovered</th>\n      <th>new_deaths</th>\n      <th>total_deaths</th>\n      <th>new_cases</th>\n      <th>total_cases</th>\n      <th>date</th>\n    </tr>\n  </thead>\n  <tbody>\n    <tr>\n      <th>0</th>\n      <td>1</td>\n      <td>JEMBRANA</td>\n      <td>0</td>\n      <td>26</td>\n      <td>0</td>\n      <td>11</td>\n      <td>1</td>\n      <td>626</td>\n      <td>0</td>\n      <td>0</td>\n      <td>...</td>\n      <td>JEMBRANA</td>\n      <td>-7</td>\n      <td>70</td>\n      <td>7</td>\n      <td>579</td>\n      <td>1</td>\n      <td>14</td>\n      <td>1</td>\n      <td>663</td>\n      <td>05 Dec 2020</td>\n    </tr>\n    <tr>\n      <th>1</th>\n      <td>2</td>\n      <td>TABANAN</td>\n      <td>0</td>\n      <td>21</td>\n      <td>2</td>\n      <td>10</td>\n      <td>23</td>\n      <td>1466</td>\n      <td>0</td>\n      <td>0</td>\n      <td>...</td>\n      <td>TABANAN</td>\n      <td>-10</td>\n      <td>434</td>\n      <td>35</td>\n      <td>1016</td>\n      <td>0</td>\n      <td>47</td>\n      <td>25</td>\n      <td>1497</td>\n      <td>05 Dec 2020</td>\n    </tr>\n    <tr>\n      <th>2</th>\n      <td>3</td>\n      <td>BADUNG</td>\n      <td>0</td>\n      <td>27</td>\n      <td>0</td>\n      <td>4</td>\n      <td>18</td>\n      <td>2478</td>\n      <td>0</td>\n      <td>0</td>\n      <td>...</td>\n      <td>BADUNG</td>\n      <td>-9</td>\n      <td>159</td>\n      <td>27</td>\n      <td>2299</td>\n      <td>0</td>\n      <td>51</td>\n      <td>18</td>\n      <td>2509</td>\n      <td>05 Dec 2020</td>\n    </tr>\n    <tr>\n      <th>3</th>\n      <td>4</td>\n      <td>DENPASAR</td>\n      <td>0</td>\n      <td>48</td>\n      <td>-1</td>\n      <td>22</td>\n      <td>28</td>\n      <td>3891</td>\n      <td>0</td>\n      <td>0</td>\n      <td>...</td>\n      <td>DENPASAR</td>\n      <td>1</td>\n      <td>166</td>\n      <td>26</td>\n      <td>3705</td>\n      <td>0</td>\n      <td>90</td>\n      <td>27</td>\n      <td>3961</td>\n      <td>05 Dec 2020</td>\n    </tr>\n    <tr>\n      <th>4</th>\n      <td>5</td>\n      <td>GIANYAR</td>\n      <td>0</td>\n      <td>29</td>\n      <td>-1</td>\n      <td>10</td>\n      <td>16</td>\n      <td>1951</td>\n      <td>0</td>\n      <td>0</td>\n      <td>...</td>\n      <td>GIANYAR</td>\n      <td>-16</td>\n      <td>234</td>\n      <td>31</td>\n      <td>1681</td>\n      <td>0</td>\n      <td>75</td>\n      <td>15</td>\n      <td>1990</td>\n      <td>05 Dec 2020</td>\n    </tr>\n  </tbody>\n</table>\n<p>5 rows × 24 columns</p>\n</div>"
     },
     "metadata": {},
     "execution_count": 9
    }
   ],
   "source": [
    "df = pd.DataFrame(data, columns= list_column_names)\n",
    "df.head()"
   ]
  },
  {
   "cell_type": "code",
   "execution_count": 10,
   "metadata": {},
   "outputs": [],
   "source": [
    "# # Check dataframe\n",
    "# df.columns\n",
    "# df.describe()\n",
    "# df.dtypes"
   ]
  },
  {
   "cell_type": "code",
   "execution_count": 11,
   "metadata": {},
   "outputs": [],
   "source": [
    "# delete duplicate columns and convert dtypes\n",
    "df = df.loc[:,~df.columns.duplicated()]\n",
    "\n",
    "df['No'] = df['No'].astype(int)\n",
    "df['Name_EN'] = df['Kabupaten / County'].astype(str)\n",
    "df['Name_EN'] = df['Name_EN'].str.casefold()\n",
    "# df.dtypes"
   ]
  },
  {
   "cell_type": "code",
   "execution_count": 12,
   "metadata": {},
   "outputs": [
    {
     "output_type": "execute_result",
     "data": {
      "text/plain": [
       "Timestamp('2020-12-05 00:00:00')"
      ]
     },
     "metadata": {},
     "execution_count": 12
    }
   ],
   "source": [
    "from dateutil.parser import parse\n",
    "\n",
    "df['date'] = df['date'].apply(lambda x: parse(x))\n",
    "df.date[1]"
   ]
  },
  {
   "cell_type": "code",
   "execution_count": 13,
   "metadata": {},
   "outputs": [
    {
     "output_type": "execute_result",
     "data": {
      "text/plain": [
       "       Name_Indo     Name_EN     Capital  area_km2 population_2000  \\\n",
       "0           Bali        bali         NaN  5,780.06       3,146,999   \n",
       "1       Buleleng    buleleng   Singaraja  1,364.73         558.181   \n",
       "2       Jembrana    jembrana      Negara    841.80         231.806   \n",
       "3     Karangasem  karangasem    Amlapura    839.54         360.486   \n",
       "4        Tabanan     tabanan     Tabanan    839.30          376.03   \n",
       "5         Bangli      bangli      Bangli    490.71         193.776   \n",
       "6         Badung      badung   Mangupura    418.52         345.863   \n",
       "7        Gianyar     gianyar     Gianyar    368.00         393.155   \n",
       "8      Klungkung   klungkung  Semarapura    315.00         155.262   \n",
       "9  Kota Denpasar    denpasar    Denpasar    127.78          532.44   \n",
       "\n",
       "  population_2010 population_2015  HDI_2014_estimate  \\\n",
       "0       3,890,757       4,148,588       0.724 (High)   \n",
       "1         624.125         645.893     0.691 (Medium)   \n",
       "2         261.638         271.423     0.686 (Medium)   \n",
       "3         396.487         408.487     0.640 (Medium)   \n",
       "4         420.913         435.753       0.726 (High)   \n",
       "5         215.353         222.474     0.657 (Medium)   \n",
       "6         543.332         615.148       0.779 (High)   \n",
       "7         469.777         494.729       0.742 (High)   \n",
       "8         170.543         175.573     0.683 (Medium)   \n",
       "9         788.589         879.098  0.816 (Very High)   \n",
       "\n",
       "                           Gouvernor  Nr. of Sub-Districts  \\\n",
       "0                                NaN                   NaN   \n",
       "1               Putu Agus Suradnyana                   9.0   \n",
       "2                       I Putu Artha                   5.0   \n",
       "3            I Gusti Ayu Mas Sumatri                   8.0   \n",
       "4             Ni Putu Eka Wiryastuti                  10.0   \n",
       "5                     I Made Gianyar                   4.0   \n",
       "6               I Nyoman Giri Prasta                   6.0   \n",
       "7             I Made Agus Mahayastra                   7.0   \n",
       "8                   I Nyoman Suwirta                   4.0   \n",
       "9  Ida Bagus Rai Dharmawijaya Mantra                   4.0   \n",
       "\n",
       "  Nr of Keluruhan/Villages  \n",
       "0                      NaN  \n",
       "1                   19/129  \n",
       "2                    10/41  \n",
       "3                     3/75  \n",
       "4                    -/133  \n",
       "5                     4/68  \n",
       "6                    16/46  \n",
       "7                     6/64  \n",
       "8                     6/53  \n",
       "9                    16/27  "
      ],
      "text/html": "<div>\n<style scoped>\n    .dataframe tbody tr th:only-of-type {\n        vertical-align: middle;\n    }\n\n    .dataframe tbody tr th {\n        vertical-align: top;\n    }\n\n    .dataframe thead th {\n        text-align: right;\n    }\n</style>\n<table border=\"1\" class=\"dataframe\">\n  <thead>\n    <tr style=\"text-align: right;\">\n      <th></th>\n      <th>Name_Indo</th>\n      <th>Name_EN</th>\n      <th>Capital</th>\n      <th>area_km2</th>\n      <th>population_2000</th>\n      <th>population_2010</th>\n      <th>population_2015</th>\n      <th>HDI_2014_estimate</th>\n      <th>Gouvernor</th>\n      <th>Nr. of Sub-Districts</th>\n      <th>Nr of Keluruhan/Villages</th>\n    </tr>\n  </thead>\n  <tbody>\n    <tr>\n      <th>0</th>\n      <td>Bali</td>\n      <td>bali</td>\n      <td>NaN</td>\n      <td>5,780.06</td>\n      <td>3,146,999</td>\n      <td>3,890,757</td>\n      <td>4,148,588</td>\n      <td>0.724 (High)</td>\n      <td>NaN</td>\n      <td>NaN</td>\n      <td>NaN</td>\n    </tr>\n    <tr>\n      <th>1</th>\n      <td>Buleleng</td>\n      <td>buleleng</td>\n      <td>Singaraja</td>\n      <td>1,364.73</td>\n      <td>558.181</td>\n      <td>624.125</td>\n      <td>645.893</td>\n      <td>0.691 (Medium)</td>\n      <td>Putu Agus Suradnyana</td>\n      <td>9.0</td>\n      <td>19/129</td>\n    </tr>\n    <tr>\n      <th>2</th>\n      <td>Jembrana</td>\n      <td>jembrana</td>\n      <td>Negara</td>\n      <td>841.80</td>\n      <td>231.806</td>\n      <td>261.638</td>\n      <td>271.423</td>\n      <td>0.686 (Medium)</td>\n      <td>I Putu Artha</td>\n      <td>5.0</td>\n      <td>10/41</td>\n    </tr>\n    <tr>\n      <th>3</th>\n      <td>Karangasem</td>\n      <td>karangasem</td>\n      <td>Amlapura</td>\n      <td>839.54</td>\n      <td>360.486</td>\n      <td>396.487</td>\n      <td>408.487</td>\n      <td>0.640 (Medium)</td>\n      <td>I Gusti Ayu Mas Sumatri</td>\n      <td>8.0</td>\n      <td>3/75</td>\n    </tr>\n    <tr>\n      <th>4</th>\n      <td>Tabanan</td>\n      <td>tabanan</td>\n      <td>Tabanan</td>\n      <td>839.30</td>\n      <td>376.03</td>\n      <td>420.913</td>\n      <td>435.753</td>\n      <td>0.726 (High)</td>\n      <td>Ni Putu Eka Wiryastuti</td>\n      <td>10.0</td>\n      <td>-/133</td>\n    </tr>\n    <tr>\n      <th>5</th>\n      <td>Bangli</td>\n      <td>bangli</td>\n      <td>Bangli</td>\n      <td>490.71</td>\n      <td>193.776</td>\n      <td>215.353</td>\n      <td>222.474</td>\n      <td>0.657 (Medium)</td>\n      <td>I Made Gianyar</td>\n      <td>4.0</td>\n      <td>4/68</td>\n    </tr>\n    <tr>\n      <th>6</th>\n      <td>Badung</td>\n      <td>badung</td>\n      <td>Mangupura</td>\n      <td>418.52</td>\n      <td>345.863</td>\n      <td>543.332</td>\n      <td>615.148</td>\n      <td>0.779 (High)</td>\n      <td>I Nyoman Giri Prasta</td>\n      <td>6.0</td>\n      <td>16/46</td>\n    </tr>\n    <tr>\n      <th>7</th>\n      <td>Gianyar</td>\n      <td>gianyar</td>\n      <td>Gianyar</td>\n      <td>368.00</td>\n      <td>393.155</td>\n      <td>469.777</td>\n      <td>494.729</td>\n      <td>0.742 (High)</td>\n      <td>I Made Agus Mahayastra</td>\n      <td>7.0</td>\n      <td>6/64</td>\n    </tr>\n    <tr>\n      <th>8</th>\n      <td>Klungkung</td>\n      <td>klungkung</td>\n      <td>Semarapura</td>\n      <td>315.00</td>\n      <td>155.262</td>\n      <td>170.543</td>\n      <td>175.573</td>\n      <td>0.683 (Medium)</td>\n      <td>I Nyoman Suwirta</td>\n      <td>4.0</td>\n      <td>6/53</td>\n    </tr>\n    <tr>\n      <th>9</th>\n      <td>Kota Denpasar</td>\n      <td>denpasar</td>\n      <td>Denpasar</td>\n      <td>127.78</td>\n      <td>532.44</td>\n      <td>788.589</td>\n      <td>879.098</td>\n      <td>0.816 (Very High)</td>\n      <td>Ida Bagus Rai Dharmawijaya Mantra</td>\n      <td>4.0</td>\n      <td>16/27</td>\n    </tr>\n  </tbody>\n</table>\n</div>"
     },
     "metadata": {},
     "execution_count": 13
    }
   ],
   "source": [
    "# data cleaning, processing\n",
    "#------------------------\n",
    "\n",
    "# add addtitional data\n",
    "df_ref = pd.read_excel('Bali_reference_data.xlsx')\n",
    "df_ref = df_ref.drop(columns=['https://en.wikipedia.org/wiki/Bali#cite_note-BPS2019-2', 'https://sp2010.bps.go.id/index.php/site/tabel?tid=321&wid=0', 'Source'])\n",
    "df_ref['Name_EN'] = df_ref['Name_Indo'].str.casefold()\n",
    "df_ref.replace('kota denpasar', 'denpasar', inplace=True)\n",
    "df_ref.replace('totals', 'bali', inplace=True)\n",
    "df_ref.replace('Totals', 'Bali', inplace=True)\n",
    "\n",
    "df_ref.head(15)"
   ]
  },
  {
   "cell_type": "code",
   "execution_count": 14,
   "metadata": {},
   "outputs": [],
   "source": [
    "# merge both df on 'Name_EN'\n",
    "df_merged = df.merge(df_ref, on=\"Name_EN\", how='left')\n",
    "\n",
    "int_numbers = ['total_recovered','new_deaths','total_deaths','new_total','total_cases']\n",
    "\n",
    "df_merged[['total_recovered','new_deaths','total_deaths','new_total','total_cases']] = df_merged[['total_recovered','new_deaths','total_deaths','new_cases','total_cases']].apply(pd.to_numeric)\n",
    "\n",
    "## per 100k populaiton\n",
    "\n",
    "df_merged['cases_per_100k'] = df_merged['total_cases'] / df_merged['population_2015'] * 100000\n",
    "df_merged['deaths_per_100k'] = df_merged['total_deaths'] / df_merged['population_2015'] * 100000\n",
    "\n",
    "df_merged['cases7'] = df_merged['new_cases'].rolling(window=7, center=False).mean()\n",
    "df_merged['cases7_per_100k'] = df_merged['cases7'] / df_merged['population_2015']\n",
    "df_merged['total_cases_per_100k'] = df_merged['total_cases'] / df_merged['population_2015']\n",
    "\n",
    "df_merged['deaths7'] = df_merged['new_deaths'].rolling(window=7, center=False).mean()\n",
    "df_merged['deaths7_per_100k'] = df_merged['deaths_per_100k'].rolling(window=7, center=False).mean()"
   ]
  },
  {
   "cell_type": "code",
   "execution_count": 15,
   "metadata": {},
   "outputs": [],
   "source": [
    "## drop temporary unnecessary columns\n",
    "drop_columns = ['New PPLN / PMI', 'new PPDN', 'total PPDN',\n",
    "       'new_local_transmission', 'total_local_transmission',\n",
    "       'new_other_transmission', 'total_other_transmission', 'Name_Indo', 'Capital', 'population_2000',\n",
    "       'population_2010', 'HDI_2014_estimate', 'Gouvernor',\n",
    "       'Nr. of Sub-Districts', 'Nr of Keluruhan/Villages', 'area_km2' ]\n",
    "df_clean = df_merged.drop(columns=drop_columns)"
   ]
  },
  {
   "cell_type": "code",
   "execution_count": 16,
   "metadata": {},
   "outputs": [],
   "source": [
    "## check NaN in df \n",
    "# nan_rows = df_clean[df_clean['population_2015'].isnull()]\n",
    "# nan_rows"
   ]
  },
  {
   "cell_type": "code",
   "execution_count": 17,
   "metadata": {},
   "outputs": [
    {
     "output_type": "execute_result",
     "data": {
      "text/plain": [
       "0      2.111614\n",
       "1      3.139613\n",
       "2      2.032682\n",
       "3      2.272153\n",
       "4      3.768844\n",
       "         ...   \n",
       "215    4.046858\n",
       "216    2.254098\n",
       "217    4.834123\n",
       "218    4.860088\n",
       "219    2.040816\n",
       "Name: CFR, Length: 220, dtype: float64"
      ]
     },
     "metadata": {},
     "execution_count": 17
    }
   ],
   "source": [
    "# infection fatality ratio (IFR), which estimates this proportion of deaths among all infected individuals. The second is case fatality ratio (CFR), which estimates this proportion of deaths among identified confirmed cases. \n",
    "# see https://www.who.int/news-room/commentaries/detail/estimating-mortality-from-covid-19\n",
    "\n",
    "df_merged['CFR'] = df_merged['total_deaths'] / df_merged['total_cases'] * 100\n",
    "df_merged['CFR']\n"
   ]
  },
  {
   "cell_type": "code",
   "execution_count": 43,
   "metadata": {},
   "outputs": [],
   "source": [
    "df_merged.to_csv('bali_regency_data.csv')"
   ]
  },
  {
   "cell_type": "code",
   "execution_count": 19,
   "metadata": {},
   "outputs": [],
   "source": [
    "\n",
    "### 1. INDONESIA COVID DATA \n",
    "###  -------------------------------------\n",
    "\n",
    "## From Kaggel Dataset\n",
    "\n"
   ]
  },
  {
   "cell_type": "code",
   "execution_count": 20,
   "metadata": {},
   "outputs": [],
   "source": [
    "# 1. connect to kaggle\n",
    "# 2. adjust column names\n"
   ]
  },
  {
   "cell_type": "code",
   "execution_count": 37,
   "metadata": {},
   "outputs": [
    {
     "output_type": "execute_result",
     "data": {
      "text/plain": [
       "       Date Location ISO Code     Location  New Cases  New Deaths  \\\n",
       "0  3/1/2020             ID-JK  DKI Jakarta          2           0   \n",
       "1  3/2/2020             ID-JK  DKI Jakarta          2           0   \n",
       "2  3/2/2020               IDN    Indonesia          2           0   \n",
       "3  3/2/2020             ID-JB   Jawa Barat          3           0   \n",
       "4  3/2/2020             ID-RI         Riau          1           0   \n",
       "\n",
       "   New Recovered  New Active Cases  Total Cases  Total Deaths  \\\n",
       "0              0                 2          489            20   \n",
       "1              0                 2          491            20   \n",
       "2              0                 2            2             0   \n",
       "3              0                 3           12             5   \n",
       "4              0                 1            2             1   \n",
       "\n",
       "   Total Recovered  ...   Longitude  Latitude  New Cases per Million  \\\n",
       "0               73  ...  106.836118 -6.204699                   0.18   \n",
       "1               73  ...  106.836118 -6.204699                   0.18   \n",
       "2                0  ...  113.921327 -0.789275                   0.01   \n",
       "3               14  ...  107.603708 -6.920432                   0.07   \n",
       "4                2  ...  101.805109  0.511648                   0.16   \n",
       "\n",
       "  Total Cases per Million New Deaths per Million Total Deaths per Million  \\\n",
       "0                   45.09                    0.0                     1.84   \n",
       "1                   45.27                    0.0                     1.84   \n",
       "2                    0.01                    0.0                     0.00   \n",
       "3                    0.27                    0.0                     0.11   \n",
       "4                    0.33                    0.0                     0.16   \n",
       "\n",
       "  Case Fatality Rate Case Recovered Rate Growth Factor of New Cases  \\\n",
       "0              4.09%              14.93%                        NaN   \n",
       "1              4.07%              14.87%                        1.0   \n",
       "2              0.00%               0.00%                        NaN   \n",
       "3             41.67%             116.67%                        NaN   \n",
       "4             50.00%             100.00%                        NaN   \n",
       "\n",
       "   Growth Factor of New Deaths  \n",
       "0                          NaN  \n",
       "1                          1.0  \n",
       "2                          NaN  \n",
       "3                          NaN  \n",
       "4                          NaN  \n",
       "\n",
       "[5 rows x 37 columns]"
      ],
      "text/html": "<div>\n<style scoped>\n    .dataframe tbody tr th:only-of-type {\n        vertical-align: middle;\n    }\n\n    .dataframe tbody tr th {\n        vertical-align: top;\n    }\n\n    .dataframe thead th {\n        text-align: right;\n    }\n</style>\n<table border=\"1\" class=\"dataframe\">\n  <thead>\n    <tr style=\"text-align: right;\">\n      <th></th>\n      <th>Date</th>\n      <th>Location ISO Code</th>\n      <th>Location</th>\n      <th>New Cases</th>\n      <th>New Deaths</th>\n      <th>New Recovered</th>\n      <th>New Active Cases</th>\n      <th>Total Cases</th>\n      <th>Total Deaths</th>\n      <th>Total Recovered</th>\n      <th>...</th>\n      <th>Longitude</th>\n      <th>Latitude</th>\n      <th>New Cases per Million</th>\n      <th>Total Cases per Million</th>\n      <th>New Deaths per Million</th>\n      <th>Total Deaths per Million</th>\n      <th>Case Fatality Rate</th>\n      <th>Case Recovered Rate</th>\n      <th>Growth Factor of New Cases</th>\n      <th>Growth Factor of New Deaths</th>\n    </tr>\n  </thead>\n  <tbody>\n    <tr>\n      <th>0</th>\n      <td>3/1/2020</td>\n      <td>ID-JK</td>\n      <td>DKI Jakarta</td>\n      <td>2</td>\n      <td>0</td>\n      <td>0</td>\n      <td>2</td>\n      <td>489</td>\n      <td>20</td>\n      <td>73</td>\n      <td>...</td>\n      <td>106.836118</td>\n      <td>-6.204699</td>\n      <td>0.18</td>\n      <td>45.09</td>\n      <td>0.0</td>\n      <td>1.84</td>\n      <td>4.09%</td>\n      <td>14.93%</td>\n      <td>NaN</td>\n      <td>NaN</td>\n    </tr>\n    <tr>\n      <th>1</th>\n      <td>3/2/2020</td>\n      <td>ID-JK</td>\n      <td>DKI Jakarta</td>\n      <td>2</td>\n      <td>0</td>\n      <td>0</td>\n      <td>2</td>\n      <td>491</td>\n      <td>20</td>\n      <td>73</td>\n      <td>...</td>\n      <td>106.836118</td>\n      <td>-6.204699</td>\n      <td>0.18</td>\n      <td>45.27</td>\n      <td>0.0</td>\n      <td>1.84</td>\n      <td>4.07%</td>\n      <td>14.87%</td>\n      <td>1.0</td>\n      <td>1.0</td>\n    </tr>\n    <tr>\n      <th>2</th>\n      <td>3/2/2020</td>\n      <td>IDN</td>\n      <td>Indonesia</td>\n      <td>2</td>\n      <td>0</td>\n      <td>0</td>\n      <td>2</td>\n      <td>2</td>\n      <td>0</td>\n      <td>0</td>\n      <td>...</td>\n      <td>113.921327</td>\n      <td>-0.789275</td>\n      <td>0.01</td>\n      <td>0.01</td>\n      <td>0.0</td>\n      <td>0.00</td>\n      <td>0.00%</td>\n      <td>0.00%</td>\n      <td>NaN</td>\n      <td>NaN</td>\n    </tr>\n    <tr>\n      <th>3</th>\n      <td>3/2/2020</td>\n      <td>ID-JB</td>\n      <td>Jawa Barat</td>\n      <td>3</td>\n      <td>0</td>\n      <td>0</td>\n      <td>3</td>\n      <td>12</td>\n      <td>5</td>\n      <td>14</td>\n      <td>...</td>\n      <td>107.603708</td>\n      <td>-6.920432</td>\n      <td>0.07</td>\n      <td>0.27</td>\n      <td>0.0</td>\n      <td>0.11</td>\n      <td>41.67%</td>\n      <td>116.67%</td>\n      <td>NaN</td>\n      <td>NaN</td>\n    </tr>\n    <tr>\n      <th>4</th>\n      <td>3/2/2020</td>\n      <td>ID-RI</td>\n      <td>Riau</td>\n      <td>1</td>\n      <td>0</td>\n      <td>0</td>\n      <td>1</td>\n      <td>2</td>\n      <td>1</td>\n      <td>2</td>\n      <td>...</td>\n      <td>101.805109</td>\n      <td>0.511648</td>\n      <td>0.16</td>\n      <td>0.33</td>\n      <td>0.0</td>\n      <td>0.16</td>\n      <td>50.00%</td>\n      <td>100.00%</td>\n      <td>NaN</td>\n      <td>NaN</td>\n    </tr>\n  </tbody>\n</table>\n<p>5 rows × 37 columns</p>\n</div>"
     },
     "metadata": {},
     "execution_count": 37
    }
   ],
   "source": [
    "df_indo = pd.read_csv(r'C:\\Users\\ansve\\Coding\\Projects-WebScraping\\CovidBali\\testingDash\\plotly apps-dash-oil-and-gas\\data\\data_process\\covid_19_indonesia_time_series_all.csv')\r\n",
    "\r\n",
    "df_indo.head()"
   ]
  },
  {
   "cell_type": "code",
   "execution_count": 38,
   "metadata": {},
   "outputs": [],
   "source": [
    "# df_indo.dtypes"
   ]
  },
  {
   "cell_type": "code",
   "execution_count": 39,
   "metadata": {},
   "outputs": [
    {
     "output_type": "stream",
     "name": "stdout",
     "text": [
      "['No', 'Kabupaten / County', 'New PPLN / PMI', 'new PPDN', 'total PPDN', 'new_local_transmission', 'total_local_transmission', 'new_other_transmission', 'total_other_transmission', 'new_cases', 'total_cases', 'date', 'new_treatment', 'total_treatment', 'new_recovered', 'total_recovered', 'new_deaths', 'total_deaths', 'Name_EN', 'Name_Indo', 'Capital', 'area_km2', 'population_2000', 'population_2010', 'population_2015', 'HDI_2014_estimate', 'Gouvernor', 'Nr. of Sub-Districts', 'Nr of Keluruhan/Villages', 'new_total', 'cases_per_100k', 'deaths_per_100k', 'cases7', 'cases7_per_100k', 'total_cases_per_100k', 'deaths7', 'deaths7_per_100k', 'CFR']\n"
     ]
    }
   ],
   "source": [
    "print(list(df_merged.columns))"
   ]
  },
  {
   "cell_type": "code",
   "execution_count": 41,
   "metadata": {},
   "outputs": [
    {
     "output_type": "execute_result",
     "data": {
      "text/plain": [
       "Index(['Date', 'Location ISO Code', 'Location', 'new_cases', 'new_deaths',\n",
       "       'new_recovered', 'New Active Cases', 'total_cases', 'total_deaths',\n",
       "       'total_recovered', 'Total Active Cases', 'Location Level',\n",
       "       'City or Regency', 'Province', 'Country', 'Continent', 'Island',\n",
       "       'Time Zone', 'Special Status', 'Total Regencies', 'Total Cities',\n",
       "       'Total Districts', 'Total Urban Villages', 'Total Rural Villages',\n",
       "       'Area (km2)', 'Population', 'Population Density', 'Longitude',\n",
       "       'Latitude', 'New Cases per Million', 'Total Cases per Million',\n",
       "       'New Deaths per Million', 'Total Deaths per Million', 'CFR',\n",
       "       'Case Recovered Rate', 'Growth Factor of New Cases',\n",
       "       'Growth Factor of New Deaths'],\n",
       "      dtype='object')"
      ]
     },
     "metadata": {},
     "execution_count": 41
    }
   ],
   "source": [
    "# adjust column names\n",
    "columns_new = ['Date', 'Location ISO Code', 'Location', 'new_cases', 'new_deaths',\n",
    "       'new_recovered', 'New Active Cases', 'total_cases', 'total_deaths',\n",
    "       'total_recovered', 'Total Active Cases', 'Location Level',\n",
    "       'City or Regency', 'Province', 'Country', 'Continent', 'Island',\n",
    "       'Time Zone', 'Special Status', 'Total Regencies', 'Total Cities',\n",
    "       'Total Districts', 'Total Urban Villages', 'Total Rural Villages',\n",
    "       'Area (km2)', 'Population', 'Population Density', 'Longitude',\n",
    "       'Latitude', 'New Cases per Million', 'Total Cases per Million',\n",
    "       'New Deaths per Million', 'Total Deaths per Million',\n",
    "       'CFR', 'Case Recovered Rate',\n",
    "       'Growth Factor of New Cases', 'Growth Factor of New Deaths']\n",
    "\n",
    "df_indo.columns = columns_new\n",
    "df_indo.columns"
   ]
  },
  {
   "cell_type": "code",
   "execution_count": 42,
   "metadata": {},
   "outputs": [
    {
     "output_type": "execute_result",
     "data": {
      "text/plain": [
       "Index(['Date', 'Location ISO Code', 'Location', 'new_cases', 'new_deaths',\n",
       "       'new_recovered', 'New Active Cases', 'total_cases', 'total_deaths',\n",
       "       'total_recovered', 'Total Active Cases', 'Location Level',\n",
       "       'City or Regency', 'Province', 'Country', 'Continent', 'Island',\n",
       "       'Time Zone', 'Special Status', 'Total Regencies', 'Total Cities',\n",
       "       'Total Districts', 'Total Urban Villages', 'Total Rural Villages',\n",
       "       'Area (km2)', 'Population', 'Population Density', 'Longitude',\n",
       "       'Latitude', 'New Cases per Million', 'Total Cases per Million',\n",
       "       'New Deaths per Million', 'Total Deaths per Million', 'CFR',\n",
       "       'Case Recovered Rate', 'Growth Factor of New Cases',\n",
       "       'Growth Factor of New Deaths', 'Name_EN', 'new_cases_per_100k',\n",
       "       'new_deaths_per_100k', 'total_cases_per_100k', 'total_deaths_per_100k'],\n",
       "      dtype='object')"
      ]
     },
     "metadata": {},
     "execution_count": 42
    }
   ],
   "source": [
    "\n",
    "# add columns so consistent with Bali_regency data\n",
    "\n",
    "df_indo['Name_EN'] = df_indo['Location'].str.casefold()\n",
    "df_indo['new_cases_per_100k'] = df_indo['New Cases per Million'] / 100\n",
    "df_indo['new_deaths_per_100k'] = df_indo['New Deaths per Million'] / 100\n",
    "\n",
    "df_indo['total_cases_per_100k'] = df_indo['Total Cases per Million'] / 100\n",
    "df_indo['total_deaths_per_100k'] = df_indo['Total Deaths per Million'] / 100\n",
    "df_indo.columns"
   ]
  },
  {
   "cell_type": "code",
   "execution_count": 44,
   "metadata": {},
   "outputs": [],
   "source": [
    "df_indo.to_csv('indo_province_data.csv')"
   ]
  },
  {
   "cell_type": "code",
   "execution_count": null,
   "metadata": {},
   "outputs": [],
   "source": [
    "## add id from feature.id of geojson file\n",
    "\n",
    "\n",
    "## 1. Prepare Geojson\n",
    "\n",
    "path_geojson = ''\n",
    "\n",
    "bali_geojson = json.load(open(path_geojson, 'r'))\n",
    "\n",
    "## 2. add feature.id to geojson file\n",
    "path = ''\n",
    "\n",
    "new_geojson = open(path + '/bali_geojson_id.geojson', 'w')\n",
    "count = 0\n",
    "\n",
    "with open(path_geojson, 'r') as myfile:\n",
    "  for line in myfile:\n",
    "\n",
    "    if not line.startswith('{ \"type\": '):\n",
    "      new_geojson.write(line)\n",
    "    else:\n",
    "      count +=1\n",
    "      idNr = str(count)\n",
    "      new_geojson.write(line[0:20] + '\"id\":'+ '\"'+ idNr + '\",' +line[21:])\n",
    "\n",
    "new_geojson.close()\n",
    "# open new geojson (with id) file\n",
    "bali_geo_id = json.load(open(path + '/bali_geojson_id.geojson', 'r'))\n",
    "\n",
    "## 3. get names of regencies\n",
    "regencies = []\n",
    "for regency in bali_geo_id['features']:\n",
    "  regencies.append(regency['properties']['ADM2_EN'])\n",
    "\n",
    "  # add id column in df with feature.id from geojson\n",
    "bali_id_map = {}\n",
    "for regency in bali_geo_id['features']:\n",
    "  bali_id_map[regency['properties']['ADM2_EN']] = regency['id']\n",
    "bali_id_map\n",
    "\n",
    "## for Foreigners or Other Regency add 'id' = 0\n",
    "df_clean['id'] = df_clean['Regency'].apply(lambda x: bali_id_map[x] if x in bali_id_map else 0)\n",
    "df_clean"
   ]
  }
 ]
}