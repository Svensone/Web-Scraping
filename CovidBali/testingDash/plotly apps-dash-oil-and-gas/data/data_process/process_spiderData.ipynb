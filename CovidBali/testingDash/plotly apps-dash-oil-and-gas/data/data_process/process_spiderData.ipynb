{
 "metadata": {
  "language_info": {
   "codemirror_mode": {
    "name": "ipython",
    "version": 3
   },
   "file_extension": ".py",
   "mimetype": "text/x-python",
   "name": "python",
   "nbconvert_exporter": "python",
   "pygments_lexer": "ipython3",
   "version": "3.7.6-final"
  },
  "orig_nbformat": 2,
  "kernelspec": {
   "name": "python3",
   "display_name": "Python 3",
   "language": "python"
  }
 },
 "nbformat": 4,
 "nbformat_minor": 2,
 "cells": [
  {
   "cell_type": "code",
   "execution_count": 109,
   "metadata": {},
   "outputs": [],
   "source": [
    "import pandas as pd\n",
    "import json"
   ]
  },
  {
   "cell_type": "code",
   "execution_count": 110,
   "metadata": {},
   "outputs": [],
   "source": [
    "### 1. Bali Regency Level Data\n",
    "\n",
    "# From Scrapy Spider 'CovidBali'"
   ]
  },
  {
   "cell_type": "code",
   "execution_count": 111,
   "metadata": {},
   "outputs": [],
   "source": [
    "# path_bali_file\n",
    "\n",
    "path_bali = r'C:\\Users\\ansve\\Coding\\Projects-WebScraping\\CovidBali\\CovidBali\\CovidBali\\dailyCases.json'\n",
    "\n",
    "json_bali = json.load(open(path_bali, 'r'))"
   ]
  },
  {
   "cell_type": "code",
   "execution_count": 112,
   "metadata": {},
   "outputs": [
    {
     "output_type": "execute_result",
     "data": {
      "text/plain": [
       "range(0, 17)"
      ]
     },
     "metadata": {},
     "execution_count": 112
    }
   ],
   "source": [
    "range(len(json_bali))"
   ]
  },
  {
   "cell_type": "code",
   "execution_count": 113,
   "metadata": {},
   "outputs": [],
   "source": [
    "# w1= json_file[0]\n",
    "# w1[0]['data'][0]"
   ]
  },
  {
   "cell_type": "code",
   "execution_count": 133,
   "metadata": {
    "tags": []
   },
   "outputs": [],
   "source": [
    "# ### Test with short json\n",
    "\n",
    "json_file =[\n",
    "    [\n",
    "        {\"date\": \" 05 Dec 2020\",\"data\": \n",
    "            [[\"1\", \"JEMBRANA\", \"0\", \"26\", \"0\", \"11\", \"1\", \"626\", \"0\", \"0\", \"1\", \"663\", \" 05 Dec 2020\"], [\"2\", \"TABANAN\", \"0\", \"21\", \"2\", \"10\", \"23\", \"1466\", \"0\", \"0\", \"25\", \"1497\", \" 05 Dec 2020\"]]\n",
    "        },\n",
    "\n",
    "        {\"date\": \" 05 Dec 2020\", \n",
    "    \"data\": \n",
    "            [[\"1\", \"JEMBRANA\", \"-7\", \"70\", \"7\", \"579\", \"1\", \"14\", \"1\", \"663\", \" 05 Dec 2020\"], [\"2\", \"TABANAN\", \"-10\", \"434\", \"35\", \"1016\", \"0\", \"47\", \"25\", \"1497\", \" 05 Dec 2020\"]]\n",
    "        }\n",
    "],\n",
    "\n",
    "[\n",
    "{\"date\": \"07 Dec 2020\", \n",
    "\"data\": [[\"1\", \"JEMBRANA\", \"0\", \"26\", \"0\", \"11\", \"9\", \"635\", \"0\", \"0\", \"9\", \"672\", \"07 Dec 2020\"], [\"2\", \"TABANAN\", \"0\", \"21\", \"0\", \"11\", \"8\", \"1519\", \"0\", \"0\", \"8\", \"1551\", \"07 Dec 2020\"]]\n",
    "},\n",
    "\n",
    "{\"date\": \"07 Dec 2020\", \"data\": [[\"1\", \"JEMBRANA\", \"-9\", \"52\", \"18\", \"606\", \"0\", \"14\", \"9\", \"672\", \"07 Dec 2020\"], [\"2\", \"TABANAN\", \"-211\", \"249\", \"219\", \"1255\", \"0\", \"47\", \"8\", \"1551\", \"07 Dec 2020\"]]\n",
    "}\n",
    "\n",
    "]\n",
    "]\n",
    "\n",
    "data = []\n",
    "for day in json_file:\n",
    "    for data_entry in day:\n",
    "        data2 = []\n",
    "        data_ent = data1\n",
    "        for x in range(len(data_entry['data'])):\n",
    "            data1 = data_entry['data']\n",
    "            data2.append(data1)\n",
    "        data.append(data2)\n",
    "# data"
   ]
  },
  {
   "cell_type": "code",
   "execution_count": 141,
   "metadata": {
    "tags": []
   },
   "outputs": [
    {
     "output_type": "error",
     "ename": "IndexError",
     "evalue": "tuple index out of range",
     "traceback": [
      "\u001b[1;31m---------------------------------------------------------------------------\u001b[0m",
      "\u001b[1;31mIndexError\u001b[0m                                Traceback (most recent call last)",
      "\u001b[1;32m<ipython-input-141-1f6cd44d3252>\u001b[0m in \u001b[0;36m<module>\u001b[1;34m\u001b[0m\n\u001b[0;32m     17\u001b[0m     \u001b[0mdata1\u001b[0m \u001b[1;33m=\u001b[0m \u001b[1;33m[\u001b[0m\u001b[1;33m]\u001b[0m\u001b[1;33m\u001b[0m\u001b[1;33m\u001b[0m\u001b[0m\n\u001b[0;32m     18\u001b[0m     \u001b[1;32mfor\u001b[0m \u001b[0mx\u001b[0m \u001b[1;32min\u001b[0m \u001b[0mrange\u001b[0m\u001b[1;33m(\u001b[0m\u001b[1;36m0\u001b[0m\u001b[1;33m,\u001b[0m \u001b[1;36m17\u001b[0m\u001b[1;33m)\u001b[0m\u001b[1;33m:\u001b[0m\u001b[1;33m\u001b[0m\u001b[1;33m\u001b[0m\u001b[0m\n\u001b[1;32m---> 19\u001b[1;33m         \u001b[0mday_reg\u001b[0m \u001b[1;33m=\u001b[0m \u001b[0mitem\u001b[0m\u001b[1;33m[\u001b[0m\u001b[0mcount\u001b[0m\u001b[1;33m]\u001b[0m \u001b[1;33m+\u001b[0m \u001b[0mitem\u001b[0m\u001b[1;33m[\u001b[0m\u001b[0mcount2\u001b[0m\u001b[1;33m]\u001b[0m\u001b[1;33m\u001b[0m\u001b[1;33m\u001b[0m\u001b[0m\n\u001b[0m\u001b[0;32m     20\u001b[0m         \u001b[0mtest_data\u001b[0m\u001b[1;33m.\u001b[0m\u001b[0mappend\u001b[0m\u001b[1;33m(\u001b[0m\u001b[0mday_reg\u001b[0m\u001b[1;33m)\u001b[0m\u001b[1;33m\u001b[0m\u001b[1;33m\u001b[0m\u001b[0m\n\u001b[0;32m     21\u001b[0m         \u001b[0mcount\u001b[0m  \u001b[1;33m+=\u001b[0m\u001b[1;36m2\u001b[0m\u001b[1;33m\u001b[0m\u001b[1;33m\u001b[0m\u001b[0m\n",
      "\u001b[1;31mIndexError\u001b[0m: tuple index out of range"
     ]
    }
   ],
   "source": [
    "data = []\n",
    "for day in json_bali:\n",
    "    for data_entry in day:\n",
    "        data1 = []\n",
    "        data_reg = (data_entry['data'])\n",
    "        for count, x in enumerate(data_reg):\n",
    "            data1.append(x)\n",
    "        data.append(data1)\n",
    "    \n",
    "data = list(zip(*data))\n",
    "test = data[:2]\n",
    "\n",
    "count = 0\n",
    "count2 = 1\n",
    "test_data = []\n",
    "for item in test:\n",
    "    data1 = []\n",
    "    for x in range(0, ):\n",
    "        day_reg = item[count] + item[count2]\n",
    "        test_data.append(day_reg)\n",
    "        count  +=2\n",
    "        count2 += 2\n",
    "    # test_data.append(data1)\n",
    "test_data[:2]\n"
   ]
  },
  {
   "cell_type": "code",
   "execution_count": 139,
   "metadata": {},
   "outputs": [
    {
     "output_type": "execute_result",
     "data": {
      "text/plain": [
       "34"
      ]
     },
     "metadata": {},
     "execution_count": 139
    }
   ],
   "source": [
    "len((['1', 'JEMBRANA', '0', '26', '0', '11', '1', '626', '0', '0', '1', '663', ' 05 Dec 2020'], ['1', 'JEMBRANA', '-7', '70', '7', '579', '1', '14', '1', '663', ' 05 Dec 2020'], ['1', 'JEMBRANA', '0', '26', '0', '11', '0', '626', '0', '0', '0', '663', '06 Dec 2020'], ['1', 'JEMBRANA', '-9', '61', '9', '588', '0', '14', '0', '663', '06 Dec 2020'], ['1', 'JEMBRANA', '0', '26', '0', '11', '9', '635', '0', '0', '9', '672', '07 Dec 2020'], ['1', 'JEMBRANA', '-9', '52', '18', '606', '0', '14', '9', '672', '07 Dec 2020'], ['1', 'JEMBRANA', '0', '26', '0', '11', '2', '637', '0', '0', '2', '674', ' 08 Dec 2020'], ['1', 'JEMBRANA', '-9', '43', '11', '617', '0', '14', '2', '674', ' 08 Dec 2020'], ['1', 'JEMBRANA', '0', '26', '2', '13', '16', '653', '0', '0', '18', '692', ' 09 Dec 2020'], ['1', 'JEMBRANA', '14', '57', '4', '621', '0', '14', '18', '692', ' 09 Dec 2020'], ['1', 'JEMBRANA', '0', '26', '0', '13', '2', '655', '0', '0', '2', '694', '10 Dec 2020'], ['1', 'JEMBRANA', '-3', '54', '5', '626', '0', '14', '2', '694', '10 Dec 2020'], ['1', 'JEMBRANA', '0', '26', '-1', '12', '4', '659', '0', '0', '3', '697', '11 Dec 2020'], ['1', 'JEMBRANA', '-5', '49', '7', '633', '1', '15', '3', '697', '11 Dec 2020'], ['1', 'JEMBRANA', '0', '26', '0', '12', '7', '666', '0', '0', '7', '704', '12 Dec 2020'], ['1', 'JEMBRANA', '-6', '43', '13', '646', '0', '15', '7', '704', '12 Dec 2020'], ['1', 'JEMBRANA', '0', '26', '1', '13', '5', '671', '0', '0', '6', '710', '13 Dec 2020'], ['1', 'JEMBRANA', '6', '49', '0', '646', '0', '15', '6', '710', '13 Dec 2020'], ['1', 'JEMBRANA', '0', '26', '0', '13', '0', '671', '0', '0', '0', '710', ' 14 Dec 2020'], ['1', 'JEMBRANA', '-10', '39', '10', '656', '0', '15', '0', '710', ' 14 Dec 2020'], ['1', 'JEMBRANA', '0', '26', '0', '13', '0', '671', '0', '0', '0', '710', '15 Dec 2020'], ['1', 'JEMBRANA', '-3', '36', '3', '659', '0', '15', '0', '710', '15 Dec 2020'], ['1', 'JEMBRANA', '0', '26', '0', '13', '0', '671', '0', '0', '0', '710', '16 Dec 2020'], ['1', 'JEMBRANA', '0', '36', '3', '659', '0', '15', '0', '710', '16 Dec 2020'], ['1', 'JEMBRANA', '0', '26', '1', '16', '9', '699', '0', '0', '10', '741', '17 Dec 2020'], ['1', 'JEMBRANA', '-5', '52', '15', '674', '0', '15', '10', '741', '17 Dec 2020'], ['1', 'JEMBRANA', '0', '26', '0', '16', '15', '714', '0', '0', '15', '756', ' 18 Dec 2020'], ['1', 'JEMBRANA', '14', '66', '1', '675', '0', '15', '15', '756', ' 18 Dec 2020'], ['1', 'JEMBRANA', '0', '26', '0', '16', '2', '716', '0', '0', '2', '758', ' 19 Dec 2020'], ['1', 'JEMBRANA', '2', '68', '0', '675', '0', '15', '2', '758', ' 19 Dec 2020'], ['1', 'JEMBRANA', '0', '26', '0', '17', '1', '745', '0', '0', '1', '788', ' missing !!! Wrong Values'], ['1', 'JEMBRANA', '-12', '76', '13', '695', '0', '17', '1', '788', ' missing !!! Wrong Values'], ['1', 'JEMBRANA', '0', '26', '0', '17', '1', '745', '0', '0', '1', '788', ' 21 Dec 2020'], ['1', 'JEMBRANA', '-12', '76', '13', '695', '0', '17', '1', '788', ' 21 Dec 2020']))"
   ]
  },
  {
   "cell_type": "code",
   "execution_count": 130,
   "metadata": {},
   "outputs": [
    {
     "output_type": "execute_result",
     "data": {
      "text/plain": [
       "[['1',\n",
       "  'JEMBRANA',\n",
       "  '0',\n",
       "  '26',\n",
       "  '0',\n",
       "  '11',\n",
       "  '1',\n",
       "  '626',\n",
       "  '0',\n",
       "  '0',\n",
       "  '1',\n",
       "  '663',\n",
       "  ' 05 Dec 2020',\n",
       "  '1',\n",
       "  'JEMBRANA',\n",
       "  '-7',\n",
       "  '70',\n",
       "  '7',\n",
       "  '579',\n",
       "  '1',\n",
       "  '14',\n",
       "  '1',\n",
       "  '663',\n",
       "  ' 05 Dec 2020'],\n",
       " ['2',\n",
       "  'TABANAN',\n",
       "  '0',\n",
       "  '21',\n",
       "  '2',\n",
       "  '10',\n",
       "  '23',\n",
       "  '1466',\n",
       "  '0',\n",
       "  '0',\n",
       "  '25',\n",
       "  '1497',\n",
       "  ' 05 Dec 2020',\n",
       "  '2',\n",
       "  'TABANAN',\n",
       "  '-10',\n",
       "  '434',\n",
       "  '35',\n",
       "  '1016',\n",
       "  '0',\n",
       "  '47',\n",
       "  '25',\n",
       "  '1497',\n",
       "  ' 05 Dec 2020']]"
      ]
     },
     "metadata": {},
     "execution_count": 130
    }
   ],
   "source": [
    "# Zip List of Lists with map(list.__add__, )\n",
    "\n",
    "test1 =[\n",
    "    ['1', 'JEMBRANA', '0', '26', '0', '11', '1', '626', '0', '0', '1', '663', ' 05 Dec 2020'], \n",
    "    ['2', 'TABANAN', '0', '21', '2', '10', '23', '1466', '0', '0', '25', '1497', ' 05 Dec 2020']\n",
    "    ]\n",
    "test2 =[\n",
    "    ['1', 'JEMBRANA', '-7', '70', '7', '579', '1', '14', '1', '663', ' 05 Dec 2020'], \n",
    "    ['2', 'TABANAN', '-10', '434', '35', '1016', '0', '47', '25', '1497', ' 05 Dec 2020']\n",
    "    ]\n",
    "\n",
    "zipped = list(map(list.__add__, test1, test2))\n",
    "zipped\n"
   ]
  },
  {
   "cell_type": "code",
   "execution_count": 122,
   "metadata": {},
   "outputs": [],
   "source": [
    "## Column names from https://infocorona.baliprov.go.id/API/pendataan/laporan-harian-01.php and ...-02.php\n",
    "\n",
    "list_1 = [\n",
    "    'No', 'Kabupaten / County', 'New PPLN / PMI', 'New PPLN / PMI', 'new PPDN', 'total PPDN',\t'new Transmisi Lokal', 'total Transmisi Lokal',\t'new Lainnya', 'total Lainnya', 'new TOTAL' ,'total TOTAL', 'Date'\n",
    "]\n",
    "\n",
    "list_2 = ['No', 'Kabupaten / County', 'New Masih Perawatan', 'total Masih Perawatan', 'New Sembuh Covid', 'Total Sembuh Covid', 'New Meninggal', 'total Meninggal', 'new Total', 'total Total', 'Date']\n",
    "\n",
    "\n",
    "list_column_names = list_1 + list_2\n",
    "# print(list_column_names)"
   ]
  },
  {
   "cell_type": "code",
   "execution_count": 123,
   "metadata": {},
   "outputs": [
    {
     "output_type": "error",
     "ename": "ValueError",
     "evalue": "24 columns passed, passed data had 34 columns",
     "traceback": [
      "\u001b[1;31m---------------------------------------------------------------------------\u001b[0m",
      "\u001b[1;31mAssertionError\u001b[0m                            Traceback (most recent call last)",
      "\u001b[1;32mC:\\ProgramData\\Anaconda3\\lib\\site-packages\\pandas\\core\\internals\\construction.py\u001b[0m in \u001b[0;36m_list_to_arrays\u001b[1;34m(data, columns, coerce_float, dtype)\u001b[0m\n\u001b[0;32m    496\u001b[0m         result = _convert_object_array(\n\u001b[1;32m--> 497\u001b[1;33m             \u001b[0mcontent\u001b[0m\u001b[1;33m,\u001b[0m \u001b[0mcolumns\u001b[0m\u001b[1;33m,\u001b[0m \u001b[0mdtype\u001b[0m\u001b[1;33m=\u001b[0m\u001b[0mdtype\u001b[0m\u001b[1;33m,\u001b[0m \u001b[0mcoerce_float\u001b[0m\u001b[1;33m=\u001b[0m\u001b[0mcoerce_float\u001b[0m\u001b[1;33m\u001b[0m\u001b[1;33m\u001b[0m\u001b[0m\n\u001b[0m\u001b[0;32m    498\u001b[0m         )\n",
      "\u001b[1;32mC:\\ProgramData\\Anaconda3\\lib\\site-packages\\pandas\\core\\internals\\construction.py\u001b[0m in \u001b[0;36m_convert_object_array\u001b[1;34m(content, columns, coerce_float, dtype)\u001b[0m\n\u001b[0;32m    580\u001b[0m             raise AssertionError(\n\u001b[1;32m--> 581\u001b[1;33m                 \u001b[1;34mf\"{len(columns)} columns passed, passed data had \"\u001b[0m\u001b[1;33m\u001b[0m\u001b[1;33m\u001b[0m\u001b[0m\n\u001b[0m\u001b[0;32m    582\u001b[0m                 \u001b[1;34mf\"{len(content)} columns\"\u001b[0m\u001b[1;33m\u001b[0m\u001b[1;33m\u001b[0m\u001b[0m\n",
      "\u001b[1;31mAssertionError\u001b[0m: 24 columns passed, passed data had 34 columns",
      "\nThe above exception was the direct cause of the following exception:\n",
      "\u001b[1;31mValueError\u001b[0m                                Traceback (most recent call last)",
      "\u001b[1;32m<ipython-input-123-e45671934eed>\u001b[0m in \u001b[0;36m<module>\u001b[1;34m\u001b[0m\n\u001b[1;32m----> 1\u001b[1;33m \u001b[0mdf\u001b[0m \u001b[1;33m=\u001b[0m \u001b[0mpd\u001b[0m\u001b[1;33m.\u001b[0m\u001b[0mDataFrame\u001b[0m\u001b[1;33m(\u001b[0m\u001b[0mdata\u001b[0m\u001b[1;33m,\u001b[0m \u001b[0mcolumns\u001b[0m\u001b[1;33m=\u001b[0m \u001b[0mlist_column_names\u001b[0m\u001b[1;33m)\u001b[0m\u001b[1;33m\u001b[0m\u001b[1;33m\u001b[0m\u001b[0m\n\u001b[0m\u001b[0;32m      2\u001b[0m \u001b[0mdf\u001b[0m\u001b[1;33m.\u001b[0m\u001b[0mhead\u001b[0m\u001b[1;33m(\u001b[0m\u001b[1;33m)\u001b[0m\u001b[1;33m\u001b[0m\u001b[1;33m\u001b[0m\u001b[0m\n",
      "\u001b[1;32mC:\\ProgramData\\Anaconda3\\lib\\site-packages\\pandas\\core\\frame.py\u001b[0m in \u001b[0;36m__init__\u001b[1;34m(self, data, index, columns, dtype, copy)\u001b[0m\n\u001b[0;32m    472\u001b[0m                     \u001b[1;32mif\u001b[0m \u001b[0mis_named_tuple\u001b[0m\u001b[1;33m(\u001b[0m\u001b[0mdata\u001b[0m\u001b[1;33m[\u001b[0m\u001b[1;36m0\u001b[0m\u001b[1;33m]\u001b[0m\u001b[1;33m)\u001b[0m \u001b[1;32mand\u001b[0m \u001b[0mcolumns\u001b[0m \u001b[1;32mis\u001b[0m \u001b[1;32mNone\u001b[0m\u001b[1;33m:\u001b[0m\u001b[1;33m\u001b[0m\u001b[1;33m\u001b[0m\u001b[0m\n\u001b[0;32m    473\u001b[0m                         \u001b[0mcolumns\u001b[0m \u001b[1;33m=\u001b[0m \u001b[0mdata\u001b[0m\u001b[1;33m[\u001b[0m\u001b[1;36m0\u001b[0m\u001b[1;33m]\u001b[0m\u001b[1;33m.\u001b[0m\u001b[0m_fields\u001b[0m\u001b[1;33m\u001b[0m\u001b[1;33m\u001b[0m\u001b[0m\n\u001b[1;32m--> 474\u001b[1;33m                     \u001b[0marrays\u001b[0m\u001b[1;33m,\u001b[0m \u001b[0mcolumns\u001b[0m \u001b[1;33m=\u001b[0m \u001b[0mto_arrays\u001b[0m\u001b[1;33m(\u001b[0m\u001b[0mdata\u001b[0m\u001b[1;33m,\u001b[0m \u001b[0mcolumns\u001b[0m\u001b[1;33m,\u001b[0m \u001b[0mdtype\u001b[0m\u001b[1;33m=\u001b[0m\u001b[0mdtype\u001b[0m\u001b[1;33m)\u001b[0m\u001b[1;33m\u001b[0m\u001b[1;33m\u001b[0m\u001b[0m\n\u001b[0m\u001b[0;32m    475\u001b[0m                     \u001b[0mcolumns\u001b[0m \u001b[1;33m=\u001b[0m \u001b[0mensure_index\u001b[0m\u001b[1;33m(\u001b[0m\u001b[0mcolumns\u001b[0m\u001b[1;33m)\u001b[0m\u001b[1;33m\u001b[0m\u001b[1;33m\u001b[0m\u001b[0m\n\u001b[0;32m    476\u001b[0m \u001b[1;33m\u001b[0m\u001b[0m\n",
      "\u001b[1;32mC:\\ProgramData\\Anaconda3\\lib\\site-packages\\pandas\\core\\internals\\construction.py\u001b[0m in \u001b[0;36mto_arrays\u001b[1;34m(data, columns, coerce_float, dtype)\u001b[0m\n\u001b[0;32m    459\u001b[0m         \u001b[1;32mreturn\u001b[0m \u001b[1;33m[\u001b[0m\u001b[1;33m]\u001b[0m\u001b[1;33m,\u001b[0m \u001b[1;33m[\u001b[0m\u001b[1;33m]\u001b[0m  \u001b[1;31m# columns if columns is not None else []\u001b[0m\u001b[1;33m\u001b[0m\u001b[1;33m\u001b[0m\u001b[0m\n\u001b[0;32m    460\u001b[0m     \u001b[1;32mif\u001b[0m \u001b[0misinstance\u001b[0m\u001b[1;33m(\u001b[0m\u001b[0mdata\u001b[0m\u001b[1;33m[\u001b[0m\u001b[1;36m0\u001b[0m\u001b[1;33m]\u001b[0m\u001b[1;33m,\u001b[0m \u001b[1;33m(\u001b[0m\u001b[0mlist\u001b[0m\u001b[1;33m,\u001b[0m \u001b[0mtuple\u001b[0m\u001b[1;33m)\u001b[0m\u001b[1;33m)\u001b[0m\u001b[1;33m:\u001b[0m\u001b[1;33m\u001b[0m\u001b[1;33m\u001b[0m\u001b[0m\n\u001b[1;32m--> 461\u001b[1;33m         \u001b[1;32mreturn\u001b[0m \u001b[0m_list_to_arrays\u001b[0m\u001b[1;33m(\u001b[0m\u001b[0mdata\u001b[0m\u001b[1;33m,\u001b[0m \u001b[0mcolumns\u001b[0m\u001b[1;33m,\u001b[0m \u001b[0mcoerce_float\u001b[0m\u001b[1;33m=\u001b[0m\u001b[0mcoerce_float\u001b[0m\u001b[1;33m,\u001b[0m \u001b[0mdtype\u001b[0m\u001b[1;33m=\u001b[0m\u001b[0mdtype\u001b[0m\u001b[1;33m)\u001b[0m\u001b[1;33m\u001b[0m\u001b[1;33m\u001b[0m\u001b[0m\n\u001b[0m\u001b[0;32m    462\u001b[0m     \u001b[1;32melif\u001b[0m \u001b[0misinstance\u001b[0m\u001b[1;33m(\u001b[0m\u001b[0mdata\u001b[0m\u001b[1;33m[\u001b[0m\u001b[1;36m0\u001b[0m\u001b[1;33m]\u001b[0m\u001b[1;33m,\u001b[0m \u001b[0mabc\u001b[0m\u001b[1;33m.\u001b[0m\u001b[0mMapping\u001b[0m\u001b[1;33m)\u001b[0m\u001b[1;33m:\u001b[0m\u001b[1;33m\u001b[0m\u001b[1;33m\u001b[0m\u001b[0m\n\u001b[0;32m    463\u001b[0m         return _list_of_dict_to_arrays(\n",
      "\u001b[1;32mC:\\ProgramData\\Anaconda3\\lib\\site-packages\\pandas\\core\\internals\\construction.py\u001b[0m in \u001b[0;36m_list_to_arrays\u001b[1;34m(data, columns, coerce_float, dtype)\u001b[0m\n\u001b[0;32m    498\u001b[0m         )\n\u001b[0;32m    499\u001b[0m     \u001b[1;32mexcept\u001b[0m \u001b[0mAssertionError\u001b[0m \u001b[1;32mas\u001b[0m \u001b[0me\u001b[0m\u001b[1;33m:\u001b[0m\u001b[1;33m\u001b[0m\u001b[1;33m\u001b[0m\u001b[0m\n\u001b[1;32m--> 500\u001b[1;33m         \u001b[1;32mraise\u001b[0m \u001b[0mValueError\u001b[0m\u001b[1;33m(\u001b[0m\u001b[0me\u001b[0m\u001b[1;33m)\u001b[0m \u001b[1;32mfrom\u001b[0m \u001b[0me\u001b[0m\u001b[1;33m\u001b[0m\u001b[1;33m\u001b[0m\u001b[0m\n\u001b[0m\u001b[0;32m    501\u001b[0m     \u001b[1;32mreturn\u001b[0m \u001b[0mresult\u001b[0m\u001b[1;33m\u001b[0m\u001b[1;33m\u001b[0m\u001b[0m\n\u001b[0;32m    502\u001b[0m \u001b[1;33m\u001b[0m\u001b[0m\n",
      "\u001b[1;31mValueError\u001b[0m: 24 columns passed, passed data had 34 columns"
     ]
    }
   ],
   "source": [
    "df = pd.DataFrame(data, columns= list_column_names)\n",
    "df.head()"
   ]
  },
  {
   "cell_type": "code",
   "execution_count": null,
   "metadata": {},
   "outputs": [],
   "source": [
    "## adding 7 day rolling average (cases and deaths)\n",
    "# cases per 100k\n",
    "df_ref = pd.read_excel('Bali_reference_data.xlsx')\n",
    "\n",
    "df['cases_per_100k'] =\n",
    "df['deaths_per_100k'] = \n",
    "\n",
    "\n",
    "df['cases7_per_100k'] = df['cases_per_100k'].rolling(window= 7, center=False).mean()"
   ]
  },
  {
   "cell_type": "code",
   "execution_count": 7,
   "metadata": {},
   "outputs": [],
   "source": [
    "df.to_csv('dailyCasesTest.csv')"
   ]
  },
  {
   "cell_type": "code",
   "execution_count": null,
   "metadata": {},
   "outputs": [],
   "source": [
    "# adjust Names of Regency to those of GeoJson\n",
    "\n",
    "# add feature.id from geojson\n",
    "\n",
    "# same cases_per_100k, cases7_per_100k, mortality (see indo_time_series as blueprint)\n",
    "\n"
   ]
  }
 ]
}