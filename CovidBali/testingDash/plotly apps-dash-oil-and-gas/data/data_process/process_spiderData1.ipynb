{
 "metadata": {
  "language_info": {
   "codemirror_mode": {
    "name": "ipython",
    "version": 3
   },
   "file_extension": ".py",
   "mimetype": "text/x-python",
   "name": "python",
   "nbconvert_exporter": "python",
   "pygments_lexer": "ipython3",
   "version": "3.7.6-final"
  },
  "orig_nbformat": 2,
  "kernelspec": {
   "name": "python3",
   "display_name": "Python 3",
   "language": "python"
  }
 },
 "nbformat": 4,
 "nbformat_minor": 2,
 "cells": [
  {
   "cell_type": "code",
   "execution_count": 1,
   "metadata": {},
   "outputs": [],
   "source": [
    "import pandas as pd\n",
    "import json"
   ]
  },
  {
   "cell_type": "code",
   "execution_count": 2,
   "metadata": {},
   "outputs": [],
   "source": [
    "json_file = json.load(open(r'C:\\Users\\ansve\\Coding\\Projects-WebScraping\\CovidBali\\CovidBali\\CovidBali\\dailyCases.json', 'r'))"
   ]
  },
  {
   "cell_type": "code",
   "execution_count": 3,
   "metadata": {},
   "outputs": [
    {
     "output_type": "execute_result",
     "data": {
      "text/plain": [
       "range(0, 18)"
      ]
     },
     "metadata": {},
     "execution_count": 3
    }
   ],
   "source": [
    "range(len(json_file))"
   ]
  },
  {
   "cell_type": "code",
   "execution_count": 4,
   "metadata": {},
   "outputs": [],
   "source": [
    "# w1= json_file[0]\n",
    "# w1[0]['data']"
   ]
  },
  {
   "cell_type": "code",
   "execution_count": 5,
   "metadata": {
    "tags": []
   },
   "outputs": [
    {
     "output_type": "execute_result",
     "data": {
      "text/plain": [
       "[['1',\n",
       "  'JEMBRANA',\n",
       "  '0',\n",
       "  '26',\n",
       "  '0',\n",
       "  '11',\n",
       "  '1',\n",
       "  '626',\n",
       "  '0',\n",
       "  '0',\n",
       "  '1',\n",
       "  '663',\n",
       "  ' 05 Dec 2020',\n",
       "  '1',\n",
       "  'JEMBRANA',\n",
       "  '-7',\n",
       "  '70',\n",
       "  '7',\n",
       "  '579',\n",
       "  '1',\n",
       "  '14',\n",
       "  '1',\n",
       "  '663',\n",
       "  ' 05 Dec 2020'],\n",
       " ['2',\n",
       "  'TABANAN',\n",
       "  '0',\n",
       "  '21',\n",
       "  '2',\n",
       "  '10',\n",
       "  '23',\n",
       "  '1466',\n",
       "  '0',\n",
       "  '0',\n",
       "  '25',\n",
       "  '1497',\n",
       "  ' 05 Dec 2020',\n",
       "  '2',\n",
       "  'TABANAN',\n",
       "  '-10',\n",
       "  '434',\n",
       "  '35',\n",
       "  '1016',\n",
       "  '0',\n",
       "  '47',\n",
       "  '25',\n",
       "  '1497',\n",
       "  ' 05 Dec 2020']]"
      ]
     },
     "metadata": {},
     "execution_count": 5
    }
   ],
   "source": [
    "json_file[0]\n",
    "data = []\n",
    "\n",
    "for date in json_file:\n",
    "    for x in range(0, 10):\n",
    "        data1 = (date[0]['data'][x] + date[1]['data'][x])\n",
    "        data.append(data1)\n",
    "data[:2]"
   ]
  },
  {
   "cell_type": "code",
   "execution_count": 6,
   "metadata": {},
   "outputs": [],
   "source": [
    "## Column names from https://infocorona.baliprov.go.id/API/pendataan/laporan-harian-01.php and ...-02.php\n",
    "\n",
    "list_1 = [\n",
    "    'No', 'Kabupaten / County', 'New PPLN / PMI', 'New PPLN / PMI', 'new PPDN', 'total PPDN',\t'new Transmisi Lokal', 'total Transmisi Lokal',\t'new Lainnya', 'total Lainnya', 'new TOTAL' ,'total TOTAL', 'Date'\n",
    "]\n",
    "\n",
    "list_2 = ['No', 'Kabupaten / County', 'New Masih Perawatan', 'total Masih Perawatan', 'New Sembuh Covid', 'Total Sembuh Covid', 'New Meninggal', 'total Meninggal', 'new Total', 'total Total', 'Date']\n",
    "\n",
    "\n",
    "list_column_names = list_1 + list_2\n",
    "# print(list_column_names)"
   ]
  },
  {
   "cell_type": "code",
   "execution_count": 9,
   "metadata": {},
   "outputs": [
    {
     "output_type": "execute_result",
     "data": {
      "text/plain": [
       "    No Kabupaten / County New PPLN / PMI New PPLN / PMI new PPDN total PPDN  \\\n",
       "0    1           JEMBRANA              0             26        0         11   \n",
       "1    2            TABANAN              0             21        2         10   \n",
       "2    3             BADUNG              0             27        0          4   \n",
       "3    4           DENPASAR              0             48       -1         22   \n",
       "4    5            GIANYAR              0             29       -1         10   \n",
       "5    6             BANGLI              0             58        0          3   \n",
       "6    7          KLUNGKUNG              0             19        0          0   \n",
       "7    8         KARANGASEM              0             23        0          0   \n",
       "8    9           BULELENG              0             41        0          6   \n",
       "9   10  KABUPATEN LAINNYA              0              5        0         31   \n",
       "10   1           JEMBRANA              0             26        0         11   \n",
       "11   2            TABANAN              0             21        1         11   \n",
       "12   3             BADUNG              0             27        0          4   \n",
       "13   4           DENPASAR              0             48        0         22   \n",
       "14   5            GIANYAR              0             29        0         10   \n",
       "\n",
       "   new Transmisi Lokal total Transmisi Lokal new Lainnya total Lainnya  ...  \\\n",
       "0                    1                   626           0             0  ...   \n",
       "1                   23                  1466           0             0  ...   \n",
       "2                   18                  2478           0             0  ...   \n",
       "3                   28                  3891           0             0  ...   \n",
       "4                   16                  1951           0             0  ...   \n",
       "5                    0                   824           0             0  ...   \n",
       "6                    0                   928           0             0  ...   \n",
       "7                    0                  1006           0             0  ...   \n",
       "8                    5                  1172           0             0  ...   \n",
       "9                    0                    13           0             0  ...   \n",
       "10                   0                   626           0             0  ...   \n",
       "11                  45                  1511           0             0  ...   \n",
       "12                  24                  2502           0             0  ...   \n",
       "13                  18                  3909           0             0  ...   \n",
       "14                   8                  1959           0             0  ...   \n",
       "\n",
       "   Kabupaten / County New Masih Perawatan total Masih Perawatan  \\\n",
       "0            JEMBRANA                  -7                    70   \n",
       "1             TABANAN                 -10                   434   \n",
       "2              BADUNG                  -9                   159   \n",
       "3            DENPASAR                   1                   166   \n",
       "4             GIANYAR                 -16                   234   \n",
       "5              BANGLI                  -1                     8   \n",
       "6           KLUNGKUNG                   0                     9   \n",
       "7          KARANGASEM                  -3                    14   \n",
       "8            BULELENG                   1                    59   \n",
       "9   KABUPATEN LAINNYA                  -1                     4   \n",
       "10           JEMBRANA                  -9                    61   \n",
       "11            TABANAN                  26                   460   \n",
       "12             BADUNG                   9                   168   \n",
       "13           DENPASAR                   1                   167   \n",
       "14            GIANYAR                  -4                   230   \n",
       "\n",
       "   New Sembuh Covid Total Sembuh Covid New Meninggal total Meninggal  \\\n",
       "0                 7                579             1              14   \n",
       "1                35               1016             0              47   \n",
       "2                27               2299             0              51   \n",
       "3                26               3705             0              90   \n",
       "4                31               1681             0              75   \n",
       "5                 1                842             0              35   \n",
       "6                 0                918             0              20   \n",
       "7                 3                964             0              51   \n",
       "8                 4               1101             0              59   \n",
       "9                 1                 44             0               1   \n",
       "10                9                588             0              14   \n",
       "11               20               1036             0              47   \n",
       "12               15               2314             0              51   \n",
       "13               17               3722             0              90   \n",
       "14               12               1693             0              75   \n",
       "\n",
       "   new Total total Total          Date  \n",
       "0          1         663   05 Dec 2020  \n",
       "1         25        1497   05 Dec 2020  \n",
       "2         18        2509   05 Dec 2020  \n",
       "3         27        3961   05 Dec 2020  \n",
       "4         15        1990   05 Dec 2020  \n",
       "5          0         885   05 Dec 2020  \n",
       "6          0         947   05 Dec 2020  \n",
       "7          0        1029   05 Dec 2020  \n",
       "8          5        1219   05 Dec 2020  \n",
       "9          0          49   05 Dec 2020  \n",
       "10         0         663   06 Dec 2020  \n",
       "11        46        1543   06 Dec 2020  \n",
       "12        24        2533   06 Dec 2020  \n",
       "13        18        3979   06 Dec 2020  \n",
       "14         8        1998   06 Dec 2020  \n",
       "\n",
       "[15 rows x 24 columns]"
      ],
      "text/html": "<div>\n<style scoped>\n    .dataframe tbody tr th:only-of-type {\n        vertical-align: middle;\n    }\n\n    .dataframe tbody tr th {\n        vertical-align: top;\n    }\n\n    .dataframe thead th {\n        text-align: right;\n    }\n</style>\n<table border=\"1\" class=\"dataframe\">\n  <thead>\n    <tr style=\"text-align: right;\">\n      <th></th>\n      <th>No</th>\n      <th>Kabupaten / County</th>\n      <th>New PPLN / PMI</th>\n      <th>New PPLN / PMI</th>\n      <th>new PPDN</th>\n      <th>total PPDN</th>\n      <th>new Transmisi Lokal</th>\n      <th>total Transmisi Lokal</th>\n      <th>new Lainnya</th>\n      <th>total Lainnya</th>\n      <th>...</th>\n      <th>Kabupaten / County</th>\n      <th>New Masih Perawatan</th>\n      <th>total Masih Perawatan</th>\n      <th>New Sembuh Covid</th>\n      <th>Total Sembuh Covid</th>\n      <th>New Meninggal</th>\n      <th>total Meninggal</th>\n      <th>new Total</th>\n      <th>total Total</th>\n      <th>Date</th>\n    </tr>\n  </thead>\n  <tbody>\n    <tr>\n      <th>0</th>\n      <td>1</td>\n      <td>JEMBRANA</td>\n      <td>0</td>\n      <td>26</td>\n      <td>0</td>\n      <td>11</td>\n      <td>1</td>\n      <td>626</td>\n      <td>0</td>\n      <td>0</td>\n      <td>...</td>\n      <td>JEMBRANA</td>\n      <td>-7</td>\n      <td>70</td>\n      <td>7</td>\n      <td>579</td>\n      <td>1</td>\n      <td>14</td>\n      <td>1</td>\n      <td>663</td>\n      <td>05 Dec 2020</td>\n    </tr>\n    <tr>\n      <th>1</th>\n      <td>2</td>\n      <td>TABANAN</td>\n      <td>0</td>\n      <td>21</td>\n      <td>2</td>\n      <td>10</td>\n      <td>23</td>\n      <td>1466</td>\n      <td>0</td>\n      <td>0</td>\n      <td>...</td>\n      <td>TABANAN</td>\n      <td>-10</td>\n      <td>434</td>\n      <td>35</td>\n      <td>1016</td>\n      <td>0</td>\n      <td>47</td>\n      <td>25</td>\n      <td>1497</td>\n      <td>05 Dec 2020</td>\n    </tr>\n    <tr>\n      <th>2</th>\n      <td>3</td>\n      <td>BADUNG</td>\n      <td>0</td>\n      <td>27</td>\n      <td>0</td>\n      <td>4</td>\n      <td>18</td>\n      <td>2478</td>\n      <td>0</td>\n      <td>0</td>\n      <td>...</td>\n      <td>BADUNG</td>\n      <td>-9</td>\n      <td>159</td>\n      <td>27</td>\n      <td>2299</td>\n      <td>0</td>\n      <td>51</td>\n      <td>18</td>\n      <td>2509</td>\n      <td>05 Dec 2020</td>\n    </tr>\n    <tr>\n      <th>3</th>\n      <td>4</td>\n      <td>DENPASAR</td>\n      <td>0</td>\n      <td>48</td>\n      <td>-1</td>\n      <td>22</td>\n      <td>28</td>\n      <td>3891</td>\n      <td>0</td>\n      <td>0</td>\n      <td>...</td>\n      <td>DENPASAR</td>\n      <td>1</td>\n      <td>166</td>\n      <td>26</td>\n      <td>3705</td>\n      <td>0</td>\n      <td>90</td>\n      <td>27</td>\n      <td>3961</td>\n      <td>05 Dec 2020</td>\n    </tr>\n    <tr>\n      <th>4</th>\n      <td>5</td>\n      <td>GIANYAR</td>\n      <td>0</td>\n      <td>29</td>\n      <td>-1</td>\n      <td>10</td>\n      <td>16</td>\n      <td>1951</td>\n      <td>0</td>\n      <td>0</td>\n      <td>...</td>\n      <td>GIANYAR</td>\n      <td>-16</td>\n      <td>234</td>\n      <td>31</td>\n      <td>1681</td>\n      <td>0</td>\n      <td>75</td>\n      <td>15</td>\n      <td>1990</td>\n      <td>05 Dec 2020</td>\n    </tr>\n    <tr>\n      <th>5</th>\n      <td>6</td>\n      <td>BANGLI</td>\n      <td>0</td>\n      <td>58</td>\n      <td>0</td>\n      <td>3</td>\n      <td>0</td>\n      <td>824</td>\n      <td>0</td>\n      <td>0</td>\n      <td>...</td>\n      <td>BANGLI</td>\n      <td>-1</td>\n      <td>8</td>\n      <td>1</td>\n      <td>842</td>\n      <td>0</td>\n      <td>35</td>\n      <td>0</td>\n      <td>885</td>\n      <td>05 Dec 2020</td>\n    </tr>\n    <tr>\n      <th>6</th>\n      <td>7</td>\n      <td>KLUNGKUNG</td>\n      <td>0</td>\n      <td>19</td>\n      <td>0</td>\n      <td>0</td>\n      <td>0</td>\n      <td>928</td>\n      <td>0</td>\n      <td>0</td>\n      <td>...</td>\n      <td>KLUNGKUNG</td>\n      <td>0</td>\n      <td>9</td>\n      <td>0</td>\n      <td>918</td>\n      <td>0</td>\n      <td>20</td>\n      <td>0</td>\n      <td>947</td>\n      <td>05 Dec 2020</td>\n    </tr>\n    <tr>\n      <th>7</th>\n      <td>8</td>\n      <td>KARANGASEM</td>\n      <td>0</td>\n      <td>23</td>\n      <td>0</td>\n      <td>0</td>\n      <td>0</td>\n      <td>1006</td>\n      <td>0</td>\n      <td>0</td>\n      <td>...</td>\n      <td>KARANGASEM</td>\n      <td>-3</td>\n      <td>14</td>\n      <td>3</td>\n      <td>964</td>\n      <td>0</td>\n      <td>51</td>\n      <td>0</td>\n      <td>1029</td>\n      <td>05 Dec 2020</td>\n    </tr>\n    <tr>\n      <th>8</th>\n      <td>9</td>\n      <td>BULELENG</td>\n      <td>0</td>\n      <td>41</td>\n      <td>0</td>\n      <td>6</td>\n      <td>5</td>\n      <td>1172</td>\n      <td>0</td>\n      <td>0</td>\n      <td>...</td>\n      <td>BULELENG</td>\n      <td>1</td>\n      <td>59</td>\n      <td>4</td>\n      <td>1101</td>\n      <td>0</td>\n      <td>59</td>\n      <td>5</td>\n      <td>1219</td>\n      <td>05 Dec 2020</td>\n    </tr>\n    <tr>\n      <th>9</th>\n      <td>10</td>\n      <td>KABUPATEN LAINNYA</td>\n      <td>0</td>\n      <td>5</td>\n      <td>0</td>\n      <td>31</td>\n      <td>0</td>\n      <td>13</td>\n      <td>0</td>\n      <td>0</td>\n      <td>...</td>\n      <td>KABUPATEN LAINNYA</td>\n      <td>-1</td>\n      <td>4</td>\n      <td>1</td>\n      <td>44</td>\n      <td>0</td>\n      <td>1</td>\n      <td>0</td>\n      <td>49</td>\n      <td>05 Dec 2020</td>\n    </tr>\n    <tr>\n      <th>10</th>\n      <td>1</td>\n      <td>JEMBRANA</td>\n      <td>0</td>\n      <td>26</td>\n      <td>0</td>\n      <td>11</td>\n      <td>0</td>\n      <td>626</td>\n      <td>0</td>\n      <td>0</td>\n      <td>...</td>\n      <td>JEMBRANA</td>\n      <td>-9</td>\n      <td>61</td>\n      <td>9</td>\n      <td>588</td>\n      <td>0</td>\n      <td>14</td>\n      <td>0</td>\n      <td>663</td>\n      <td>06 Dec 2020</td>\n    </tr>\n    <tr>\n      <th>11</th>\n      <td>2</td>\n      <td>TABANAN</td>\n      <td>0</td>\n      <td>21</td>\n      <td>1</td>\n      <td>11</td>\n      <td>45</td>\n      <td>1511</td>\n      <td>0</td>\n      <td>0</td>\n      <td>...</td>\n      <td>TABANAN</td>\n      <td>26</td>\n      <td>460</td>\n      <td>20</td>\n      <td>1036</td>\n      <td>0</td>\n      <td>47</td>\n      <td>46</td>\n      <td>1543</td>\n      <td>06 Dec 2020</td>\n    </tr>\n    <tr>\n      <th>12</th>\n      <td>3</td>\n      <td>BADUNG</td>\n      <td>0</td>\n      <td>27</td>\n      <td>0</td>\n      <td>4</td>\n      <td>24</td>\n      <td>2502</td>\n      <td>0</td>\n      <td>0</td>\n      <td>...</td>\n      <td>BADUNG</td>\n      <td>9</td>\n      <td>168</td>\n      <td>15</td>\n      <td>2314</td>\n      <td>0</td>\n      <td>51</td>\n      <td>24</td>\n      <td>2533</td>\n      <td>06 Dec 2020</td>\n    </tr>\n    <tr>\n      <th>13</th>\n      <td>4</td>\n      <td>DENPASAR</td>\n      <td>0</td>\n      <td>48</td>\n      <td>0</td>\n      <td>22</td>\n      <td>18</td>\n      <td>3909</td>\n      <td>0</td>\n      <td>0</td>\n      <td>...</td>\n      <td>DENPASAR</td>\n      <td>1</td>\n      <td>167</td>\n      <td>17</td>\n      <td>3722</td>\n      <td>0</td>\n      <td>90</td>\n      <td>18</td>\n      <td>3979</td>\n      <td>06 Dec 2020</td>\n    </tr>\n    <tr>\n      <th>14</th>\n      <td>5</td>\n      <td>GIANYAR</td>\n      <td>0</td>\n      <td>29</td>\n      <td>0</td>\n      <td>10</td>\n      <td>8</td>\n      <td>1959</td>\n      <td>0</td>\n      <td>0</td>\n      <td>...</td>\n      <td>GIANYAR</td>\n      <td>-4</td>\n      <td>230</td>\n      <td>12</td>\n      <td>1693</td>\n      <td>0</td>\n      <td>75</td>\n      <td>8</td>\n      <td>1998</td>\n      <td>06 Dec 2020</td>\n    </tr>\n  </tbody>\n</table>\n<p>15 rows × 24 columns</p>\n</div>"
     },
     "metadata": {},
     "execution_count": 9
    }
   ],
   "source": [
    "df = pd.DataFrame(data, columns= list_column_names)\n",
    "df.head(15)"
   ]
  },
  {
   "cell_type": "code",
   "execution_count": 8,
   "metadata": {},
   "outputs": [],
   "source": [
    "# # Check dataframe\n",
    "# df.columns\n",
    "# df.describe()\n",
    "# df.dtypes"
   ]
  },
  {
   "cell_type": "code",
   "execution_count": 10,
   "metadata": {},
   "outputs": [],
   "source": [
    "# delete duplicate columns and convert dtypes\n",
    "df = df.loc[:,~df.columns.duplicated()]\n",
    "\n",
    "df['No'] = df['No'].astype(int)\n",
    "df['Name_EN'] = df['Kabupaten / County'].astype(str)\n",
    "df['Name_EN'] = df['Name_EN'].str.casefold()\n",
    "# df.dtypes"
   ]
  },
  {
   "cell_type": "code",
   "execution_count": 11,
   "metadata": {},
   "outputs": [
    {
     "output_type": "execute_result",
     "data": {
      "text/plain": [
       "Timestamp('2020-12-05 00:00:00')"
      ]
     },
     "metadata": {},
     "execution_count": 11
    }
   ],
   "source": [
    "from dateutil.parser import parse\n",
    "\n",
    "df['date'] = df['Date'].apply(lambda x: parse(x))\n",
    "df.date[1]"
   ]
  },
  {
   "cell_type": "code",
   "execution_count": 28,
   "metadata": {},
   "outputs": [
    {
     "output_type": "execute_result",
     "data": {
      "text/plain": [
       "       Name_Indo     Name_EN     Capital  area_km2 population_2000  \\\n",
       "0         Totals      totals         NaN  5,780.06       3,146,999   \n",
       "1       Buleleng    buleleng   Singaraja  1,364.73         558.181   \n",
       "2       Jembrana    jembrana      Negara    841.80         231.806   \n",
       "3     Karangasem  karangasem    Amlapura    839.54         360.486   \n",
       "4        Tabanan     tabanan     Tabanan    839.30          376.03   \n",
       "5         Bangli      bangli      Bangli    490.71         193.776   \n",
       "6         Badung      badung   Mangupura    418.52         345.863   \n",
       "7        Gianyar     gianyar     Gianyar    368.00         393.155   \n",
       "8      Klungkung   klungkung  Semarapura    315.00         155.262   \n",
       "9  Kota Denpasar    denpasar    Denpasar    127.78          532.44   \n",
       "\n",
       "  population_2010 population_2015  HDI_2014_estimate  \\\n",
       "0       3,890,757       4,148,588       0.724 (High)   \n",
       "1         624.125         645.893     0.691 (Medium)   \n",
       "2         261.638         271.423     0.686 (Medium)   \n",
       "3         396.487         408.487     0.640 (Medium)   \n",
       "4         420.913         435.753       0.726 (High)   \n",
       "5         215.353         222.474     0.657 (Medium)   \n",
       "6         543.332         615.148       0.779 (High)   \n",
       "7         469.777         494.729       0.742 (High)   \n",
       "8         170.543         175.573     0.683 (Medium)   \n",
       "9         788.589         879.098  0.816 (Very High)   \n",
       "\n",
       "                           Gouvernor  Nr. of Sub-Districts  \\\n",
       "0                                NaN                   NaN   \n",
       "1               Putu Agus Suradnyana                   9.0   \n",
       "2                       I Putu Artha                   5.0   \n",
       "3            I Gusti Ayu Mas Sumatri                   8.0   \n",
       "4             Ni Putu Eka Wiryastuti                  10.0   \n",
       "5                     I Made Gianyar                   4.0   \n",
       "6               I Nyoman Giri Prasta                   6.0   \n",
       "7             I Made Agus Mahayastra                   7.0   \n",
       "8                   I Nyoman Suwirta                   4.0   \n",
       "9  Ida Bagus Rai Dharmawijaya Mantra                   4.0   \n",
       "\n",
       "  Nr of Keluruhan/Villages  \n",
       "0                      NaN  \n",
       "1                   19/129  \n",
       "2                    10/41  \n",
       "3                     3/75  \n",
       "4                    -/133  \n",
       "5                     4/68  \n",
       "6                    16/46  \n",
       "7                     6/64  \n",
       "8                     6/53  \n",
       "9                    16/27  "
      ],
      "text/html": "<div>\n<style scoped>\n    .dataframe tbody tr th:only-of-type {\n        vertical-align: middle;\n    }\n\n    .dataframe tbody tr th {\n        vertical-align: top;\n    }\n\n    .dataframe thead th {\n        text-align: right;\n    }\n</style>\n<table border=\"1\" class=\"dataframe\">\n  <thead>\n    <tr style=\"text-align: right;\">\n      <th></th>\n      <th>Name_Indo</th>\n      <th>Name_EN</th>\n      <th>Capital</th>\n      <th>area_km2</th>\n      <th>population_2000</th>\n      <th>population_2010</th>\n      <th>population_2015</th>\n      <th>HDI_2014_estimate</th>\n      <th>Gouvernor</th>\n      <th>Nr. of Sub-Districts</th>\n      <th>Nr of Keluruhan/Villages</th>\n    </tr>\n  </thead>\n  <tbody>\n    <tr>\n      <th>0</th>\n      <td>Totals</td>\n      <td>totals</td>\n      <td>NaN</td>\n      <td>5,780.06</td>\n      <td>3,146,999</td>\n      <td>3,890,757</td>\n      <td>4,148,588</td>\n      <td>0.724 (High)</td>\n      <td>NaN</td>\n      <td>NaN</td>\n      <td>NaN</td>\n    </tr>\n    <tr>\n      <th>1</th>\n      <td>Buleleng</td>\n      <td>buleleng</td>\n      <td>Singaraja</td>\n      <td>1,364.73</td>\n      <td>558.181</td>\n      <td>624.125</td>\n      <td>645.893</td>\n      <td>0.691 (Medium)</td>\n      <td>Putu Agus Suradnyana</td>\n      <td>9.0</td>\n      <td>19/129</td>\n    </tr>\n    <tr>\n      <th>2</th>\n      <td>Jembrana</td>\n      <td>jembrana</td>\n      <td>Negara</td>\n      <td>841.80</td>\n      <td>231.806</td>\n      <td>261.638</td>\n      <td>271.423</td>\n      <td>0.686 (Medium)</td>\n      <td>I Putu Artha</td>\n      <td>5.0</td>\n      <td>10/41</td>\n    </tr>\n    <tr>\n      <th>3</th>\n      <td>Karangasem</td>\n      <td>karangasem</td>\n      <td>Amlapura</td>\n      <td>839.54</td>\n      <td>360.486</td>\n      <td>396.487</td>\n      <td>408.487</td>\n      <td>0.640 (Medium)</td>\n      <td>I Gusti Ayu Mas Sumatri</td>\n      <td>8.0</td>\n      <td>3/75</td>\n    </tr>\n    <tr>\n      <th>4</th>\n      <td>Tabanan</td>\n      <td>tabanan</td>\n      <td>Tabanan</td>\n      <td>839.30</td>\n      <td>376.03</td>\n      <td>420.913</td>\n      <td>435.753</td>\n      <td>0.726 (High)</td>\n      <td>Ni Putu Eka Wiryastuti</td>\n      <td>10.0</td>\n      <td>-/133</td>\n    </tr>\n    <tr>\n      <th>5</th>\n      <td>Bangli</td>\n      <td>bangli</td>\n      <td>Bangli</td>\n      <td>490.71</td>\n      <td>193.776</td>\n      <td>215.353</td>\n      <td>222.474</td>\n      <td>0.657 (Medium)</td>\n      <td>I Made Gianyar</td>\n      <td>4.0</td>\n      <td>4/68</td>\n    </tr>\n    <tr>\n      <th>6</th>\n      <td>Badung</td>\n      <td>badung</td>\n      <td>Mangupura</td>\n      <td>418.52</td>\n      <td>345.863</td>\n      <td>543.332</td>\n      <td>615.148</td>\n      <td>0.779 (High)</td>\n      <td>I Nyoman Giri Prasta</td>\n      <td>6.0</td>\n      <td>16/46</td>\n    </tr>\n    <tr>\n      <th>7</th>\n      <td>Gianyar</td>\n      <td>gianyar</td>\n      <td>Gianyar</td>\n      <td>368.00</td>\n      <td>393.155</td>\n      <td>469.777</td>\n      <td>494.729</td>\n      <td>0.742 (High)</td>\n      <td>I Made Agus Mahayastra</td>\n      <td>7.0</td>\n      <td>6/64</td>\n    </tr>\n    <tr>\n      <th>8</th>\n      <td>Klungkung</td>\n      <td>klungkung</td>\n      <td>Semarapura</td>\n      <td>315.00</td>\n      <td>155.262</td>\n      <td>170.543</td>\n      <td>175.573</td>\n      <td>0.683 (Medium)</td>\n      <td>I Nyoman Suwirta</td>\n      <td>4.0</td>\n      <td>6/53</td>\n    </tr>\n    <tr>\n      <th>9</th>\n      <td>Kota Denpasar</td>\n      <td>denpasar</td>\n      <td>Denpasar</td>\n      <td>127.78</td>\n      <td>532.44</td>\n      <td>788.589</td>\n      <td>879.098</td>\n      <td>0.816 (Very High)</td>\n      <td>Ida Bagus Rai Dharmawijaya Mantra</td>\n      <td>4.0</td>\n      <td>16/27</td>\n    </tr>\n  </tbody>\n</table>\n</div>"
     },
     "metadata": {},
     "execution_count": 28
    }
   ],
   "source": [
    "# data cleaning, processing\n",
    "#------------------------\n",
    "\n",
    "# add addtitional data\n",
    "df_ref = pd.read_excel('Bali_reference_data.xlsx')\n",
    "df_ref = df_ref.drop(columns=['https://en.wikipedia.org/wiki/Bali#cite_note-BPS2019-2', 'https://sp2010.bps.go.id/index.php/site/tabel?tid=321&wid=0', 'Source'])\n",
    "df_ref['Name_EN'] = df_ref['Name_Indo'].str.casefold()\n",
    "df_ref.replace('kota denpasar', 'denpasar', inplace=True)\n",
    "\n",
    "df_ref.head(15)\n"
   ]
  },
  {
   "cell_type": "code",
   "execution_count": 29,
   "metadata": {},
   "outputs": [
    {
     "output_type": "execute_result",
     "data": {
      "text/plain": [
       "     No Kabupaten / County New PPLN / PMI new PPDN total PPDN  \\\n",
       "175   6             BANGLI              0        0          4   \n",
       "176   7          KLUNGKUNG              0        0          2   \n",
       "177   8         KARANGASEM              0        0          0   \n",
       "178   9           BULELENG              0        1         11   \n",
       "179  10  KABUPATEN LAINNYA              0        0         31   \n",
       "\n",
       "    new Transmisi Lokal total Transmisi Lokal new Lainnya total Lainnya  \\\n",
       "175                   6                   867           0             0   \n",
       "176                   1                   953           0             0   \n",
       "177                   2                  1026           0             0   \n",
       "178                  14                  1283           0             0   \n",
       "179                   0                    13           0             0   \n",
       "\n",
       "    new TOTAL  ...   Name_Indo     Capital  area_km2 population_2000  \\\n",
       "175         6  ...      Bangli      Bangli    490.71         193.776   \n",
       "176         1  ...   Klungkung  Semarapura    315.00         155.262   \n",
       "177         2  ...  Karangasem    Amlapura    839.54         360.486   \n",
       "178        15  ...    Buleleng   Singaraja  1,364.73         558.181   \n",
       "179         0  ...         NaN         NaN       NaN             NaN   \n",
       "\n",
       "    population_2010 population_2015 HDI_2014_estimate  \\\n",
       "175         215.353         222.474    0.657 (Medium)   \n",
       "176         170.543         175.573    0.683 (Medium)   \n",
       "177         396.487         408.487    0.640 (Medium)   \n",
       "178         624.125         645.893    0.691 (Medium)   \n",
       "179             NaN             NaN               NaN   \n",
       "\n",
       "                   Gouvernor Nr. of Sub-Districts Nr of Keluruhan/Villages  \n",
       "175           I Made Gianyar                  4.0                     4/68  \n",
       "176         I Nyoman Suwirta                  4.0                     6/53  \n",
       "177  I Gusti Ayu Mas Sumatri                  8.0                     3/75  \n",
       "178     Putu Agus Suradnyana                  9.0                   19/129  \n",
       "179                      NaN                  NaN                      NaN  \n",
       "\n",
       "[5 rows x 32 columns]"
      ],
      "text/html": "<div>\n<style scoped>\n    .dataframe tbody tr th:only-of-type {\n        vertical-align: middle;\n    }\n\n    .dataframe tbody tr th {\n        vertical-align: top;\n    }\n\n    .dataframe thead th {\n        text-align: right;\n    }\n</style>\n<table border=\"1\" class=\"dataframe\">\n  <thead>\n    <tr style=\"text-align: right;\">\n      <th></th>\n      <th>No</th>\n      <th>Kabupaten / County</th>\n      <th>New PPLN / PMI</th>\n      <th>new PPDN</th>\n      <th>total PPDN</th>\n      <th>new Transmisi Lokal</th>\n      <th>total Transmisi Lokal</th>\n      <th>new Lainnya</th>\n      <th>total Lainnya</th>\n      <th>new TOTAL</th>\n      <th>...</th>\n      <th>Name_Indo</th>\n      <th>Capital</th>\n      <th>area_km2</th>\n      <th>population_2000</th>\n      <th>population_2010</th>\n      <th>population_2015</th>\n      <th>HDI_2014_estimate</th>\n      <th>Gouvernor</th>\n      <th>Nr. of Sub-Districts</th>\n      <th>Nr of Keluruhan/Villages</th>\n    </tr>\n  </thead>\n  <tbody>\n    <tr>\n      <th>175</th>\n      <td>6</td>\n      <td>BANGLI</td>\n      <td>0</td>\n      <td>0</td>\n      <td>4</td>\n      <td>6</td>\n      <td>867</td>\n      <td>0</td>\n      <td>0</td>\n      <td>6</td>\n      <td>...</td>\n      <td>Bangli</td>\n      <td>Bangli</td>\n      <td>490.71</td>\n      <td>193.776</td>\n      <td>215.353</td>\n      <td>222.474</td>\n      <td>0.657 (Medium)</td>\n      <td>I Made Gianyar</td>\n      <td>4.0</td>\n      <td>4/68</td>\n    </tr>\n    <tr>\n      <th>176</th>\n      <td>7</td>\n      <td>KLUNGKUNG</td>\n      <td>0</td>\n      <td>0</td>\n      <td>2</td>\n      <td>1</td>\n      <td>953</td>\n      <td>0</td>\n      <td>0</td>\n      <td>1</td>\n      <td>...</td>\n      <td>Klungkung</td>\n      <td>Semarapura</td>\n      <td>315.00</td>\n      <td>155.262</td>\n      <td>170.543</td>\n      <td>175.573</td>\n      <td>0.683 (Medium)</td>\n      <td>I Nyoman Suwirta</td>\n      <td>4.0</td>\n      <td>6/53</td>\n    </tr>\n    <tr>\n      <th>177</th>\n      <td>8</td>\n      <td>KARANGASEM</td>\n      <td>0</td>\n      <td>0</td>\n      <td>0</td>\n      <td>2</td>\n      <td>1026</td>\n      <td>0</td>\n      <td>0</td>\n      <td>2</td>\n      <td>...</td>\n      <td>Karangasem</td>\n      <td>Amlapura</td>\n      <td>839.54</td>\n      <td>360.486</td>\n      <td>396.487</td>\n      <td>408.487</td>\n      <td>0.640 (Medium)</td>\n      <td>I Gusti Ayu Mas Sumatri</td>\n      <td>8.0</td>\n      <td>3/75</td>\n    </tr>\n    <tr>\n      <th>178</th>\n      <td>9</td>\n      <td>BULELENG</td>\n      <td>0</td>\n      <td>1</td>\n      <td>11</td>\n      <td>14</td>\n      <td>1283</td>\n      <td>0</td>\n      <td>0</td>\n      <td>15</td>\n      <td>...</td>\n      <td>Buleleng</td>\n      <td>Singaraja</td>\n      <td>1,364.73</td>\n      <td>558.181</td>\n      <td>624.125</td>\n      <td>645.893</td>\n      <td>0.691 (Medium)</td>\n      <td>Putu Agus Suradnyana</td>\n      <td>9.0</td>\n      <td>19/129</td>\n    </tr>\n    <tr>\n      <th>179</th>\n      <td>10</td>\n      <td>KABUPATEN LAINNYA</td>\n      <td>0</td>\n      <td>0</td>\n      <td>31</td>\n      <td>0</td>\n      <td>13</td>\n      <td>0</td>\n      <td>0</td>\n      <td>0</td>\n      <td>...</td>\n      <td>NaN</td>\n      <td>NaN</td>\n      <td>NaN</td>\n      <td>NaN</td>\n      <td>NaN</td>\n      <td>NaN</td>\n      <td>NaN</td>\n      <td>NaN</td>\n      <td>NaN</td>\n      <td>NaN</td>\n    </tr>\n  </tbody>\n</table>\n<p>5 rows × 32 columns</p>\n</div>"
     },
     "metadata": {},
     "execution_count": 29
    }
   ],
   "source": [
    "# merge both df on 'Name_EN'\n",
    "df_merged = df.merge(df_ref, on=\"Name_EN\", how='left')\n",
    "\n",
    "\n",
    "df_merged.tail()"
   ]
  },
  {
   "cell_type": "code",
   "execution_count": null,
   "metadata": {},
   "outputs": [],
   "source": [
    "## adding 7 day rolling average (cases and deaths)\n",
    "# cases per 100k\n",
    ")\n",
    "\n",
    "df['cases_per_100k'] =\n",
    "df['deaths_per_100k'] = \n",
    "\n",
    "\n",
    "df['cases7_per_100k'] = df['cases_per_100k'].rolling(window= 7, center=False).mean()"
   ]
  },
  {
   "cell_type": "code",
   "execution_count": 7,
   "metadata": {},
   "outputs": [],
   "source": [
    "df.to_csv('dailyCasesTest.csv')"
   ]
  },
  {
   "cell_type": "code",
   "execution_count": null,
   "metadata": {},
   "outputs": [],
   "source": [
    "# adjust Names of Regency to those of GeoJson\n",
    "\n",
    "# add feature.id from geojson\n",
    "\n",
    "# same cases_per_100k, cases7_per_100k, mortality (see indo_time_series as blueprint)\n",
    "\n"
   ]
  }
 ]
}