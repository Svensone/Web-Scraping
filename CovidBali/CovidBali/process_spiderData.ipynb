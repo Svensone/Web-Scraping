{
 "metadata": {
  "language_info": {
   "codemirror_mode": {
    "name": "ipython",
    "version": 3
   },
   "file_extension": ".py",
   "mimetype": "text/x-python",
   "name": "python",
   "nbconvert_exporter": "python",
   "pygments_lexer": "ipython3",
   "version": "3.7.6-final"
  },
  "orig_nbformat": 2,
  "kernelspec": {
   "name": "python3",
   "display_name": "Python 3",
   "language": "python"
  }
 },
 "nbformat": 4,
 "nbformat_minor": 2,
 "cells": [
  {
   "cell_type": "code",
   "execution_count": 2,
   "metadata": {},
   "outputs": [],
   "source": [
    "import pandas as pd\n",
    "import json"
   ]
  },
  {
   "cell_type": "code",
   "execution_count": 3,
   "metadata": {},
   "outputs": [],
   "source": [
    "json_file = json.load(open('CovidBali/dailyCases.json', 'r'))"
   ]
  },
  {
   "cell_type": "code",
   "execution_count": 9,
   "metadata": {},
   "outputs": [
    {
     "output_type": "execute_result",
     "data": {
      "text/plain": [
       "range(0, 14)"
      ]
     },
     "metadata": {},
     "execution_count": 9
    }
   ],
   "source": [
    "range(len(json_file))"
   ]
  },
  {
   "cell_type": "code",
   "execution_count": 23,
   "metadata": {},
   "outputs": [],
   "source": [
    "# w1= json_file[0]\n",
    "# w1[0]['data']"
   ]
  },
  {
   "cell_type": "code",
   "execution_count": 32,
   "metadata": {
    "tags": []
   },
   "outputs": [
    {
     "output_type": "stream",
     "name": "stdout",
     "text": [
      "['2', 'TABANAN', '0', '21', '2', '10', '23', '1466', '0', '0', '25', '1497', ' 05 Dec 2020']\n['2', 'TABANAN', '-10', '434', '35', '1016', '0', '47', '25', '1497', ' 05 Dec 2020']\n['2', 'TABANAN', '0', '21', '1', '11', '45', '1511', '0', '0', '46', '1543', '06 Dec 2020']\n['2', 'TABANAN', '26', '460', '20', '1036', '0', '47', '46', '1543', '06 Dec 2020']\n['2', 'TABANAN', '0', '21', '0', '11', '8', '1519', '0', '0', '8', '1551', '07 Dec 2020']\n['2', 'TABANAN', '-211', '249', '219', '1255', '0', '47', '8', '1551', '07 Dec 2020']\n['2', 'TABANAN', '0', '21', '0', '11', '7', '1526', '0', '0', '7', '1558', ' 08 Dec 2020']\n['2', 'TABANAN', '-58', '191', '65', '1320', '0', '47', '7', '1558', ' 08 Dec 2020']\n['2', 'TABANAN', '0', '21', '-2', '9', '33', '1559', '0', '0', '31', '1589', ' 09 Dec 2020']\n['2', 'TABANAN', '2', '193', '26', '1346', '3', '50', '31', '1589', ' 09 Dec 2020']\n['2', 'TABANAN', '0', '21', '0', '9', '19', '1578', '0', '0', '19', '1608', '10 Dec 2020']\n['2', 'TABANAN', '-18', '175', '35', '1381', '2', '52', '19', '1608', '10 Dec 2020']\n['2', 'TABANAN', '0', '21', '-1', '8', '22', '1600', '0', '0', '21', '1629', '11 Dec 2020']\n['2', 'TABANAN', '-12', '163', '33', '1414', '0', '52', '21', '1629', '11 Dec 2020']\n['2', 'TABANAN', '0', '21', '0', '8', '5', '1605', '0', '0', '5', '1634', '12 Dec 2020']\n['2', 'TABANAN', '-7', '156', '11', '1425', '1', '53', '5', '1634', '12 Dec 2020']\n['2', 'TABANAN', '0', '21', '0', '8', '13', '1618', '0', '0', '13', '1647', '13 Dec 2020']\n['2', 'TABANAN', '-1', '155', '13', '1438', '1', '54', '13', '1647', '13 Dec 2020']\n['2', 'TABANAN', '0', '21', '0', '8', '6', '1624', '0', '0', '6', '1653', ' 14 Dec 2020']\n['2', 'TABANAN', '-20', '135', '26', '1464', '0', '54', '6', '1653', ' 14 Dec 2020']\n['2', 'TABANAN', '0', '21', '0', '8', '10', '1634', '0', '0', '10', '1663', '15 Dec 2020']\n['2', 'TABANAN', '-16', '119', '26', '1490', '0', '54', '10', '1663', '15 Dec 2020']\n['2', 'TABANAN', '0', '21', '0', '8', '10', '1634', '0', '0', '10', '1663', '16 Dec 2020']\n['2', 'TABANAN', '-16', '119', '26', '1490', '0', '54', '10', '1663', '16 Dec 2020']\n['2', 'TABANAN', '0', '21', '0', '9', '32', '1700', '0', '0', '32', '1730', '17 Dec 2020']\n['2', 'TABANAN', '4', '137', '27', '1538', '1', '55', '32', '1730', '17 Dec 2020']\n['2', 'TABANAN', '0', '21', '0', '9', '20', '1720', '0', '0', '20', '1750', ' 18 Dec 2020']\n['2', 'TABANAN', '7', '144', '10', '1548', '3', '58', '20', '1750', ' 18 Dec 2020']\n"
     ]
    },
    {
     "output_type": "execute_result",
     "data": {
      "text/plain": [
       "[]"
      ]
     },
     "metadata": {},
     "execution_count": 32
    }
   ],
   "source": [
    "json_file[0]\n",
    "data = []\n",
    "\n",
    "for date in json_file:\n",
    "    for x in date:\n",
    "        y = x['data'][0] = x['data']       \n",
    "        print(x['data'][1])\n",
    "    # print(date[0]['data'] + date[1]['data'])\n",
    "\n",
    "    # for x in date:\n",
    "    #     for data1 in range(len(x)):\n",
    "    #         print(data1)\n",
    "    # print(date[0]['data'][0])\n",
    "    # for x in range(0, 14):\n",
    "    #     data1 = (date[0]['data'][x] + date[1]['data'][x])\n",
    "    #     data.append(data1)\n",
    "data[:2]"
   ]
  },
  {
   "cell_type": "code",
   "execution_count": 5,
   "metadata": {},
   "outputs": [],
   "source": [
    "## Column names from https://infocorona.baliprov.go.id/API/pendataan/laporan-harian-01.php and ...-02.php\n",
    "\n",
    "list_1 = [\n",
    "    'No', 'Kabupaten / County', 'New PPLN / PMI', 'New PPLN / PMI', 'new PPDN', 'total PPDN',\t'new Transmisi Lokal', 'total Transmisi Lokal',\t'new Lainnya', 'total Lainnya', 'new TOTAL' ,'total TOTAL', 'Date'\n",
    "]\n",
    "\n",
    "list_2 = ['No', 'Kabupaten / County', 'New Masih Perawatan', 'total Masih Perawatan', 'New Sembuh Covid', 'Total Sembuh Covid', 'New Meninggal', 'total Meninggal', 'new Total', 'total Total', 'Date']\n",
    "\n",
    "\n",
    "list_column_names = list_1 + list_2\n",
    "# print(list_column_names)"
   ]
  },
  {
   "cell_type": "code",
   "execution_count": 6,
   "metadata": {},
   "outputs": [
    {
     "output_type": "execute_result",
     "data": {
      "text/plain": [
       "  No Kabupaten / County New PPLN / PMI New PPLN / PMI new PPDN total PPDN  \\\n",
       "0  1           JEMBRANA              0             26        0         11   \n",
       "1  2            TABANAN              0             21        2         10   \n",
       "2  3             BADUNG              0             27        0          4   \n",
       "3  4           DENPASAR              0             48       -1         22   \n",
       "4  5            GIANYAR              0             29       -1         10   \n",
       "\n",
       "  new Transmisi Lokal total Transmisi Lokal new Lainnya total Lainnya  ...  \\\n",
       "0                   1                   626           0             0  ...   \n",
       "1                  23                  1466           0             0  ...   \n",
       "2                  18                  2478           0             0  ...   \n",
       "3                  28                  3891           0             0  ...   \n",
       "4                  16                  1951           0             0  ...   \n",
       "\n",
       "  Kabupaten / County New Masih Perawatan total Masih Perawatan  \\\n",
       "0           JEMBRANA                  -7                    70   \n",
       "1            TABANAN                 -10                   434   \n",
       "2             BADUNG                  -9                   159   \n",
       "3           DENPASAR                   1                   166   \n",
       "4            GIANYAR                 -16                   234   \n",
       "\n",
       "  New Sembuh Covid Total Sembuh Covid New Meninggal total Meninggal new Total  \\\n",
       "0                7                579             1              14         1   \n",
       "1               35               1016             0              47        25   \n",
       "2               27               2299             0              51        18   \n",
       "3               26               3705             0              90        27   \n",
       "4               31               1681             0              75        15   \n",
       "\n",
       "  total Total          Date  \n",
       "0         663   05 Dec 2020  \n",
       "1        1497   05 Dec 2020  \n",
       "2        2509   05 Dec 2020  \n",
       "3        3961   05 Dec 2020  \n",
       "4        1990   05 Dec 2020  \n",
       "\n",
       "[5 rows x 24 columns]"
      ],
      "text/html": "<div>\n<style scoped>\n    .dataframe tbody tr th:only-of-type {\n        vertical-align: middle;\n    }\n\n    .dataframe tbody tr th {\n        vertical-align: top;\n    }\n\n    .dataframe thead th {\n        text-align: right;\n    }\n</style>\n<table border=\"1\" class=\"dataframe\">\n  <thead>\n    <tr style=\"text-align: right;\">\n      <th></th>\n      <th>No</th>\n      <th>Kabupaten / County</th>\n      <th>New PPLN / PMI</th>\n      <th>New PPLN / PMI</th>\n      <th>new PPDN</th>\n      <th>total PPDN</th>\n      <th>new Transmisi Lokal</th>\n      <th>total Transmisi Lokal</th>\n      <th>new Lainnya</th>\n      <th>total Lainnya</th>\n      <th>...</th>\n      <th>Kabupaten / County</th>\n      <th>New Masih Perawatan</th>\n      <th>total Masih Perawatan</th>\n      <th>New Sembuh Covid</th>\n      <th>Total Sembuh Covid</th>\n      <th>New Meninggal</th>\n      <th>total Meninggal</th>\n      <th>new Total</th>\n      <th>total Total</th>\n      <th>Date</th>\n    </tr>\n  </thead>\n  <tbody>\n    <tr>\n      <th>0</th>\n      <td>1</td>\n      <td>JEMBRANA</td>\n      <td>0</td>\n      <td>26</td>\n      <td>0</td>\n      <td>11</td>\n      <td>1</td>\n      <td>626</td>\n      <td>0</td>\n      <td>0</td>\n      <td>...</td>\n      <td>JEMBRANA</td>\n      <td>-7</td>\n      <td>70</td>\n      <td>7</td>\n      <td>579</td>\n      <td>1</td>\n      <td>14</td>\n      <td>1</td>\n      <td>663</td>\n      <td>05 Dec 2020</td>\n    </tr>\n    <tr>\n      <th>1</th>\n      <td>2</td>\n      <td>TABANAN</td>\n      <td>0</td>\n      <td>21</td>\n      <td>2</td>\n      <td>10</td>\n      <td>23</td>\n      <td>1466</td>\n      <td>0</td>\n      <td>0</td>\n      <td>...</td>\n      <td>TABANAN</td>\n      <td>-10</td>\n      <td>434</td>\n      <td>35</td>\n      <td>1016</td>\n      <td>0</td>\n      <td>47</td>\n      <td>25</td>\n      <td>1497</td>\n      <td>05 Dec 2020</td>\n    </tr>\n    <tr>\n      <th>2</th>\n      <td>3</td>\n      <td>BADUNG</td>\n      <td>0</td>\n      <td>27</td>\n      <td>0</td>\n      <td>4</td>\n      <td>18</td>\n      <td>2478</td>\n      <td>0</td>\n      <td>0</td>\n      <td>...</td>\n      <td>BADUNG</td>\n      <td>-9</td>\n      <td>159</td>\n      <td>27</td>\n      <td>2299</td>\n      <td>0</td>\n      <td>51</td>\n      <td>18</td>\n      <td>2509</td>\n      <td>05 Dec 2020</td>\n    </tr>\n    <tr>\n      <th>3</th>\n      <td>4</td>\n      <td>DENPASAR</td>\n      <td>0</td>\n      <td>48</td>\n      <td>-1</td>\n      <td>22</td>\n      <td>28</td>\n      <td>3891</td>\n      <td>0</td>\n      <td>0</td>\n      <td>...</td>\n      <td>DENPASAR</td>\n      <td>1</td>\n      <td>166</td>\n      <td>26</td>\n      <td>3705</td>\n      <td>0</td>\n      <td>90</td>\n      <td>27</td>\n      <td>3961</td>\n      <td>05 Dec 2020</td>\n    </tr>\n    <tr>\n      <th>4</th>\n      <td>5</td>\n      <td>GIANYAR</td>\n      <td>0</td>\n      <td>29</td>\n      <td>-1</td>\n      <td>10</td>\n      <td>16</td>\n      <td>1951</td>\n      <td>0</td>\n      <td>0</td>\n      <td>...</td>\n      <td>GIANYAR</td>\n      <td>-16</td>\n      <td>234</td>\n      <td>31</td>\n      <td>1681</td>\n      <td>0</td>\n      <td>75</td>\n      <td>15</td>\n      <td>1990</td>\n      <td>05 Dec 2020</td>\n    </tr>\n  </tbody>\n</table>\n<p>5 rows × 24 columns</p>\n</div>"
     },
     "metadata": {},
     "execution_count": 6
    }
   ],
   "source": [
    "df = pd.DataFrame(data, columns= list_column_names)\n",
    "df.head()"
   ]
  },
  {
   "cell_type": "code",
   "execution_count": null,
   "metadata": {},
   "outputs": [],
   "source": [
    "## adding 7 day rolling average (cases and deaths)\n",
    "# cases per 100k\n",
    "df_ref = pd.read_excel('Bali_reference_data.xlsx')\n",
    "\n",
    "df['cases_per_100k'] =\n",
    "df['deaths_per_100k'] = \n",
    "\n",
    "\n",
    "df['cases7_per_100k'] = df['cases_per_100k'].rolling(window= 7, center=False).mean()"
   ]
  },
  {
   "cell_type": "code",
   "execution_count": 7,
   "metadata": {},
   "outputs": [],
   "source": [
    "df.to_csv('dailyCasesTest.csv')"
   ]
  },
  {
   "cell_type": "code",
   "execution_count": null,
   "metadata": {},
   "outputs": [],
   "source": [
    "# adjust Names of Regency to those of GeoJson\n",
    "\n",
    "# add feature.id from geojson\n",
    "\n",
    "# same cases_per_100k, cases7_per_100k, mortality (see indo_time_series as blueprint)\n",
    "\n"
   ]
  }
 ]
}