{
 "metadata": {
  "language_info": {
   "codemirror_mode": {
    "name": "ipython",
    "version": 3
   },
   "file_extension": ".py",
   "mimetype": "text/x-python",
   "name": "python",
   "nbconvert_exporter": "python",
   "pygments_lexer": "ipython3",
   "version": "3.7.6-final"
  },
  "orig_nbformat": 2,
  "kernelspec": {
   "name": "python3",
   "display_name": "Python 3"
  }
 },
 "nbformat": 4,
 "nbformat_minor": 2,
 "cells": [
  {
   "cell_type": "code",
   "execution_count": 4,
   "metadata": {},
   "outputs": [
    {
     "output_type": "stream",
     "name": "stdout",
     "text": [
      "\nNote: you may need to restart the kernel to use updated packages.\n"
     ]
    }
   ],
   "source": [
    "conda install -c conda-forge geopandas"
   ]
  },
  {
   "cell_type": "code",
   "execution_count": 2,
   "metadata": {},
   "outputs": [],
   "source": [
    "import plotly\n",
    "\n",
    "import json\n",
    "import numpy as np\n",
    "import pandas as pd\n",
    "\n",
    "import plotly.express as px\n",
    "\n",
    "# import geopandas as gpd"
   ]
  },
  {
   "cell_type": "code",
   "execution_count": 21,
   "metadata": {},
   "outputs": [],
   "source": [
    "## plotting plotly in browser\n",
    "\n",
    "# import plotly.io as pio\n",
    "# pio.renderers.default = 'browser'"
   ]
  },
  {
   "cell_type": "code",
   "execution_count": 3,
   "metadata": {},
   "outputs": [
    {
     "output_type": "stream",
     "name": "stdout",
     "text": [
      "4.13.0\n"
     ]
    }
   ],
   "source": [
    "print(plotly.__version__)"
   ]
  },
  {
   "cell_type": "code",
   "execution_count": 3,
   "metadata": {},
   "outputs": [],
   "source": [
    "# print(geopandas.__version__)"
   ]
  },
  {
   "cell_type": "code",
   "execution_count": 40,
   "metadata": {},
   "outputs": [],
   "source": [
    "##. 1 GeoJSON\n",
    "indo_states = json.load(open('indo_geo.json', 'r'))"
   ]
  },
  {
   "cell_type": "code",
   "execution_count": 36,
   "metadata": {},
   "outputs": [
    {
     "output_type": "execute_result",
     "data": {
      "text/plain": [
       "{'Shape_Leng': 27.3673635506,\n",
       " 'Shape_Area': 4.62543727674,\n",
       " 'ADM1_EN': 'Aceh',\n",
       " 'ADM1_PCODE': 'ID11',\n",
       " 'ADM1_REF': None,\n",
       " 'ADM1ALT1EN': None,\n",
       " 'ADM1ALT2EN': None,\n",
       " 'ADM0_EN': 'Indonesia',\n",
       " 'ADM0_PCODE': 'ID',\n",
       " 'date': '2019-12-20',\n",
       " 'validOn': '2020-04-01',\n",
       " 'validTo': None}"
      ]
     },
     "metadata": {},
     "execution_count": 36
    }
   ],
   "source": [
    "# for i in indo_states['features']:\n",
    "#     print(i['properties'])\n",
    "indo_states['features'][0]['properties']"
   ]
  },
  {
   "cell_type": "code",
   "execution_count": 20,
   "metadata": {},
   "outputs": [],
   "source": [
    "indo_states_map = {}\n",
    "\n",
    "for state in indo_states['features']:\n",
    "    state['id'] = state['properties'][\"ADM1_PCODE\"]\n",
    "    indo_states_map[state['properties']['ADM1_EN']] = state['id']\n",
    "\n",
    "# indo_states_map"
   ]
  },
  {
   "cell_type": "code",
   "execution_count": 18,
   "metadata": {},
   "outputs": [
    {
     "output_type": "execute_result",
     "data": {
      "text/plain": [
       "            X         Y  FID  Kode_Provi        Provinsi  Kasus_Posi  \\\n",
       "0   96.909523  4.225082    1          11            Aceh        8199   \n",
       "1   99.057888  2.184779    2          12  Sumatera Utara       13277   \n",
       "2  100.466805 -0.851914    3          13  Sumatera Barat       14940   \n",
       "3  101.812892  0.510526    4          14            Riau       14841   \n",
       "4  103.599320 -1.617750    5          15           Jambi        1735   \n",
       "\n",
       "   Kasus_Semb  Kasus_Meni ADM1_PCODE  \n",
       "0        6550         311       ID11  \n",
       "1       10846         542       ID12  \n",
       "2       10764         270       ID13  \n",
       "3       11490         340       ID14  \n",
       "4        1256          36       ID15  "
      ],
      "text/html": "<div>\n<style scoped>\n    .dataframe tbody tr th:only-of-type {\n        vertical-align: middle;\n    }\n\n    .dataframe tbody tr th {\n        vertical-align: top;\n    }\n\n    .dataframe thead th {\n        text-align: right;\n    }\n</style>\n<table border=\"1\" class=\"dataframe\">\n  <thead>\n    <tr style=\"text-align: right;\">\n      <th></th>\n      <th>X</th>\n      <th>Y</th>\n      <th>FID</th>\n      <th>Kode_Provi</th>\n      <th>Provinsi</th>\n      <th>Kasus_Posi</th>\n      <th>Kasus_Semb</th>\n      <th>Kasus_Meni</th>\n      <th>ADM1_PCODE</th>\n    </tr>\n  </thead>\n  <tbody>\n    <tr>\n      <th>0</th>\n      <td>96.909523</td>\n      <td>4.225082</td>\n      <td>1</td>\n      <td>11</td>\n      <td>Aceh</td>\n      <td>8199</td>\n      <td>6550</td>\n      <td>311</td>\n      <td>ID11</td>\n    </tr>\n    <tr>\n      <th>1</th>\n      <td>99.057888</td>\n      <td>2.184779</td>\n      <td>2</td>\n      <td>12</td>\n      <td>Sumatera Utara</td>\n      <td>13277</td>\n      <td>10846</td>\n      <td>542</td>\n      <td>ID12</td>\n    </tr>\n    <tr>\n      <th>2</th>\n      <td>100.466805</td>\n      <td>-0.851914</td>\n      <td>3</td>\n      <td>13</td>\n      <td>Sumatera Barat</td>\n      <td>14940</td>\n      <td>10764</td>\n      <td>270</td>\n      <td>ID13</td>\n    </tr>\n    <tr>\n      <th>3</th>\n      <td>101.812892</td>\n      <td>0.510526</td>\n      <td>4</td>\n      <td>14</td>\n      <td>Riau</td>\n      <td>14841</td>\n      <td>11490</td>\n      <td>340</td>\n      <td>ID14</td>\n    </tr>\n    <tr>\n      <th>4</th>\n      <td>103.599320</td>\n      <td>-1.617750</td>\n      <td>5</td>\n      <td>15</td>\n      <td>Jambi</td>\n      <td>1735</td>\n      <td>1256</td>\n      <td>36</td>\n      <td>ID15</td>\n    </tr>\n  </tbody>\n</table>\n</div>"
     },
     "metadata": {},
     "execution_count": 18
    }
   ],
   "source": [
    "## 2. get covid data on province level\n",
    "\n",
    "df = pd.read_csv('indo-cases.csv')\n",
    "df.head()\n",
    "\n",
    "## adjust names in df to match names in indo_states_map\n",
    "df = df.replace('Bangka Belitung', 'Kepulauan Bangka Belitung')\n",
    "df = df.replace(\"DKI Jakarta\", 'Dki Jakarta')\n",
    "\n",
    "## drop row 'Indonesia' \n",
    "df = df.drop(index=34)\n",
    "## add column id with 'ids' from indo-state-map list\n",
    "df['ADM1_PCODE'] = df['Provinsi'].apply(lambda x: indo_states_map[x])\n",
    "df.head()\n"
   ]
  },
  {
   "cell_type": "code",
   "execution_count": 44,
   "metadata": {},
   "outputs": [],
   "source": [
    "# Step 3 : Visualization\n",
    "\n",
    "## Option 1 : using featureidkey\n",
    "\n",
    "fig = px.choropleth(df, geojson=indo_states, color=\"Kasus_Posi\",\n",
    "                    locations=\"ADM1_PCODE\", featureidkey=\"properties.ADM1_PCODE\",\n",
    "                    projection=\"mercator\"\n",
    "                   )\n",
    "fig.update_geos(fitbounds=\"locations\", visible=False)\n",
    "# fig.update_layout(margin={\"r\":0,\"t\":0,\"l\":0,\"b\":0})\n",
    "fig.show()\n"
   ]
  },
  {
   "cell_type": "code",
   "execution_count": 46,
   "metadata": {},
   "outputs": [],
   "source": [
    "fig2 = px.choropleth_mapbox(df, geojson=indo_states, \n",
    "color= 'Kasus_Meni', locations='ADM1_PCODE', featureidkey='properties.ADM1_PCODE',\n",
    "hover_name= 'Provinsi', hover_data=['Kasus_Posi', 'Kasus_Meni'], \n",
    "title='Covid Cases in Indonesia per Province',\n",
    "mapbox_style = 'carto-positron',\n",
    "zoom = 3,\n",
    "opacity=0.5,)\n",
    "\n",
    "fig2.update_geos(lataxis_showgrid=True, lonaxis_showgrid= True, # shows longitude and latitude lines\n",
    "fitbounds = 'locations', visible = False # set center of fig to locations of geojson and all other physical attribute(like lakes, rivers etc. to not-visible)\n",
    ")\n",
    "\n",
    "fig2.update_layout()\n",
    "\n",
    "fig2.show()"
   ]
  },
  {
   "cell_type": "code",
   "execution_count": null,
   "metadata": {},
   "outputs": [],
   "source": []
  }
 ]
}